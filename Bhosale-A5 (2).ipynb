{
 "cells": [
  {
   "cell_type": "markdown",
   "metadata": {},
   "source": [
    "# A5 1-D and 2-D Convolutional Neural Networks in Pytorch\n",
    "\n",
    "\n",
    "## Vishwajeet Bhosale (CSU ID - 831303684)\n",
    "\n",
    "In this assignment, you will experiment with the given convolutional neural network for 2-dimensional input samples (images), in class `CNN2D`, by applying it to the MNIST data.  You will also define a new class for handling 1-dimensional input samples, called `CNN1D`, that extends `CNN2D`."
   ]
  },
  {
   "cell_type": "code",
   "execution_count": 49,
   "metadata": {},
   "outputs": [],
   "source": [
    "import numpy as np\n",
    "import torch\n",
    "import pandas\n",
    "\n",
    "import matplotlib.pyplot as plt"
   ]
  },
  {
   "cell_type": "markdown",
   "metadata": {},
   "source": [
    "## `CNN2D` class"
   ]
  },
  {
   "cell_type": "markdown",
   "metadata": {},
   "source": [
    "Here is a definition of `CNN2D`."
   ]
  },
  {
   "cell_type": "code",
   "execution_count": 50,
   "metadata": {},
   "outputs": [],
   "source": [
    "import numpy as np\n",
    "import torch\n",
    "\n",
    "\n",
    "class CNN2D(torch.nn.Module):\n",
    "\n",
    "    def __init__(self, n_inputs, n_hiddens_per_conv_layer, n_hiddens_per_fc_layer, n_outputs,\n",
    "                 patch_size_per_conv_layer, stride_per_conv_layer, activation_function='tanh', device='cpu'):\n",
    "\n",
    "        super().__init__()\n",
    "\n",
    "        self.device = device\n",
    "\n",
    "        n_conv_layers = len(n_hiddens_per_conv_layer)\n",
    "        if (len(patch_size_per_conv_layer) != n_conv_layers\n",
    "            or len(stride_per_conv_layer) != n_conv_layers):\n",
    "            raise Exception('The lengths of n_hiddens_per_conv_layer, patch_size_per_conv_layer, and stride_per_conv_layer must be equal.')\n",
    "\n",
    "        self.activation_function = torch.tanh if activation_function == 'tanh' else torch.relu\n",
    "\n",
    "        self.make_conv_and_fc_layers(n_inputs, n_hiddens_per_conv_layer, n_hiddens_per_fc_layer, n_outputs,\n",
    "                                     patch_size_per_conv_layer, stride_per_conv_layer)\n",
    "        \n",
    "        self.Xmeans = None\n",
    "        self.to(self.device)\n",
    "\n",
    "    def make_conv_and_fc_layers(self, n_inputs, n_hiddens_per_conv_layer, n_hiddens_per_fc_layer, n_outputs,\n",
    "                                patch_size_per_conv_layer, stride_per_conv_layer):\n",
    "                # Create all convolutional layers\n",
    "        # First argument to first Conv2d is number of channels for each pixel.\n",
    "        # Just 1 for our grayscale images.\n",
    "        n_in = 1\n",
    "        input_hw = int(np.sqrt(n_inputs))  # original input image height (=width because image assumed square)\n",
    "        self.conv_layers = torch.nn.ModuleList()\n",
    "        layeri = 0\n",
    "        for nh, patch_size, stride in zip(n_hiddens_per_conv_layer,\n",
    "                                          patch_size_per_conv_layer,\n",
    "                                          stride_per_conv_layer):\n",
    "            self.conv_layers.append(torch.nn.Conv2d(n_in, nh, kernel_size=patch_size, stride=stride))\n",
    "            conv_layer_output_hw = (input_hw - patch_size) // stride + 1\n",
    "            if conv_layer_output_hw <= 0:\n",
    "                raise Exception(f'''For conv layer {layeri}, input_hw of {input_hw} is less than patch_size {patch_size}.\n",
    "Try reducing the patch_size for this layer or for the previous layer.''')\n",
    "            input_hw = conv_layer_output_hw  # for next trip through this loop\n",
    "            n_in = nh\n",
    "            layeri += 1\n",
    "           \n",
    "        # Create all fully connected layers.  First must determine number of inputs to first\n",
    "        # fully-connected layer that results from flattening the images coming out of the last\n",
    "        # convolutional layer.\n",
    "        n_in = input_hw ** 2 * n_in\n",
    "        self.fc_layers = torch.nn.ModuleList()\n",
    "        for nh in n_hiddens_per_fc_layer:\n",
    "            self.fc_layers.append(torch.nn.Linear(n_in, nh))\n",
    "            n_in = nh\n",
    "        self.fc_layers.append(torch.nn.Linear(n_in, n_outputs))\n",
    "\n",
    "    def forward_all_outputs(self, X):\n",
    "        n_samples = X.shape[0]\n",
    "        Ys = [X]\n",
    "        for conv_layer in self.conv_layers:\n",
    "            Ys.append(self.activation_function(conv_layer(Ys[-1])))\n",
    "\n",
    "        flattened_input = Ys[-1].reshape(n_samples, -1)\n",
    "\n",
    "        for layeri, fc_layer in enumerate(self.fc_layers[:-1]):\n",
    "            if layeri == 0:\n",
    "                Ys.append(self.activation_function(fc_layer(flattened_input)))\n",
    "            else:\n",
    "                Ys.append(self.activation_function(fc_layer(Ys[-1])))\n",
    "\n",
    "        if len(self.fc_layers) == 1:\n",
    "            # only the output layer\n",
    "            Ys.append(self.fc_layers[-1](flattened_input))\n",
    "        else:\n",
    "            Ys.append(self.fc_layers[-1](Ys[-1]))\n",
    "\n",
    "        return Ys\n",
    "\n",
    "    def forward(self, X):\n",
    "        Ys = self.forward_all_outputs(X)\n",
    "        return Ys[-1]\n",
    "\n",
    "    def train(self, X, T, batch_size, n_epochs, learning_rate, method='sgd', verbose=True):\n",
    "        '''X and T must be numpy arrays'''\n",
    "\n",
    "        self.classes = np.unique(T)\n",
    "        T = np.arange(len(self.classes))[np.where(T.reshape(-1, 1) == self.classes)[1]]\n",
    "\n",
    "        # Set data matrices to torch.tensors\n",
    "        X = torch.from_numpy(X).float().to(self.device)\n",
    "        T = torch.from_numpy(T).long().to(self.device)  # required for classification in pytorch\n",
    "\n",
    "        # Setup standardization parameters\n",
    "        if self.Xmeans is None:\n",
    "            self.Xmeans = X.mean(axis=0)\n",
    "            self.Xstds = X.std(axis=0)\n",
    "            self.Xstds[self.Xstds == 0] = 1  # So we don't divide by zero when standardizing\n",
    "\n",
    "        # Standardize X\n",
    "        X = (X - self.Xmeans) / self.Xstds\n",
    "\n",
    "        X.requires_grad_(True)\n",
    "\n",
    "        if method == 'sgd':\n",
    "            optimizer = torch.optim.SGD(self.parameters(), lr=learning_rate, momentum=0.9)\n",
    "        else:\n",
    "            optimizer = torch.optim.Adam(self.parameters(), lr=learning_rate)\n",
    "\n",
    "        CELoss = torch.nn.CrossEntropyLoss(reduction='mean')\n",
    "        self.error_trace = []\n",
    "\n",
    "        for epoch in range(n_epochs):\n",
    "\n",
    "            num_batches = X.shape[0] // batch_size\n",
    "            loss_sum = 0\n",
    "\n",
    "            for k in range(num_batches):\n",
    "                start = k * batch_size\n",
    "                end = (k + 1) * batch_size\n",
    "                X_batch = X[start:end, ...]\n",
    "                T_batch = T[start:end, ...]\n",
    "\n",
    "                Y = self.forward(X_batch)\n",
    "\n",
    "                loss = CELoss(Y, T_batch)\n",
    "                loss.backward()\n",
    "\n",
    "                # Update parameters\n",
    "                optimizer.step()\n",
    "                optimizer.zero_grad()\n",
    "\n",
    "                loss_sum += loss\n",
    "\n",
    "            self.error_trace.append(loss_sum / num_batches)\n",
    "\n",
    "            if verbose and (epoch + 1) % (max(1, n_epochs // 10)) == 0:\n",
    "                print(f'{method}: Epoch {epoch + 1} Loss {self.error_trace[-1]:.3f}')\n",
    "\n",
    "        return self\n",
    "\n",
    "    def softmax(self, Y):\n",
    "        '''Apply to final layer weighted sum outputs'''\n",
    "        # Trick to avoid overflow\n",
    "        maxY = torch.max(Y, axis=1)[0].reshape((-1, 1))\n",
    "        expY = torch.exp(Y - maxY)\n",
    "        denom = torch.sum(expY, axis=1).reshape((-1, 1))\n",
    "        Y = expY / denom\n",
    "        return Y\n",
    "\n",
    "    def use(self, X):\n",
    "        # Set input matrix to torch.tensors\n",
    "        X = torch.from_numpy(X).float().to(self.device)\n",
    "        # Standardize X\n",
    "        X = (X - self.Xmeans) / self.Xstds\n",
    "        # Calculate output of net for all samples in X\n",
    "        Y = self.forward(X)\n",
    "        # Convert output to class probabilities\n",
    "        probs = self.softmax(Y)\n",
    "        # For each sample pick highest probability and translate that to class labels\n",
    "        classes = self.classes[torch.argmax(probs, axis=1).cpu().numpy()].reshape(-1, 1)\n",
    "        return classes, probs.detach().cpu().numpy()"
   ]
  },
  {
   "cell_type": "markdown",
   "metadata": {},
   "source": [
    "### CNN2D on MNIST Digits\n",
    "\n",
    "We will use a bunch (50,000) images of hand drawn digits from [this deeplearning.net site](http://deeplearning.net/tutorial/gettingstarted.html).  Download `mnist.pkl.gz` if you don't already have it from A4. \n",
    "\n",
    "This pickle file includes data already partitioned into training, validation, and test sets.  To read it into python, use the following steps"
   ]
  },
  {
   "cell_type": "code",
   "execution_count": 51,
   "metadata": {},
   "outputs": [
    {
     "name": "stdout",
     "output_type": "stream",
     "text": [
      "(50000, 1, 28, 28) (50000, 1) (10000, 784) (10000, 1) (10000, 1, 28, 28) (10000, 1)\n"
     ]
    }
   ],
   "source": [
    "import pickle\n",
    "import gzip\n",
    "\n",
    "with gzip.open('mnist.pkl.gz', 'rb') as f:\n",
    "    train_set, valid_set, test_set = pickle.load(f, encoding='latin1')\n",
    "\n",
    "Xtrain = train_set[0]\n",
    "Ttrain = train_set[1].reshape(-1, 1)\n",
    "\n",
    "Xval = valid_set[0]\n",
    "Tval = valid_set[1].reshape(-1, 1)\n",
    "\n",
    "Xtest = test_set[0]\n",
    "Ttest = test_set[1].reshape(-1, 1)\n",
    "\n",
    "Xtrain = Xtrain.reshape(-1, 1, 28, 28)\n",
    "Xtest = Xtest.reshape(-1, 1, 28, 28)\n",
    "\n",
    "print(Xtrain.shape, Ttrain.shape,  Xval.shape, Tval.shape,  Xtest.shape, Ttest.shape)"
   ]
  },
  {
   "cell_type": "code",
   "execution_count": 52,
   "metadata": {},
   "outputs": [
    {
     "name": "stdout",
     "output_type": "stream",
     "text": [
      "Would you like to run on the GPU? (y or n): y\n",
      "Running on cuda:0\n"
     ]
    }
   ],
   "source": [
    "device = 'cpu'\n",
    "if torch.cuda.is_available():\n",
    "    y_or_n = input('Would you like to run on the GPU? (y or n): ')\n",
    "    if y_or_n == 'y' or y_or_n == 'yes':\n",
    "        device = torch.device('cuda:0' if torch.cuda.is_available() else 'cpu')\n",
    "print('Running on', device)"
   ]
  },
  {
   "cell_type": "code",
   "execution_count": 53,
   "metadata": {},
   "outputs": [
    {
     "data": {
      "text/plain": [
       "10"
      ]
     },
     "execution_count": 53,
     "metadata": {},
     "output_type": "execute_result"
    }
   ],
   "source": [
    "len(np.unique(Ttrain))"
   ]
  },
  {
   "cell_type": "code",
   "execution_count": 54,
   "metadata": {},
   "outputs": [
    {
     "name": "stdout",
     "output_type": "stream",
     "text": [
      "adam: Epoch 2 Loss 0.484\n",
      "adam: Epoch 4 Loss 0.300\n",
      "adam: Epoch 6 Loss 0.252\n",
      "adam: Epoch 8 Loss 0.223\n",
      "adam: Epoch 10 Loss 0.203\n",
      "adam: Epoch 12 Loss 0.190\n",
      "adam: Epoch 14 Loss 0.178\n",
      "adam: Epoch 16 Loss 0.172\n",
      "adam: Epoch 18 Loss 0.166\n",
      "adam: Epoch 20 Loss 0.166\n"
     ]
    },
    {
     "data": {
      "text/plain": [
       "Text(0.5, 1.0, 'MNIST')"
      ]
     },
     "execution_count": 54,
     "metadata": {},
     "output_type": "execute_result"
    },
    {
     "data": {
      "image/png": "[encoded data removed]",
      "text/plain": [
       "<Figure size 432x288 with 1 Axes>"
      ]
     },
     "metadata": {
      "needs_background": "light"
     },
     "output_type": "display_data"
    }
   ],
   "source": [
    "n_hiddens_per_conv_layer = [10, 10]\n",
    "patch_size_per_conv_layer = [10, 5]\n",
    "stride_per_conv_layer=[4, 2]\n",
    "n_hiddens_per_fc_layer = [5]\n",
    "\n",
    "cnnet = CNN2D(28 * 28, n_hiddens_per_conv_layer, n_hiddens_per_fc_layer, len(np.unique(Ttrain)), \n",
    "              patch_size_per_conv_layer, stride_per_conv_layer, device=device)\n",
    "\n",
    "n_epochs = 20\n",
    "batch_size = 500\n",
    "learning_rate = 0.01\n",
    "\n",
    "cnnet.train(Xtrain, Ttrain, batch_size, n_epochs, learning_rate, method='adam')\n",
    "\n",
    "plt.plot(cnnet.error_trace, label='Pytorch')\n",
    "plt.title('MNIST')"
   ]
  },
  {
   "cell_type": "code",
   "execution_count": 55,
   "metadata": {},
   "outputs": [],
   "source": [
    "def confusion_matrix(Y_classes, T):\n",
    "    class_names = np.unique(T)\n",
    "    table = []\n",
    "    for true_class in class_names:\n",
    "        row = []\n",
    "        for Y_class in class_names:\n",
    "            row.append(100 * np.mean(Y_classes[T == true_class] == Y_class))\n",
    "        table.append(row)\n",
    "    conf_matrix = pandas.DataFrame(table, index=class_names, columns=class_names)\n",
    "    return conf_matrix"
   ]
  },
  {
   "cell_type": "code",
   "execution_count": 56,
   "metadata": {},
   "outputs": [
    {
     "name": "stdout",
     "output_type": "stream",
     "text": [
      "Test accuracy in percent correct: 94.53\n"
     ]
    },
    {
     "data": {
      "text/html": [
       "<div>\n",
       "<style scoped>\n",
       "    .dataframe tbody tr th:only-of-type {\n",
       "        vertical-align: middle;\n",
       "    }\n",
       "\n",
       "    .dataframe tbody tr th {\n",
       "        vertical-align: top;\n",
       "    }\n",
       "\n",
       "    .dataframe thead th {\n",
       "        text-align: right;\n",
       "    }\n",
       "</style>\n",
       "<table border=\"1\" class=\"dataframe\">\n",
       "  <thead>\n",
       "    <tr style=\"text-align: right;\">\n",
       "      <th></th>\n",
       "      <th>0</th>\n",
       "      <th>1</th>\n",
       "      <th>2</th>\n",
       "      <th>3</th>\n",
       "      <th>4</th>\n",
       "      <th>5</th>\n",
       "      <th>6</th>\n",
       "      <th>7</th>\n",
       "      <th>8</th>\n",
       "      <th>9</th>\n",
       "    </tr>\n",
       "  </thead>\n",
       "  <tbody>\n",
       "    <tr>\n",
       "      <th>0</th>\n",
       "      <td>96.836735</td>\n",
       "      <td>0.408163</td>\n",
       "      <td>0.918367</td>\n",
       "      <td>0.306122</td>\n",
       "      <td>0.102041</td>\n",
       "      <td>0.000000</td>\n",
       "      <td>0.918367</td>\n",
       "      <td>0.102041</td>\n",
       "      <td>0.102041</td>\n",
       "      <td>0.306122</td>\n",
       "    </tr>\n",
       "    <tr>\n",
       "      <th>1</th>\n",
       "      <td>0.000000</td>\n",
       "      <td>97.797357</td>\n",
       "      <td>0.881057</td>\n",
       "      <td>0.264317</td>\n",
       "      <td>0.000000</td>\n",
       "      <td>0.352423</td>\n",
       "      <td>0.176211</td>\n",
       "      <td>0.176211</td>\n",
       "      <td>0.352423</td>\n",
       "      <td>0.000000</td>\n",
       "    </tr>\n",
       "    <tr>\n",
       "      <th>2</th>\n",
       "      <td>0.678295</td>\n",
       "      <td>0.775194</td>\n",
       "      <td>94.089147</td>\n",
       "      <td>1.356589</td>\n",
       "      <td>0.290698</td>\n",
       "      <td>0.000000</td>\n",
       "      <td>0.484496</td>\n",
       "      <td>1.162791</td>\n",
       "      <td>0.872093</td>\n",
       "      <td>0.290698</td>\n",
       "    </tr>\n",
       "    <tr>\n",
       "      <th>3</th>\n",
       "      <td>0.000000</td>\n",
       "      <td>0.396040</td>\n",
       "      <td>1.188119</td>\n",
       "      <td>95.049505</td>\n",
       "      <td>0.000000</td>\n",
       "      <td>1.386139</td>\n",
       "      <td>0.000000</td>\n",
       "      <td>0.990099</td>\n",
       "      <td>0.891089</td>\n",
       "      <td>0.099010</td>\n",
       "    </tr>\n",
       "    <tr>\n",
       "      <th>4</th>\n",
       "      <td>1.323829</td>\n",
       "      <td>0.000000</td>\n",
       "      <td>0.305499</td>\n",
       "      <td>0.305499</td>\n",
       "      <td>95.417515</td>\n",
       "      <td>0.101833</td>\n",
       "      <td>0.407332</td>\n",
       "      <td>0.101833</td>\n",
       "      <td>0.407332</td>\n",
       "      <td>1.629328</td>\n",
       "    </tr>\n",
       "    <tr>\n",
       "      <th>5</th>\n",
       "      <td>0.112108</td>\n",
       "      <td>0.448430</td>\n",
       "      <td>0.112108</td>\n",
       "      <td>3.139013</td>\n",
       "      <td>0.224215</td>\n",
       "      <td>92.376682</td>\n",
       "      <td>1.121076</td>\n",
       "      <td>0.560538</td>\n",
       "      <td>1.793722</td>\n",
       "      <td>0.112108</td>\n",
       "    </tr>\n",
       "    <tr>\n",
       "      <th>6</th>\n",
       "      <td>1.252610</td>\n",
       "      <td>0.730689</td>\n",
       "      <td>0.104384</td>\n",
       "      <td>0.000000</td>\n",
       "      <td>0.104384</td>\n",
       "      <td>0.626305</td>\n",
       "      <td>96.764092</td>\n",
       "      <td>0.104384</td>\n",
       "      <td>0.208768</td>\n",
       "      <td>0.104384</td>\n",
       "    </tr>\n",
       "    <tr>\n",
       "      <th>7</th>\n",
       "      <td>0.291829</td>\n",
       "      <td>0.291829</td>\n",
       "      <td>1.264591</td>\n",
       "      <td>1.070039</td>\n",
       "      <td>0.000000</td>\n",
       "      <td>0.291829</td>\n",
       "      <td>0.000000</td>\n",
       "      <td>95.622568</td>\n",
       "      <td>0.194553</td>\n",
       "      <td>0.972763</td>\n",
       "    </tr>\n",
       "    <tr>\n",
       "      <th>8</th>\n",
       "      <td>0.513347</td>\n",
       "      <td>0.308008</td>\n",
       "      <td>0.616016</td>\n",
       "      <td>3.901437</td>\n",
       "      <td>1.437372</td>\n",
       "      <td>0.924025</td>\n",
       "      <td>0.718686</td>\n",
       "      <td>1.232033</td>\n",
       "      <td>88.295688</td>\n",
       "      <td>2.053388</td>\n",
       "    </tr>\n",
       "    <tr>\n",
       "      <th>9</th>\n",
       "      <td>0.495540</td>\n",
       "      <td>0.099108</td>\n",
       "      <td>0.000000</td>\n",
       "      <td>1.288404</td>\n",
       "      <td>2.081269</td>\n",
       "      <td>0.792864</td>\n",
       "      <td>0.099108</td>\n",
       "      <td>1.982161</td>\n",
       "      <td>0.792864</td>\n",
       "      <td>92.368682</td>\n",
       "    </tr>\n",
       "  </tbody>\n",
       "</table>\n",
       "</div>"
      ],
      "text/plain": [
       "           0          1          2          3          4          5  \\\n",
       "0  96.836735   0.408163   0.918367   0.306122   0.102041   0.000000   \n",
       "1   0.000000  97.797357   0.881057   0.264317   0.000000   0.352423   \n",
       "2   0.678295   0.775194  94.089147   1.356589   0.290698   0.000000   \n",
       "3   0.000000   0.396040   1.188119  95.049505   0.000000   1.386139   \n",
       "4   1.323829   0.000000   0.305499   0.305499  95.417515   0.101833   \n",
       "5   0.112108   0.448430   0.112108   3.139013   0.224215  92.376682   \n",
       "6   1.252610   0.730689   0.104384   0.000000   0.104384   0.626305   \n",
       "7   0.291829   0.291829   1.264591   1.070039   0.000000   0.291829   \n",
       "8   0.513347   0.308008   0.616016   3.901437   1.437372   0.924025   \n",
       "9   0.495540   0.099108   0.000000   1.288404   2.081269   0.792864   \n",
       "\n",
       "           6          7          8          9  \n",
       "0   0.918367   0.102041   0.102041   0.306122  \n",
       "1   0.176211   0.176211   0.352423   0.000000  \n",
       "2   0.484496   1.162791   0.872093   0.290698  \n",
       "3   0.000000   0.990099   0.891089   0.099010  \n",
       "4   0.407332   0.101833   0.407332   1.629328  \n",
       "5   1.121076   0.560538   1.793722   0.112108  \n",
       "6  96.764092   0.104384   0.208768   0.104384  \n",
       "7   0.000000  95.622568   0.194553   0.972763  \n",
       "8   0.718686   1.232033  88.295688   2.053388  \n",
       "9   0.099108   1.982161   0.792864  92.368682  "
      ]
     },
     "execution_count": 56,
     "metadata": {},
     "output_type": "execute_result"
    }
   ],
   "source": [
    "Classes, _ = cnnet.use(Xtest)\n",
    "perc_correct = 100 * np.mean(Classes == Ttest)\n",
    "print(f'Test accuracy in percent correct: {perc_correct:.2f}')\n",
    "confusion_matrix(Classes, Ttest)"
   ]
  },
  {
   "cell_type": "markdown",
   "metadata": {},
   "source": [
    "### Experiments\n",
    "\n",
    "To explore the effects of different CNN structures, show results for the following steps.  For each architecture, use the same number of epochs, batch size, and learning rate as used above.\n",
    "\n",
    "1. Compare test accuracy of CNN2D nets with one, two and three convolutional layers, each with 10 units and patch sizes of 5 and strides of 1.\n",
    "2. Using the best number of convolutional layers found in Step 1, compare the test accuracies of CNN2d nets with zero, one, and two fully-connected layers each with 10 hidden units.\n",
    "\n",
    "Combine the results of each of your runs and display them in a `pandas.Dataframe` that includes the network structure and percent correct on train and test sets. Discuss your results, and describe the network structure and training parameters that produced the best test results."
   ]
  },
  {
   "cell_type": "code",
   "execution_count": 57,
   "metadata": {},
   "outputs": [
    {
     "name": "stdout",
     "output_type": "stream",
     "text": [
      "Test accuracy in percent correct: 91.69 \n",
      "\n",
      "Test accuracy in percent correct: 94.40 \n",
      "\n",
      "Test accuracy in percent correct: 93.57 \n",
      "\n"
     ]
    }
   ],
   "source": [
    "n_hiddens_per_conv_layer = [[10], [10,10], [10,10,10]]\n",
    "patch_size_per_conv_layer = [[5],[5,5], [5,5,5]]\n",
    "stride_per_conv_layer=[[1], [1,1], [1,1,1]]\n",
    "n_hiddens_per_fc_layer = [5]\n",
    "\n",
    "exp1_result_list = []\n",
    "\n",
    "for n_hid_conv, patch_size, stride in zip(n_hiddens_per_conv_layer, patch_size_per_conv_layer, stride_per_conv_layer):\n",
    "    \n",
    "    cnnet = CNN2D(28 * 28, n_hid_conv, n_hiddens_per_fc_layer, len(np.unique(Ttrain)), \n",
    "              patch_size, stride, device=device)\n",
    "\n",
    "    n_epochs = 20\n",
    "    batch_size = 500\n",
    "    learning_rate = 0.01\n",
    "\n",
    "    cnnet.train(Xtrain, Ttrain, batch_size, n_epochs, learning_rate, method='adam', verbose=False)\n",
    "    \n",
    "    Classes_test, _ = cnnet.use(Xtest)\n",
    "    perc_correct_test = 100 * np.mean(Classes_test == Ttest)\n",
    "    \n",
    "    Classes_train, _ = cnnet.use(Xtrain)\n",
    "    perc_correct_train = 100 * np.mean(Classes_train == Ttrain)\n",
    "    \n",
    "    print(f'Test accuracy in percent correct: {perc_correct_test:.2f} \\n')\n",
    "    \n",
    "    exp1_result_list.append((n_hid_conv, patch_size, stride, n_hiddens_per_fc_layer, perc_correct_test, perc_correct_train ))\n",
    "\n",
    "    "
   ]
  },
  {
   "cell_type": "markdown",
   "metadata": {},
   "source": [
    " ## As seen above, I got the highest accuracy using 2 convolutional layers. Therefore, selecting that architecture for 2nd part of the experiment"
   ]
  },
  {
   "cell_type": "code",
   "execution_count": 58,
   "metadata": {
    "scrolled": true
   },
   "outputs": [
    {
     "name": "stdout",
     "output_type": "stream",
     "text": [
      "Test accuracy in percent correct: 97.16 \n",
      "\n",
      "Test accuracy in percent correct: 95.33 \n",
      "\n",
      "Test accuracy in percent correct: 92.89 \n",
      "\n"
     ]
    }
   ],
   "source": [
    "n_hiddens_per_conv_layer = [10,10]\n",
    "patch_size_per_conv_layer = [5, 5]\n",
    "stride_per_conv_layer=[1, 1]\n",
    "n_hiddens_per_fc_layer = [[], [10], [10,10]]\n",
    "\n",
    "exp2_result_list = []\n",
    "\n",
    "for n_hid_fc in n_hiddens_per_fc_layer:\n",
    "    cnnet = CNN2D(28 * 28, n_hiddens_per_conv_layer, n_hid_fc, len(np.unique(Ttrain)), \n",
    "                  patch_size_per_conv_layer, stride_per_conv_layer, device=device)\n",
    "\n",
    "    n_epochs = 20\n",
    "    batch_size = 500\n",
    "    learning_rate = 0.01\n",
    "\n",
    "    cnnet.train(Xtrain, Ttrain, batch_size, n_epochs, learning_rate, method='adam', verbose=False)\n",
    "\n",
    "    Classes_test, _ = cnnet.use(Xtest)\n",
    "    perc_correct_test = 100 * np.mean(Classes_test == Ttest)\n",
    "    \n",
    "    Classes_train, _ = cnnet.use(Xtrain)\n",
    "    perc_correct_train = 100 * np.mean(Classes_train == Ttrain)\n",
    "    \n",
    "    print(f'Test accuracy in percent correct: {perc_correct_test:.2f} \\n')\n",
    "    \n",
    "    exp2_result_list.append((n_hiddens_per_conv_layer, patch_size_per_conv_layer, stride_per_conv_layer, n_hid_fc, perc_correct_test, perc_correct_train ))\n",
    "\n"
   ]
  },
  {
   "cell_type": "code",
   "execution_count": 109,
   "metadata": {},
   "outputs": [
    {
     "data": {
      "text/html": [
       "<div>\n",
       "<style scoped>\n",
       "    .dataframe tbody tr th:only-of-type {\n",
       "        vertical-align: middle;\n",
       "    }\n",
       "\n",
       "    .dataframe tbody tr th {\n",
       "        vertical-align: top;\n",
       "    }\n",
       "\n",
       "    .dataframe thead th {\n",
       "        text-align: right;\n",
       "    }\n",
       "</style>\n",
       "<table border=\"1\" class=\"dataframe\">\n",
       "  <thead>\n",
       "    <tr style=\"text-align: right;\">\n",
       "      <th></th>\n",
       "      <th>num_conv_layer</th>\n",
       "      <th>patch_size</th>\n",
       "      <th>stride</th>\n",
       "      <th>num_fully_connected</th>\n",
       "      <th>test_accuracy</th>\n",
       "      <th>train_accuracy</th>\n",
       "    </tr>\n",
       "  </thead>\n",
       "  <tbody>\n",
       "    <tr>\n",
       "      <th>0</th>\n",
       "      <td>[10]</td>\n",
       "      <td>[5]</td>\n",
       "      <td>[1]</td>\n",
       "      <td>[5]</td>\n",
       "      <td>91.69</td>\n",
       "      <td>91.586</td>\n",
       "    </tr>\n",
       "    <tr>\n",
       "      <th>1</th>\n",
       "      <td>[10, 10]</td>\n",
       "      <td>[5, 5]</td>\n",
       "      <td>[1, 1]</td>\n",
       "      <td>[5]</td>\n",
       "      <td>94.40</td>\n",
       "      <td>94.158</td>\n",
       "    </tr>\n",
       "    <tr>\n",
       "      <th>2</th>\n",
       "      <td>[10, 10, 10]</td>\n",
       "      <td>[5, 5, 5]</td>\n",
       "      <td>[1, 1, 1]</td>\n",
       "      <td>[5]</td>\n",
       "      <td>93.57</td>\n",
       "      <td>92.978</td>\n",
       "    </tr>\n",
       "    <tr>\n",
       "      <th>3</th>\n",
       "      <td>[10, 10]</td>\n",
       "      <td>[5, 5]</td>\n",
       "      <td>[1, 1]</td>\n",
       "      <td>[]</td>\n",
       "      <td>97.16</td>\n",
       "      <td>98.830</td>\n",
       "    </tr>\n",
       "    <tr>\n",
       "      <th>4</th>\n",
       "      <td>[10, 10]</td>\n",
       "      <td>[5, 5]</td>\n",
       "      <td>[1, 1]</td>\n",
       "      <td>[10]</td>\n",
       "      <td>95.33</td>\n",
       "      <td>95.346</td>\n",
       "    </tr>\n",
       "    <tr>\n",
       "      <th>5</th>\n",
       "      <td>[10, 10]</td>\n",
       "      <td>[5, 5]</td>\n",
       "      <td>[1, 1]</td>\n",
       "      <td>[10, 10]</td>\n",
       "      <td>92.89</td>\n",
       "      <td>92.638</td>\n",
       "    </tr>\n",
       "  </tbody>\n",
       "</table>\n",
       "</div>"
      ],
      "text/plain": [
       "  num_conv_layer patch_size     stride num_fully_connected  test_accuracy  \\\n",
       "0           [10]        [5]        [1]                 [5]          91.69   \n",
       "1       [10, 10]     [5, 5]     [1, 1]                 [5]          94.40   \n",
       "2   [10, 10, 10]  [5, 5, 5]  [1, 1, 1]                 [5]          93.57   \n",
       "3       [10, 10]     [5, 5]     [1, 1]                  []          97.16   \n",
       "4       [10, 10]     [5, 5]     [1, 1]                [10]          95.33   \n",
       "5       [10, 10]     [5, 5]     [1, 1]            [10, 10]          92.89   \n",
       "\n",
       "   train_accuracy  \n",
       "0          91.586  \n",
       "1          94.158  \n",
       "2          92.978  \n",
       "3          98.830  \n",
       "4          95.346  \n",
       "5          92.638  "
      ]
     },
     "execution_count": 109,
     "metadata": {},
     "output_type": "execute_result"
    }
   ],
   "source": [
    "final_res_list =  exp1_result_list +  exp2_result_list\n",
    "result_df = pandas.DataFrame(final_res_list, columns= ['num_conv_layer', 'patch_size', 'stride', 'num_fully_connected', 'test_accuracy', 'train_accuracy'])\n",
    "result_df"
   ]
  },
  {
   "cell_type": "markdown",
   "metadata": {},
   "source": [
    "## Discussion -\n",
    "\n",
    "- I observed a lot of variability in the results. For some runs NN with 2 convolutional layers got good accuracy but for others NN with 3 conv layers got better accuracy. I selected NN with 2 conv layers for the 2nd part as it gave better accuracy for more number of runs\n",
    "\n",
    "\n",
    "- Best accuracy was obtained with architecture which had 0 fully connected layers\n",
    "\n",
    "\n",
    "- For some architectures, test accuracy is greater than train accuracy. This is counterintuitive and I tried to find possible reason for that but was unsuccessful. One possible reason is how the training and testing data is split\n",
    "\n",
    "\n",
    "- As the number of fully connected layers increased from 0-2, accuracy decreased. It would be interesting to find possible reasons for this and also see if this example is an outlier or this is the general trend for MNIST dataset"
   ]
  },
  {
   "cell_type": "markdown",
   "metadata": {},
   "source": [
    "## CNN1D\n",
    "\n",
    "Complete the following code cell to define `CNN1D`.  The only change from `CNN2D` that is required is in the constructor.  Complete these steps.\n",
    "\n",
    "1. Copy the `make_conv_and_fc_layers` function from `CNN2D`.\n",
    "2. For each convolutional layer, create a `torch.nn.Conv1d` object instead of a `torch.nn.Conv2d` object.\n",
    "3. Modify the statement `input_hw = int(np.sqrt(n_inputs))` appropriately. `input_hw` refers to \"input height width\".  What would beed to change to make this make sense for a single dimensional sample?\n",
    "4. Modify the statement `n_in = input_hw ** 2 * n_in` appropriately."
   ]
  },
  {
   "cell_type": "code",
   "execution_count": 17,
   "metadata": {},
   "outputs": [],
   "source": [
    "class CNN1D(CNN2D):\n",
    "\n",
    "    def make_conv_and_fc_layers(self, n_inputs, n_hiddens_per_conv_layer, n_hiddens_per_fc_layer, n_outputs,\n",
    "                                patch_size_per_conv_layer, stride_per_conv_layer):\n",
    "\n",
    "        # Create all convolutional layers\n",
    "        # First argument to first Conv2d is number of channels for each pixel.\n",
    "        # Just 1 for our grayscale images.\n",
    "        n_in = 1\n",
    "        input_hw = n_inputs #int(np.sqrt(n_inputs))  # original input image height (=width because image assumed square)\n",
    "        self.conv_layers = torch.nn.ModuleList()\n",
    "        layeri = 0\n",
    "        for nh, patch_size, stride in zip(n_hiddens_per_conv_layer,\n",
    "                                          patch_size_per_conv_layer,\n",
    "                                          stride_per_conv_layer):\n",
    "            self.conv_layers.append(torch.nn.Conv1d(n_in, nh, kernel_size=patch_size, stride=stride))\n",
    "            conv_layer_output_hw = (input_hw - patch_size) // stride + 1\n",
    "            if conv_layer_output_hw <= 0:\n",
    "                raise Exception(f'''For conv layer {layeri}, input_hw of {input_hw} is less than patch_size {patch_size}.\n",
    "Try reducing the patch_size for this layer or for the previous layer.''')\n",
    "            input_hw = conv_layer_output_hw  # for next trip through this loop\n",
    "            n_in = nh\n",
    "            layeri += 1\n",
    "           \n",
    "        # Create all fully connected layers.  First must determine number of inputs to first\n",
    "        # fully-connected layer that results from flattening the images coming out of the last\n",
    "        # convolutional layer.\n",
    "        n_in = input_hw * n_in\n",
    "        self.fc_layers = torch.nn.ModuleList()\n",
    "        for nh in n_hiddens_per_fc_layer:\n",
    "            self.fc_layers.append(torch.nn.Linear(n_in, nh))\n",
    "            n_in = nh\n",
    "        self.fc_layers.append(torch.nn.Linear(n_in, n_outputs))\n"
   ]
  },
  {
   "cell_type": "markdown",
   "metadata": {},
   "source": [
    "### Toy Data to Test `CNN1D`\n",
    "\n",
    "Here is some toy data to test your `CNN1D` definition.  Each sample is now 1-dimensional.  Let's make vectors of two kinds, ones with square pulses and ones with triangular pulses, at random locations and random durations. Both kinds will be 100 values long, with zeros between the waves."
   ]
  },
  {
   "cell_type": "code",
   "execution_count": 18,
   "metadata": {},
   "outputs": [],
   "source": [
    "def make_square_pulse():\n",
    "    sample = np.zeros(100)\n",
    "    for i in range(np.random.randint(1, 5)):  # making from 1 to 4 pulses\n",
    "        start = np.random.randint(0, 80)\n",
    "        width = np.random.randint(5, 20)\n",
    "        sample[start:start + width] = 1\n",
    "    return sample"
   ]
  },
  {
   "cell_type": "code",
   "execution_count": 19,
   "metadata": {},
   "outputs": [
    {
     "data": {
      "text/plain": [
       "array([0., 0., 0., 1., 1., 1., 1., 1., 1., 1., 1., 1., 1., 1., 1., 1., 1.,\n",
       "       1., 1., 1., 1., 1., 0., 0., 0., 0., 0., 0., 0., 0., 0., 0., 0., 0.,\n",
       "       0., 0., 0., 0., 0., 0., 0., 0., 0., 0., 0., 0., 0., 0., 0., 0., 0.,\n",
       "       0., 0., 0., 0., 0., 0., 0., 1., 1., 1., 1., 1., 1., 1., 1., 1., 0.,\n",
       "       0., 0., 0., 0., 0., 0., 0., 0., 0., 0., 0., 0., 0., 0., 0., 0., 0.,\n",
       "       0., 0., 0., 0., 0., 0., 0., 0., 0., 0., 0., 0., 0., 0., 0.])"
      ]
     },
     "execution_count": 19,
     "metadata": {},
     "output_type": "execute_result"
    }
   ],
   "source": [
    "square_pulse = make_square_pulse()\n",
    "square_pulse"
   ]
  },
  {
   "cell_type": "code",
   "execution_count": 20,
   "metadata": {
    "scrolled": true
   },
   "outputs": [
    {
     "data": {
      "text/plain": [
       "[<matplotlib.lines.Line2D at 0x7f9a2da2ce48>]"
      ]
     },
     "execution_count": 20,
     "metadata": {},
     "output_type": "execute_result"
    },
    {
     "data": {
      "image/png": "[encoded data removed]",
      "text/plain": [
       "<Figure size 432x288 with 1 Axes>"
      ]
     },
     "metadata": {
      "needs_background": "light"
     },
     "output_type": "display_data"
    }
   ],
   "source": [
    "plt.plot(square_pulse)"
   ]
  },
  {
   "cell_type": "code",
   "execution_count": 21,
   "metadata": {},
   "outputs": [],
   "source": [
    "def make_triangular_pulse():\n",
    "    sample = np.zeros(100)\n",
    "    for i in range(np.random.randint(1, 5)):  # making from 1 to 4 pulses\n",
    "        start = np.random.randint(0, 80)\n",
    "        width = np.random.randint(5, 20)\n",
    "        if width % 2 == 1:\n",
    "            width += 1  # if odd, make it even\n",
    "        sample[start:start + width // 2] = np.linspace(0, 1, width // 2)\n",
    "        sample[start + width // 2:start + width] = np.linspace(1, 0, width // 2)\n",
    "    return sample"
   ]
  },
  {
   "cell_type": "code",
   "execution_count": 22,
   "metadata": {},
   "outputs": [
    {
     "data": {
      "text/plain": [
       "array([0.        , 0.        , 0.        , 0.        , 0.        ,\n",
       "       0.        , 0.        , 0.        , 0.        , 0.        ,\n",
       "       0.        , 0.25      , 0.5       , 0.75      , 1.        ,\n",
       "       1.        , 0.75      , 0.5       , 0.25      , 0.        ,\n",
       "       0.        , 0.        , 0.        , 0.        , 0.        ,\n",
       "       0.        , 0.        , 0.        , 0.        , 0.        ,\n",
       "       0.        , 0.        , 0.        , 0.        , 0.        ,\n",
       "       0.        , 0.        , 0.        , 0.        , 0.        ,\n",
       "       0.        , 0.        , 0.        , 0.        , 0.        ,\n",
       "       0.        , 0.        , 0.        , 0.        , 0.        ,\n",
       "       0.33333333, 0.66666667, 1.        , 1.        , 0.66666667,\n",
       "       0.33333333, 0.        , 0.        , 0.        , 0.        ,\n",
       "       0.        , 0.        , 0.        , 0.        , 0.        ,\n",
       "       0.        , 0.        , 0.        , 0.        , 0.        ,\n",
       "       0.        , 0.        , 0.        , 0.        , 0.        ,\n",
       "       0.        , 0.        , 0.        , 0.        , 0.        ,\n",
       "       0.        , 0.        , 0.        , 0.        , 0.        ,\n",
       "       0.        , 0.        , 0.        , 0.        , 0.        ,\n",
       "       0.        , 0.        , 0.        , 0.        , 0.        ,\n",
       "       0.        , 0.        , 0.        , 0.        , 0.        ])"
      ]
     },
     "execution_count": 22,
     "metadata": {},
     "output_type": "execute_result"
    }
   ],
   "source": [
    "triangular_pulse = make_triangular_pulse()\n",
    "triangular_pulse"
   ]
  },
  {
   "cell_type": "code",
   "execution_count": 23,
   "metadata": {
    "scrolled": true
   },
   "outputs": [
    {
     "data": {
      "text/plain": [
       "[<matplotlib.lines.Line2D at 0x7f9a2da0db38>]"
      ]
     },
     "execution_count": 23,
     "metadata": {},
     "output_type": "execute_result"
    },
    {
     "data": {
      "image/png": "[encoded data removed]",
      "text/plain": [
       "<Figure size 432x288 with 1 Axes>"
      ]
     },
     "metadata": {
      "needs_background": "light"
     },
     "output_type": "display_data"
    }
   ],
   "source": [
    "plt.plot(triangular_pulse)"
   ]
  },
  {
   "cell_type": "code",
   "execution_count": 24,
   "metadata": {},
   "outputs": [
    {
     "data": {
      "text/plain": [
       "((1000, 100), (1000, 1), (1000, 100), (1000, 1))"
      ]
     },
     "execution_count": 24,
     "metadata": {},
     "output_type": "execute_result"
    }
   ],
   "source": [
    "n_each = 500\n",
    "Xtrain = np.array([make_square_pulse() for i in range(n_each)] +\n",
    "                   [make_triangular_pulse() for i in range(n_each)])\n",
    "Ttrain = np.array(['square'] * n_each + ['triangular'] * n_each).reshape(-1, 1)\n",
    "n_each = 500\n",
    "Xtest = np.array([make_square_pulse() for i in range(n_each)] +\n",
    "                   [make_triangular_pulse() for i in range(n_each)])\n",
    "Ttest = np.array(['square'] * n_each + ['triangular'] * n_each).reshape(-1, 1)\n",
    "Xtrain.shape, Ttrain.shape, Xtest.shape, Ttest.shape"
   ]
  },
  {
   "cell_type": "code",
   "execution_count": 25,
   "metadata": {},
   "outputs": [
    {
     "data": {
      "text/plain": [
       "True"
      ]
     },
     "execution_count": 25,
     "metadata": {},
     "output_type": "execute_result"
    }
   ],
   "source": [
    "np.newaxis == None"
   ]
  },
  {
   "cell_type": "code",
   "execution_count": 26,
   "metadata": {},
   "outputs": [
    {
     "data": {
      "text/plain": [
       "(1000, 1, 100)"
      ]
     },
     "execution_count": 26,
     "metadata": {},
     "output_type": "execute_result"
    }
   ],
   "source": [
    "Xtrain = Xtrain[:, None, :]\n",
    "Xtrain.shape"
   ]
  },
  {
   "cell_type": "code",
   "execution_count": 27,
   "metadata": {},
   "outputs": [
    {
     "data": {
      "text/plain": [
       "((1000, 1, 100), (1000, 1, 100))"
      ]
     },
     "execution_count": 27,
     "metadata": {},
     "output_type": "execute_result"
    }
   ],
   "source": [
    "Xtrain = Xtrain.reshape(Xtrain.shape[0], 1, -1)\n",
    "Xtest = Xtest.reshape(Xtest.shape[0], 1, -1)\n",
    "Xtrain.shape, Xtest.shape"
   ]
  },
  {
   "cell_type": "code",
   "execution_count": 28,
   "metadata": {},
   "outputs": [
    {
     "name": "stdout",
     "output_type": "stream",
     "text": [
      "adam: Epoch 10 Loss 0.561\n",
      "adam: Epoch 20 Loss 0.341\n",
      "adam: Epoch 30 Loss 0.213\n",
      "adam: Epoch 40 Loss 0.068\n",
      "adam: Epoch 50 Loss 0.013\n",
      "adam: Epoch 60 Loss 0.005\n",
      "adam: Epoch 70 Loss 0.001\n",
      "adam: Epoch 80 Loss 0.001\n",
      "adam: Epoch 90 Loss 0.000\n",
      "adam: Epoch 100 Loss 0.000\n"
     ]
    },
    {
     "data": {
      "text/plain": [
       "Text(0.5, 1.0, 'Pulses')"
      ]
     },
     "execution_count": 28,
     "metadata": {},
     "output_type": "execute_result"
    },
    {
     "data": {
      "image/png": "[encoded data removed]",
      "text/plain": [
       "<Figure size 432x288 with 1 Axes>"
      ]
     },
     "metadata": {
      "needs_background": "light"
     },
     "output_type": "display_data"
    }
   ],
   "source": [
    "cnnet1 = CNN1D(100, [10, 5], [5, 5], 2, [10, 4], [1, 2], device=device)\n",
    "\n",
    "n_epochs = 100\n",
    "batch_size = 10\n",
    "learning_rate = 0.001\n",
    "\n",
    "cnnet1.train(Xtrain, Ttrain, batch_size, n_epochs, learning_rate, method='adam')\n",
    "\n",
    "plt.plot(cnnet1.error_trace, label='Pytorch')\n",
    "plt.title('Pulses')"
   ]
  },
  {
   "cell_type": "code",
   "execution_count": 29,
   "metadata": {},
   "outputs": [
    {
     "name": "stdout",
     "output_type": "stream",
     "text": [
      "Test accuracy in percent correct: 99.50\n"
     ]
    },
    {
     "data": {
      "text/html": [
       "<div>\n",
       "<style scoped>\n",
       "    .dataframe tbody tr th:only-of-type {\n",
       "        vertical-align: middle;\n",
       "    }\n",
       "\n",
       "    .dataframe tbody tr th {\n",
       "        vertical-align: top;\n",
       "    }\n",
       "\n",
       "    .dataframe thead th {\n",
       "        text-align: right;\n",
       "    }\n",
       "</style>\n",
       "<table border=\"1\" class=\"dataframe\">\n",
       "  <thead>\n",
       "    <tr style=\"text-align: right;\">\n",
       "      <th></th>\n",
       "      <th>square</th>\n",
       "      <th>triangular</th>\n",
       "    </tr>\n",
       "  </thead>\n",
       "  <tbody>\n",
       "    <tr>\n",
       "      <th>square</th>\n",
       "      <td>99.0</td>\n",
       "      <td>1.0</td>\n",
       "    </tr>\n",
       "    <tr>\n",
       "      <th>triangular</th>\n",
       "      <td>0.0</td>\n",
       "      <td>100.0</td>\n",
       "    </tr>\n",
       "  </tbody>\n",
       "</table>\n",
       "</div>"
      ],
      "text/plain": [
       "            square  triangular\n",
       "square        99.0         1.0\n",
       "triangular     0.0       100.0"
      ]
     },
     "execution_count": 29,
     "metadata": {},
     "output_type": "execute_result"
    }
   ],
   "source": [
    "Classes, _ = cnnet1.use(Xtest)\n",
    "perc_correct = 100 * np.mean(Classes == Ttest)\n",
    "print(f'Test accuracy in percent correct: {perc_correct:.2f}')\n",
    "confusion_matrix(Classes, Ttest)"
   ]
  },
  {
   "cell_type": "code",
   "execution_count": 30,
   "metadata": {},
   "outputs": [
    {
     "data": {
      "text/plain": [
       "torch.Size([10, 10])"
      ]
     },
     "execution_count": 30,
     "metadata": {},
     "output_type": "execute_result"
    },
    {
     "data": {
      "image/png": "[encoded data removed]",
      "text/plain": [
       "<Figure size 432x288 with 1 Axes>"
      ]
     },
     "metadata": {
      "needs_background": "light"
     },
     "output_type": "display_data"
    }
   ],
   "source": [
    "W = list(cnnet1.children())[0][0].weight.data.cpu()  # in case running on GPU\n",
    "plt.plot(W[:, 0, :].T);\n",
    "W[:, 0, :].T.shape"
   ]
  },
  {
   "cell_type": "markdown",
   "metadata": {},
   "source": [
    "### Experiments on ECG Data"
   ]
  },
  {
   "cell_type": "markdown",
   "metadata": {},
   "source": [
    "An [electrocardiogram](), or ECG, is a record in time of a voltage generated by the heart.  It can be used to diagnose abnormalities in the heart.\n",
    "\n",
    "Public datasets containing ECG traces are available, such as the [Non-Invasive Fetal ECG Arrhythmia Database](https://physionet.org/content/nifeadb/1.0.0/) site. The data files there are in a standard waveform-database (WFDB) format.  As is often the case for most standard data formats you run in to, a python package exists for reading this data, called [wfdb](https://github.com/MIT-LCP/wfdb-python) that you can install using [conda](https://anaconda.org/conda-forge/wfdb).\n",
    "\n",
    "This data set includes ECG from normal patients and from ones with arrythmias, with data file names like `ARR_01.dat` and `NR_01.dat`, respectively.  We have already downloaded these files, read them in using the `wfdb` package and collected them into segments of 2000 voltages.  The sample rate for this data is 1000 Hz, so 2000 voltages spans 2 seconds. Download this data set from [ecg.npy](https://www.cs.colostate.edu/~cs445/notebooks/ecg.npy) \n",
    "\n",
    "Now, our job for our `CNN1D` is to classify each 2000 sample segment into the classes `normal` or `arrythmia`."
   ]
  },
  {
   "cell_type": "markdown",
   "metadata": {},
   "source": [
    "After you have downloaded `ecg.npy`, you can load it and plot a few samples."
   ]
  },
  {
   "cell_type": "code",
   "execution_count": 67,
   "metadata": {},
   "outputs": [
    {
     "data": {
      "text/plain": [
       "((2429, 2000), (3634, 2000))"
      ]
     },
     "execution_count": 67,
     "metadata": {},
     "output_type": "execute_result"
    }
   ],
   "source": [
    "ecg = np.load('ecg.npy')\n",
    "arr = ecg['arrythmia']\n",
    "norm = ecg['normal']\n",
    "arr.shape, norm.shape"
   ]
  },
  {
   "cell_type": "code",
   "execution_count": 68,
   "metadata": {},
   "outputs": [
    {
     "data": {
      "image/png": "[encoded data removed]",
      "text/plain": [
       "<Figure size 1080x1080 with 4 Axes>"
      ]
     },
     "metadata": {
      "needs_background": "light"
     },
     "output_type": "display_data"
    }
   ],
   "source": [
    "plt.figure(figsize=(15, 15))\n",
    "\n",
    "plt.subplot(2, 2, 1)\n",
    "plt.plot(arr[0])\n",
    "plt.legend(('Arrythmia',))\n",
    "plt.subplot(2, 2, 2)\n",
    "plt.plot(arr[100])\n",
    "plt.legend(('Arrythmia',))\n",
    "\n",
    "plt.subplot(2, 2, 3)\n",
    "plt.plot(norm[0])\n",
    "plt.legend(('Normal',))\n",
    "plt.subplot(2, 2, 4)\n",
    "plt.plot(norm[100])\n",
    "plt.legend(('Normal',));"
   ]
  },
  {
   "cell_type": "markdown",
   "metadata": {},
   "source": [
    "Now, let's stack the `arr` and `norm` samples together, create class labels for each sample, randomly rearrange them, and divide into train and test sets."
   ]
  },
  {
   "cell_type": "code",
   "execution_count": 69,
   "metadata": {},
   "outputs": [
    {
     "data": {
      "text/plain": [
       "((4850, 1, 2000), (4850, 1), (1213, 1, 2000), (1213, 1))"
      ]
     },
     "execution_count": 69,
     "metadata": {},
     "output_type": "execute_result"
    }
   ],
   "source": [
    "X = np.vstack((arr, norm))\n",
    "X = X.reshape(X.shape[0], 1, -1)\n",
    "T = np.hstack((['arr'] * arr.shape[0], ['nr'] * norm.shape[0])).reshape(-1, 1)\n",
    "n_samples = X.shape[0]\n",
    "rows = np.arange(n_samples)\n",
    "np.random.shuffle(rows)\n",
    "n_train = int(n_samples * 0.8)\n",
    "Xtrain = X[rows[:n_train], ...]\n",
    "Ttrain = T[rows[:n_train], ...]\n",
    "Xtest = X[rows[n_train:], ...]\n",
    "Ttest = T[rows[n_train:], ...]\n",
    "\n",
    "Xtrain.shape, Ttrain.shape, Xtest.shape, Ttest.shape"
   ]
  },
  {
   "cell_type": "code",
   "execution_count": 70,
   "metadata": {},
   "outputs": [
    {
     "data": {
      "text/plain": [
       "array([['nr'],\n",
       "       ['nr'],\n",
       "       ['arr'],\n",
       "       ...,\n",
       "       ['arr'],\n",
       "       ['arr'],\n",
       "       ['nr']], dtype='<U3')"
      ]
     },
     "execution_count": 70,
     "metadata": {},
     "output_type": "execute_result"
    }
   ],
   "source": [
    "Ttrain"
   ]
  },
  {
   "cell_type": "markdown",
   "metadata": {},
   "source": [
    "Okay, ready to train.  Create a `CNN1D` network with a statements like this."
   ]
  },
  {
   "cell_type": "code",
   "execution_count": 36,
   "metadata": {},
   "outputs": [
    {
     "name": "stdout",
     "output_type": "stream",
     "text": [
      "adam: Epoch 10 Loss 0.375\n",
      "adam: Epoch 20 Loss 0.134\n",
      "adam: Epoch 30 Loss 0.096\n",
      "adam: Epoch 40 Loss 0.062\n",
      "adam: Epoch 50 Loss 0.057\n",
      "adam: Epoch 60 Loss 0.042\n",
      "adam: Epoch 70 Loss 0.042\n",
      "adam: Epoch 80 Loss 0.041\n",
      "adam: Epoch 90 Loss 0.058\n",
      "adam: Epoch 100 Loss 0.044\n"
     ]
    },
    {
     "data": {
      "text/plain": [
       "Text(0.5, 1.0, 'ECG')"
      ]
     },
     "execution_count": 36,
     "metadata": {},
     "output_type": "execute_result"
    },
    {
     "data": {
      "image/png": "[encoded data removed]",
      "text/plain": [
       "<Figure size 432x288 with 1 Axes>"
      ]
     },
     "metadata": {
      "needs_background": "light"
     },
     "output_type": "display_data"
    }
   ],
   "source": [
    "cnn1d = CNN1D(Xtrain.shape[-1], [5, 10], [10, 10], 2, [100, 20], [20, 5], device=device)\n",
    "\n",
    "n_epochs = 100\n",
    "batch_size = 10\n",
    "learning_rate = 0.001\n",
    "\n",
    "cnn1d.train(Xtrain, Ttrain, batch_size, n_epochs, learning_rate, method='adam')\n",
    "\n",
    "plt.plot(cnn1d.error_trace, label='Pytorch')\n",
    "plt.title('ECG')"
   ]
  },
  {
   "cell_type": "markdown",
   "metadata": {},
   "source": [
    "Now, experiment with at least ten different network structures, patch sizes and strides and compare them with the percent accuracy on test data.  Combine the results of each of your runs and display them in a `pandas.Dataframe` that includes the network structure and percent correct on train and test sets. Discuss your results, and describe the network structure and training parameters that produced the best test results."
   ]
  },
  {
   "cell_type": "code",
   "execution_count": 108,
   "metadata": {},
   "outputs": [
    {
     "name": "stdout",
     "output_type": "stream",
     "text": [
      "Test accuracy in percent correct: 51.85 \n",
      "\n",
      "Test accuracy in percent correct: 61.91 \n",
      "\n",
      "Test accuracy in percent correct: 71.97 \n",
      "\n",
      "Test accuracy in percent correct: 78.81 \n",
      "\n",
      "Test accuracy in percent correct: 91.18 \n",
      "\n",
      "Test accuracy in percent correct: 74.03 \n",
      "\n",
      "Test accuracy in percent correct: 70.49 \n",
      "\n",
      "Test accuracy in percent correct: 88.13 \n",
      "\n",
      "Test accuracy in percent correct: 78.24 \n",
      "\n",
      "Test accuracy in percent correct: 84.75 \n",
      "\n"
     ]
    }
   ],
   "source": [
    "n_hiddens_per_conv_layer = [[10], [10,10], [10,10,10], [5], [5,5], [25,20,25], [20] ,[5,10], [40, 50, 50, 40], [25, 50] ]\n",
    "patch_size_per_conv_layer = [[5],[5,5], [5,10,5], [200], [200, 50], [10,15,10], [50], [100,20], [5, 10, 10, 5], [150,70]]\n",
    "stride_per_conv_layer=[[1], [1,1], [15,10,20], [15], [10,20], [10,20,20], [30],  [20,5], [5, 5, 5, 5], [20, 10]]\n",
    "n_hiddens_per_fc_layer = [[], [10], [30,30,30], [25], [], [20, 20, 20], [10], [10,10], [10, 20, 20, 10], [20, 50]]\n",
    "\n",
    "exp_result_list = []\n",
    "\n",
    "for n_hid_conv, patch_size, stride, n_hid_fc in zip(n_hiddens_per_conv_layer, patch_size_per_conv_layer, stride_per_conv_layer, n_hiddens_per_fc_layer):\n",
    "    \n",
    "\n",
    "    cnnet = CNN1D(Xtrain.shape[-1], n_hid_conv, n_hid_fc, len(np.unique(Ttrain)), \n",
    "              patch_size, stride, device=device)\n",
    "    \n",
    "    n_epochs = 40\n",
    "    batch_size = 10\n",
    "    learning_rate = 0.001\n",
    "\n",
    "    cnnet.train(Xtrain, Ttrain, batch_size, n_epochs, learning_rate, method='adam', verbose=False)\n",
    "    \n",
    "    Classes_test, _ = cnnet.use(Xtest)\n",
    "    perc_correct_test = 100 * np.mean(Classes_test == Ttest)\n",
    "    \n",
    "    Classes_train, _ = cnnet.use(Xtrain)\n",
    "    perc_correct_train = 100 * np.mean(Classes_train == Ttrain)\n",
    "    \n",
    "    print(f'Test accuracy in percent correct: {perc_correct_test:.2f} \\n')\n",
    "    \n",
    "    exp_result_list.append((n_hid_conv, patch_size, stride, n_hid_fc, perc_correct_test, perc_correct_train ))\n",
    "\n",
    "    "
   ]
  },
  {
   "cell_type": "code",
   "execution_count": 110,
   "metadata": {
    "scrolled": true
   },
   "outputs": [
    {
     "data": {
      "text/html": [
       "<div>\n",
       "<style scoped>\n",
       "    .dataframe tbody tr th:only-of-type {\n",
       "        vertical-align: middle;\n",
       "    }\n",
       "\n",
       "    .dataframe tbody tr th {\n",
       "        vertical-align: top;\n",
       "    }\n",
       "\n",
       "    .dataframe thead th {\n",
       "        text-align: right;\n",
       "    }\n",
       "</style>\n",
       "<table border=\"1\" class=\"dataframe\">\n",
       "  <thead>\n",
       "    <tr style=\"text-align: right;\">\n",
       "      <th></th>\n",
       "      <th>num_conv_layer</th>\n",
       "      <th>patch_size</th>\n",
       "      <th>stride</th>\n",
       "      <th>num_fully_connected</th>\n",
       "      <th>test_accuracy</th>\n",
       "      <th>train_accuracy</th>\n",
       "    </tr>\n",
       "  </thead>\n",
       "  <tbody>\n",
       "    <tr>\n",
       "      <th>0</th>\n",
       "      <td>[10]</td>\n",
       "      <td>[5]</td>\n",
       "      <td>[1]</td>\n",
       "      <td>[]</td>\n",
       "      <td>51.854905</td>\n",
       "      <td>64.206186</td>\n",
       "    </tr>\n",
       "    <tr>\n",
       "      <th>1</th>\n",
       "      <td>[10, 10]</td>\n",
       "      <td>[5, 5]</td>\n",
       "      <td>[1, 1]</td>\n",
       "      <td>[10]</td>\n",
       "      <td>61.912613</td>\n",
       "      <td>59.443299</td>\n",
       "    </tr>\n",
       "    <tr>\n",
       "      <th>2</th>\n",
       "      <td>[10, 10, 10]</td>\n",
       "      <td>[5, 10, 5]</td>\n",
       "      <td>[15, 10, 20]</td>\n",
       "      <td>[30, 30, 30]</td>\n",
       "      <td>71.970322</td>\n",
       "      <td>74.762887</td>\n",
       "    </tr>\n",
       "    <tr>\n",
       "      <th>3</th>\n",
       "      <td>[5]</td>\n",
       "      <td>[200]</td>\n",
       "      <td>[15]</td>\n",
       "      <td>[25]</td>\n",
       "      <td>78.812861</td>\n",
       "      <td>98.474227</td>\n",
       "    </tr>\n",
       "    <tr>\n",
       "      <th>4</th>\n",
       "      <td>[5, 5]</td>\n",
       "      <td>[200, 50]</td>\n",
       "      <td>[10, 20]</td>\n",
       "      <td>[]</td>\n",
       "      <td>91.178895</td>\n",
       "      <td>97.175258</td>\n",
       "    </tr>\n",
       "    <tr>\n",
       "      <th>5</th>\n",
       "      <td>[25, 20, 25]</td>\n",
       "      <td>[10, 15, 10]</td>\n",
       "      <td>[10, 20, 20]</td>\n",
       "      <td>[20, 20, 20]</td>\n",
       "      <td>74.031327</td>\n",
       "      <td>95.030928</td>\n",
       "    </tr>\n",
       "    <tr>\n",
       "      <th>6</th>\n",
       "      <td>[20]</td>\n",
       "      <td>[50]</td>\n",
       "      <td>[30]</td>\n",
       "      <td>[10]</td>\n",
       "      <td>70.486397</td>\n",
       "      <td>83.793814</td>\n",
       "    </tr>\n",
       "    <tr>\n",
       "      <th>7</th>\n",
       "      <td>[5, 10]</td>\n",
       "      <td>[100, 20]</td>\n",
       "      <td>[20, 5]</td>\n",
       "      <td>[10, 10]</td>\n",
       "      <td>88.128607</td>\n",
       "      <td>98.309278</td>\n",
       "    </tr>\n",
       "    <tr>\n",
       "      <th>8</th>\n",
       "      <td>[40, 50, 50, 40]</td>\n",
       "      <td>[5, 10, 10, 5]</td>\n",
       "      <td>[5, 5, 5, 5]</td>\n",
       "      <td>[10, 20, 20, 10]</td>\n",
       "      <td>78.235779</td>\n",
       "      <td>94.659794</td>\n",
       "    </tr>\n",
       "    <tr>\n",
       "      <th>9</th>\n",
       "      <td>[25, 50]</td>\n",
       "      <td>[150, 70]</td>\n",
       "      <td>[20, 10]</td>\n",
       "      <td>[20, 50]</td>\n",
       "      <td>84.748557</td>\n",
       "      <td>97.278351</td>\n",
       "    </tr>\n",
       "  </tbody>\n",
       "</table>\n",
       "</div>"
      ],
      "text/plain": [
       "     num_conv_layer      patch_size        stride num_fully_connected  \\\n",
       "0              [10]             [5]           [1]                  []   \n",
       "1          [10, 10]          [5, 5]        [1, 1]                [10]   \n",
       "2      [10, 10, 10]      [5, 10, 5]  [15, 10, 20]        [30, 30, 30]   \n",
       "3               [5]           [200]          [15]                [25]   \n",
       "4            [5, 5]       [200, 50]      [10, 20]                  []   \n",
       "5      [25, 20, 25]    [10, 15, 10]  [10, 20, 20]        [20, 20, 20]   \n",
       "6              [20]            [50]          [30]                [10]   \n",
       "7           [5, 10]       [100, 20]       [20, 5]            [10, 10]   \n",
       "8  [40, 50, 50, 40]  [5, 10, 10, 5]  [5, 5, 5, 5]    [10, 20, 20, 10]   \n",
       "9          [25, 50]       [150, 70]      [20, 10]            [20, 50]   \n",
       "\n",
       "   test_accuracy  train_accuracy  \n",
       "0      51.854905       64.206186  \n",
       "1      61.912613       59.443299  \n",
       "2      71.970322       74.762887  \n",
       "3      78.812861       98.474227  \n",
       "4      91.178895       97.175258  \n",
       "5      74.031327       95.030928  \n",
       "6      70.486397       83.793814  \n",
       "7      88.128607       98.309278  \n",
       "8      78.235779       94.659794  \n",
       "9      84.748557       97.278351  "
      ]
     },
     "execution_count": 110,
     "metadata": {},
     "output_type": "execute_result"
    }
   ],
   "source": [
    "ecg_result_df = pandas.DataFrame(exp_result_list, columns= ['num_conv_layer', 'patch_size', 'stride', 'num_fully_connected', 'test_accuracy', 'train_accuracy'])\n",
    "ecg_result_df"
   ]
  },
  {
   "cell_type": "markdown",
   "metadata": {},
   "source": [
    "# Discussion -\n",
    "\n",
    "- Best test accuracy (91.17%) is obtained with architecture which has 2 convolutional layers with 5 neurons and no fully connected layers"
   ]
  },
  {
   "cell_type": "markdown",
   "metadata": {},
   "source": [
    "## Grading and Check-In\n",
    "Download [A5grader.zip](https://www.cs.colostate.edu/~cs445/notebooks/A5grader.zip) and extract A5grader.py from it. Run the code in the following cell to demonstrate an example grading session. Remember to test your code with additional tests of your own design. Your notebook must be named as Lastname-A5.ipynb.  \n",
    "\n",
    "When ready, submit your notebook via the A5 link in our class Canvas web page."
   ]
  },
  {
   "cell_type": "code",
   "execution_count": 111,
   "metadata": {},
   "outputs": [
    {
     "name": "stdout",
     "output_type": "stream",
     "text": [
      "\n",
      "======================= Code Execution =======================\n",
      "\n",
      "Extracting python code from notebook named 'Bhosale-A5.ipynb' and storing in notebookcode.py\n",
      "Removing all statements that are not function or class defs or import statements.\n",
      "\n",
      "Testing\n",
      "\n",
      "    xs = np.arange(100)\n",
      "    n_each = 500\n",
      "    n_samples = n_each * 2\n",
      "    X = np.array([np.sin(xs / 2) + np.random.normal(0, 1, size=100) for i in range(n_each)] +\n",
      "                 [np.sin(xs / 3) + np.random.normal(0, 1, size=100) for i in range(n_each)])\n",
      "    X = X[:, np.newaxis, :]\n",
      "    T = np.array([2] * n_each + [3] * n_each).reshape(-1, 1)\n",
      "    rows = np.arange(n_samples)\n",
      "    np.random.shuffle(rows)\n",
      "    X = X[rows, ...]\n",
      "    T = T[rows, ...]\n",
      "    n_train = int(n_samples * 0.8)\n",
      "    Xtrain = X[:n_train, ...]\n",
      "    Ttrain = T[:n_train, :]\n",
      "    Xtest = X[n_train:, ...]\n",
      "    Ttest = T[n_train:, :]\n",
      "\n",
      "    cnn1d = CNN1D(100, [5, 5], [3], 2, [10, 5], [1, 2])\n",
      "    cnn1d.train(Xtrain, Ttrain, 10, 20, 0.01, method='adam')\n",
      "\n",
      "    perc_train = 100 * np.mean(cnn1d.use(Xtrain)[0] == Ttrain)\n",
      "    perc_test = 100 * np.mean(cnn1d.use(Xtest)[0] == Ttest)\n",
      "\n",
      "adam: Epoch 2 Loss 0.011\n",
      "adam: Epoch 4 Loss 0.003\n",
      "adam: Epoch 6 Loss 0.002\n",
      "adam: Epoch 8 Loss 0.001\n",
      "adam: Epoch 10 Loss 0.001\n",
      "adam: Epoch 12 Loss 0.001\n",
      "adam: Epoch 14 Loss 0.000\n",
      "adam: Epoch 16 Loss 0.000\n",
      "adam: Epoch 18 Loss 0.000\n",
      "adam: Epoch 20 Loss 0.000\n",
      "\n",
      "--- 40/40 points.  perc_train is correctly 100%.\n",
      "\n",
      "--- 40/40 points.  perc_test is correctly 100%.\n",
      "\n",
      "======================================================================\n",
      "as5 Execution Grade is 80 / 80\n",
      "======================================================================\n",
      "\n",
      " __ / 10 Based on results of experiments with MNIST data.\n",
      "\n",
      " __ / 10 Based on results of experiments with ECG data.\n",
      "\n",
      "======================================================================\n",
      "as5 FINAL GRADE is  _  / 100\n",
      "======================================================================\n",
      "\n",
      "Extra Credit:\n",
      "\n",
      "Earn up to 3 extra credit points on this assignment by doing any or all of the following experiments.\n",
      "\n",
      "1. Compare your results on the MNIST data by using relu versus tanh activation functions. Show and \n",
      "   discuss the results.\n",
      "\n",
      "2. Compare your results on the MNIST data using adam versus sgd. Show and discuss the results.\n",
      "\n",
      "3. Download another image data set, apply your CNN2D class to this data and discuss the results.\n",
      "\n",
      "as5 EXTRA CREDIT is 0 / 3\n"
     ]
    }
   ],
   "source": [
    "%run -i A5grader.py"
   ]
  },
  {
   "cell_type": "markdown",
   "metadata": {},
   "source": [
    "## Extra Credit\n",
    "Earn up to 3 extra credit points on this assignment by doing any or all of the following experiments. \n",
    "\n",
    "1. Compare your results on the MNIST data by using `relu` versus `tanh` activation functions. Show and discuss the results.\n",
    "2. Compare your results on the MNIST data using `adam` versus `sgd`. Show and discuss the results.\n",
    "3. Download another image data set, apply your `CNN2D` class to this data and discuss the results."
   ]
  }
 ],
 "metadata": {
  "kernelspec": {
   "display_name": "Python 3",
   "language": "python",
   "name": "python3"
  },
  "language_info": {
   "codemirror_mode": {
    "name": "ipython",
    "version": 3
   },
   "file_extension": ".py",
   "mimetype": "text/x-python",
   "name": "python",
   "nbconvert_exporter": "python",
   "pygments_lexer": "ipython3",
   "version": "3.8.10"
  },
  "toc": {
   "base_numbering": 1,
   "nav_menu": {},
   "number_sections": true,
   "sideBar": true,
   "skip_h1_title": false,
   "title_cell": "Table of Contents",
   "title_sidebar": "Contents",
   "toc_cell": false,
   "toc_position": {
    "height": "calc(100% - 180px)",
    "left": "10px",
    "top": "150px",
    "width": "165px"
   },
   "toc_section_display": true,
   "toc_window_display": false
  }
 },
 "nbformat": 4,
 "nbformat_minor": 2
}
