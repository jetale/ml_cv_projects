{
 "cells": [
  {
   "cell_type": "markdown",
   "metadata": {},
   "source": [
    "  #  Assignment No. 3\n",
    "   \n",
    "### Vishwajeet Bhosale "
   ]
  },
  {
   "cell_type": "markdown",
   "metadata": {},
   "source": [
    "In this assignment you will complete an implementation of a neural network class that uses `pytorch`.  You will then use it to conduct some training experiments on specified data.  The data will be partitioned into some number of non-intersecting folds.  You will train, validate and test neural networks of various sizes on all ways of picking one fold to be testing, one fold to be validation, and remaining folds to be training sets."
   ]
  },
  {
   "cell_type": "markdown",
   "metadata": {},
   "source": [
    "## Implementation"
   ]
  },
  {
   "cell_type": "code",
   "execution_count": 2,
   "metadata": {},
   "outputs": [
    {
     "name": "stdout",
     "output_type": "stream",
     "text": [
      "Requirement already satisfied: torch in /usr/local/python-env/py36/lib/python3.6/site-packages (1.7.1)\n",
      "Requirement already satisfied: dataclasses in /usr/local/python-env/py36/lib/python3.6/site-packages (from torch) (0.8)\n",
      "Requirement already satisfied: numpy in /usr/local/python-env/py36/lib/python3.6/site-packages (from torch) (1.19.4)\n",
      "Requirement already satisfied: typing-extensions in /usr/local/python-env/py36/lib/python3.6/site-packages (from torch) (3.7.4.3)\n",
      "\u001b[33mWARNING: You are using pip version 20.3.3; however, version 21.0.1 is available.\n",
      "You should consider upgrading via the '/usr/local/python-env/py36/bin/python -m pip install --upgrade pip' command.\u001b[0m\n"
     ]
    }
   ],
   "source": [
    "!pip3 install torch"
   ]
  },
  {
   "cell_type": "code",
   "execution_count": 3,
   "metadata": {},
   "outputs": [],
   "source": [
    "import numpy as np\n",
    "import torch\n",
    "import pandas\n",
    "import matplotlib.pyplot as plt"
   ]
  },
  {
   "cell_type": "markdown",
   "metadata": {},
   "source": [
    "Complete the following definition of class `NNet` by completing its `train` and `use` functions.  These functions must be completed the *PyTorch* way, which is **not** identical to how you completed the network in A2 (though the same principles apply)!"
   ]
  },
  {
   "cell_type": "code",
   "execution_count": 4,
   "metadata": {},
   "outputs": [],
   "source": [
    "class NNet(torch.nn.Module):\n",
    "    \n",
    "    def __init__(self, n_inputs, n_hiddens_per_layer, n_outputs, act_func='tanh'):\n",
    "        super().__init__()  # call parent class (torch.nn.Module) constructor\n",
    "        \n",
    "        # Set self.n_hiddens_per_layer to [] if argument is 0, [], or [0]\n",
    "        if n_hiddens_per_layer == 0 or n_hiddens_per_layer == [] or n_hiddens_per_layer == [0]:\n",
    "            self.n_hiddens_per_layer = []\n",
    "        else:\n",
    "            self.n_hiddens_per_layer = n_hiddens_per_layer\n",
    "\n",
    "        self.hidden_layers = torch.nn.ModuleList()  # necessary for model.to('cuda')\n",
    "\n",
    "        for nh in self.n_hiddens_per_layer:\n",
    "            self.hidden_layers.append( torch.nn.Sequential(\n",
    "                torch.nn.Linear(n_inputs, nh),\n",
    "                torch.nn.Tanh() if act_func == 'tanh' else torch.nn.ReLU()))\n",
    "            \n",
    "            n_inputs = nh\n",
    "\n",
    "        self.output_layer = torch.nn.Linear(n_inputs, n_outputs)\n",
    "            \n",
    "        self.Xmeans = None\n",
    "        self.Xstds = None\n",
    "        self.Tmeans = None\n",
    "        self.Tstds = None\n",
    "        #self.gpu = use_gpu\n",
    "\n",
    "        self.error_trace = []\n",
    "        \n",
    "    def forward(self, X):\n",
    "        Y = X\n",
    "        for hidden_layer in self.hidden_layers:\n",
    "            Y = hidden_layer(Y)\n",
    "        Y = self.output_layer(Y)\n",
    "        return Y\n",
    "\n",
    "    def train(self, X, T, n_epochs, learning_rate, verbose=False):\n",
    "\n",
    "        # Set data matrices to torch.tensors if not already.\n",
    "        if not isinstance(X, torch.Tensor):\n",
    "            X = torch.from_numpy(X).float()\n",
    "        if not isinstance(T, torch.Tensor):\n",
    "            T = torch.from_numpy(T).float()\n",
    "            \n",
    "        # Calculate standardization parameters if not already calculated\n",
    "        if self.Xmeans is None:\n",
    "            self.Xmeans = X.mean(0)\n",
    "            self.Xstds = X.std(0)\n",
    "            self.Xstds[self.Xstds == 0] = 1\n",
    "            self.Tmeans = T.mean(0)\n",
    "            self.Tstds = T.std(0)\n",
    "            self.Tstds[self.Tstds == 0] = 1\n",
    "            \n",
    "        # Standardize inputs and targets\n",
    "        X = (X - self.Xmeans) / self.Xstds\n",
    "        T = (T - self.Tmeans) / self.Tstds\n",
    "        \n",
    "        # Set optimizer to Adam and loss functions to MSELoss\n",
    "        optimizer = torch.optim.Adam(self.parameters(), lr=learning_rate)\n",
    "        mse_func = torch.nn.MSELoss()\n",
    "\n",
    "        # For each epoch:\n",
    "        #   Do forward pass to calculate output Y.\n",
    "        #   Calculate mean squared error loss, mse.\n",
    "        #   Calculate gradient of mse with respect to all weights by calling mse.backward().\n",
    "        #   Take weight update step, then zero the gradient values.\n",
    "        #   Unstandardize the mse error and save in self.error_trace\n",
    "        #   Print epoch+1 and unstandardized error if verbose is True and\n",
    "        #             (epoch+1 is n_epochs or epoch+1 % (n_epochs // 10) == 0)\n",
    "        \n",
    "        '''\n",
    "        if self.gpu:\n",
    "            X = X.to('cuda')\n",
    "            T = T.to('cuda')\n",
    "        '''\n",
    "        \n",
    "        for epoch in range(n_epochs):\n",
    "\n",
    "            Y = self.forward(X)\n",
    "    \n",
    "            mse = mse_func(T, Y)\n",
    "            mse.backward()\n",
    "    \n",
    "            optimizer.step() \n",
    "            optimizer.zero_grad()\n",
    "            \n",
    "            #unst_mse = mse \n",
    "            self.error_trace.append(mse)\n",
    "            \n",
    "            if verbose == True and  (epoch + 1) % max(1, 5) == 0 :\n",
    "                print(f'Epoch {epoch + 1} : RMSE {(((np.sqrt(mse.detach())) * self.Tstds) )[0]}')\n",
    "            \n",
    "            \n",
    "            \n",
    "\n",
    "    def use(self, X):\n",
    " \n",
    "        # Set input matrix to torch.tensors if not already.\n",
    "        if not isinstance(X, torch.Tensor):\n",
    "            X = torch.from_numpy(X).float()\n",
    "\n",
    "        # Standardize X\n",
    "        X = (X - self.Xmeans) / self. Xstds\n",
    "        \n",
    "        #if self.gpu:\n",
    "        #    X = X.to('cuda')\n",
    "        \n",
    "        # Do forward pass and unstandardize resulting output. Assign to variable Y.\n",
    "        y_std = self.forward(X)\n",
    "        \n",
    "        Y = (y_std * self.Tstds) + self.Tmeans\n",
    "        \n",
    "        # Return output Y after detaching from computation graph and converting to numpy\n",
    "        return Y.cpu().detach().numpy()\n"
   ]
  },
  {
   "cell_type": "markdown",
   "metadata": {},
   "source": [
    "## Example"
   ]
  },
  {
   "cell_type": "code",
   "execution_count": 5,
   "metadata": {},
   "outputs": [
    {
     "name": "stdout",
     "output_type": "stream",
     "text": [
      "Epoch 5 : RMSE 11.155450820922852\n",
      "Epoch 10 : RMSE 6.06194543838501\n",
      "Epoch 15 : RMSE 5.169205665588379\n",
      "Epoch 20 : RMSE 2.1026830673217773\n",
      "Epoch 25 : RMSE 2.3169872760772705\n",
      "Epoch 30 : RMSE 2.6357510089874268\n",
      "Epoch 35 : RMSE 1.4629969596862793\n",
      "Epoch 40 : RMSE 1.1365954875946045\n",
      "Epoch 45 : RMSE 1.1702879667282104\n",
      "Epoch 50 : RMSE 0.9215653538703918\n",
      "RMSE 0.867\n"
     ]
    }
   ],
   "source": [
    "torch.manual_seed(42)\n",
    "np.random.seed(42)\n",
    "    \n",
    "n_samples = 10000\n",
    "X = np.linspace(0, 10, n_samples).reshape((-1, 1))\n",
    "T = X ** 2\n",
    "\n",
    "n_samples, n_inputs = X.shape \n",
    "n_outputs = T.shape[1]\n",
    "\n",
    "n_hiddens = [100, 100]\n",
    "net = NNet(n_inputs, n_hiddens, n_outputs, act_func='relu')\n",
    "net.train(X, T, 50, 0.01, True)\n",
    "Y = net.use(X)\n",
    "\n",
    "\n",
    "def rmse(Y, T):\n",
    "    return np.sqrt(np.mean((T - Y)**2))\n",
    "\n",
    "\n",
    "print(f'RMSE {rmse(Y, T):.3f}')"
   ]
  },
  {
   "cell_type": "code",
   "execution_count": 6,
   "metadata": {},
   "outputs": [
    {
     "data": {
      "image/png": "[encoded data removed]",
      "text/plain": [
       "<Figure size 1080x576 with 2 Axes>"
      ]
     },
     "metadata": {
      "needs_background": "light"
     },
     "output_type": "display_data"
    }
   ],
   "source": [
    "plt.figure(figsize=(15, 8))\n",
    "\n",
    "plt.subplot(1, 2, 1)\n",
    "plt.plot(T, label='T')\n",
    "plt.plot(Y, label='Y')\n",
    "plt.legend()\n",
    "\n",
    "plt.subplot(1, 2, 2)\n",
    "plt.plot(T, Y, '.')\n",
    "a = max(np.min(T), np.min(Y))\n",
    "b = min(np.max(T), np.max(Y))\n",
    "plt.plot([a, b], [a, b], lw=10, alpha=0.5)\n",
    "plt.xlabel('T')\n",
    "plt.ylabel('Y')\n",
    "plt.tight_layout()"
   ]
  },
  {
   "cell_type": "markdown",
   "metadata": {},
   "source": [
    "# Function to generate all train, validate, and test partitions given number of folds"
   ]
  },
  {
   "cell_type": "markdown",
   "metadata": {},
   "source": [
    "## Implementation"
   ]
  },
  {
   "cell_type": "markdown",
   "metadata": {},
   "source": [
    "This is complete code for `generate_k_fold_cross_validation_sets`."
   ]
  },
  {
   "cell_type": "code",
   "execution_count": 7,
   "metadata": {},
   "outputs": [],
   "source": [
    "def generate_k_fold_cross_validation_sets(X, T, n_folds, shuffle=True):\n",
    "\n",
    "    if shuffle:\n",
    "        # Randomly order X and T\n",
    "        randorder = np.arange(X.shape[0])\n",
    "        np.random.shuffle(randorder)\n",
    "        X = X[randorder, :]\n",
    "        T = T[randorder, :]\n",
    "\n",
    "    # Partition X and T into folds\n",
    "    n_samples = X.shape[0]\n",
    "    n_per_fold = round(n_samples / n_folds)\n",
    "    n_last_fold = n_samples - n_per_fold * (n_folds - 1)\n",
    "\n",
    "    folds = []\n",
    "    start = 0\n",
    "    for foldi in range(n_folds-1):\n",
    "        folds.append( (X[start:start + n_per_fold, :], T[start:start + n_per_fold, :]) )\n",
    "        start += n_per_fold\n",
    "    folds.append( (X[start:, :], T[start:, :]) )\n",
    "\n",
    "    # Yield k(k-1) assignments of Xtrain, Train, Xvalidate, Tvalidate, Xtest, Ttest\n",
    "\n",
    "    for validation_i in range(n_folds):\n",
    "        for test_i in range(n_folds):\n",
    "            if test_i == validation_i:\n",
    "                continue\n",
    "\n",
    "            train_i = np.setdiff1d(range(n_folds), [validation_i, test_i])\n",
    "\n",
    "            Xvalidate, Tvalidate = folds[validation_i]\n",
    "            Xtest, Ttest = folds[test_i]\n",
    "            if len(train_i) > 1:\n",
    "                Xtrain = np.vstack([folds[i][0] for i in train_i])\n",
    "                Ttrain = np.vstack([folds[i][1] for i in train_i])\n",
    "            else:\n",
    "                Xtrain, Ttrain = folds[train_i[0]]\n",
    "\n",
    "            yield Xtrain, Ttrain, Xvalidate, Tvalidate, Xtest, Ttest"
   ]
  },
  {
   "cell_type": "markdown",
   "metadata": {},
   "source": [
    "## Example"
   ]
  },
  {
   "cell_type": "code",
   "execution_count": 8,
   "metadata": {},
   "outputs": [
    {
     "data": {
      "text/plain": [
       "(array([[ 0,  1],\n",
       "        [ 2,  3],\n",
       "        [ 4,  5],\n",
       "        [ 6,  7],\n",
       "        [ 8,  9],\n",
       "        [10, 11]]),\n",
       " array([[ 0],\n",
       "        [10],\n",
       "        [20],\n",
       "        [30],\n",
       "        [40],\n",
       "        [50]]))"
      ]
     },
     "execution_count": 8,
     "metadata": {},
     "output_type": "execute_result"
    }
   ],
   "source": [
    "X = np.arange(2 * 6).reshape((6, 2))\n",
    "T = np.arange(6).reshape((6, 1)) * 10\n",
    "X, T"
   ]
  },
  {
   "cell_type": "code",
   "execution_count": 9,
   "metadata": {},
   "outputs": [
    {
     "name": "stdout",
     "output_type": "stream",
     "text": [
      "\n",
      "Xtrain\n",
      " [[8 9]\n",
      " [6 7]]\n",
      "Ttrain\n",
      " [[40]\n",
      " [30]]\n",
      "Xvalidate\n",
      " [[0 1]\n",
      " [2 3]]\n",
      "Tvalidate\n",
      " [[ 0]\n",
      " [10]]\n",
      "Xtest\n",
      " [[10 11]\n",
      " [ 4  5]]\n",
      "Ttest\n",
      " [[50]\n",
      " [20]]\n",
      "\n",
      "Xtrain\n",
      " [[10 11]\n",
      " [ 4  5]]\n",
      "Ttrain\n",
      " [[50]\n",
      " [20]]\n",
      "Xvalidate\n",
      " [[0 1]\n",
      " [2 3]]\n",
      "Tvalidate\n",
      " [[ 0]\n",
      " [10]]\n",
      "Xtest\n",
      " [[8 9]\n",
      " [6 7]]\n",
      "Ttest\n",
      " [[40]\n",
      " [30]]\n",
      "\n",
      "Xtrain\n",
      " [[8 9]\n",
      " [6 7]]\n",
      "Ttrain\n",
      " [[40]\n",
      " [30]]\n",
      "Xvalidate\n",
      " [[10 11]\n",
      " [ 4  5]]\n",
      "Tvalidate\n",
      " [[50]\n",
      " [20]]\n",
      "Xtest\n",
      " [[0 1]\n",
      " [2 3]]\n",
      "Ttest\n",
      " [[ 0]\n",
      " [10]]\n",
      "\n",
      "Xtrain\n",
      " [[0 1]\n",
      " [2 3]]\n",
      "Ttrain\n",
      " [[ 0]\n",
      " [10]]\n",
      "Xvalidate\n",
      " [[10 11]\n",
      " [ 4  5]]\n",
      "Tvalidate\n",
      " [[50]\n",
      " [20]]\n",
      "Xtest\n",
      " [[8 9]\n",
      " [6 7]]\n",
      "Ttest\n",
      " [[40]\n",
      " [30]]\n",
      "\n",
      "Xtrain\n",
      " [[10 11]\n",
      " [ 4  5]]\n",
      "Ttrain\n",
      " [[50]\n",
      " [20]]\n",
      "Xvalidate\n",
      " [[8 9]\n",
      " [6 7]]\n",
      "Tvalidate\n",
      " [[40]\n",
      " [30]]\n",
      "Xtest\n",
      " [[0 1]\n",
      " [2 3]]\n",
      "Ttest\n",
      " [[ 0]\n",
      " [10]]\n",
      "\n",
      "Xtrain\n",
      " [[0 1]\n",
      " [2 3]]\n",
      "Ttrain\n",
      " [[ 0]\n",
      " [10]]\n",
      "Xvalidate\n",
      " [[8 9]\n",
      " [6 7]]\n",
      "Tvalidate\n",
      " [[40]\n",
      " [30]]\n",
      "Xtest\n",
      " [[10 11]\n",
      " [ 4  5]]\n",
      "Ttest\n",
      " [[50]\n",
      " [20]]\n"
     ]
    }
   ],
   "source": [
    "np.random.seed(42)\n",
    "\n",
    "for Xtrain, Ttrain, Xvalidate, Tvalidate, Xtest, Ttest in generate_k_fold_cross_validation_sets(X, T, 3):\n",
    "    print()\n",
    "    print('Xtrain\\n', Xtrain)\n",
    "    print('Ttrain\\n', Ttrain)\n",
    "    print('Xvalidate\\n', Xvalidate)\n",
    "    print('Tvalidate\\n', Tvalidate)\n",
    "    print('Xtest\\n', Xtest)\n",
    "    print('Ttest\\n', Ttest)\n",
    "    "
   ]
  },
  {
   "cell_type": "markdown",
   "metadata": {},
   "source": [
    "# Function to train NNets and average RMSE over all ways of partitioning"
   ]
  },
  {
   "cell_type": "markdown",
   "metadata": {},
   "source": [
    "## Implementation"
   ]
  },
  {
   "cell_type": "markdown",
   "metadata": {},
   "source": [
    "Define the following function that trains neural networks of different architectures, given by `list_of_n_hiddens`, for one value each of `n_epochs`, `learning_rate`, and `act_fun`.  For each network, train on all k-fold cross-validation training sets, and calculate the RMSEs for the training, validation and test. Calculate the mean of training, validation and test RMSEs over the k-fold partitions, so that you have one training, one validation, and one test set RMSE for each network.  Append a list of the architecture and these three mean RMSEs to a list of results and return the list as a pandas DataFrame described below when done.\n",
    "\n",
    "To iterate over all k-fold partitions, use a for loop like the example in the previous code cell. Call `generate_k_fold_cross_validation_sets` with `shuffle=True`. "
   ]
  },
  {
   "cell_type": "code",
   "execution_count": 10,
   "metadata": {},
   "outputs": [],
   "source": [
    "def run_k_fold_cross_validation(X, T, n_folds, list_of_n_hiddens, \n",
    "                                n_epochs, learning_rate, act_func, gpu=False):\n",
    "    \n",
    "    train_rmse_list = []\n",
    "    test_rmse_list = []\n",
    "    tval_rmse_list = []\n",
    "    \n",
    "    avg_list = []\n",
    "    \n",
    "    def rmse_new(Y, T):\n",
    "                    \n",
    "        T = T.cpu().detach()\n",
    "        T = np.array(T)\n",
    "        #print(type(T), type(Y))\n",
    "        #print((T), (Y))\n",
    "\n",
    "        return np.sqrt(np.mean((T - Y)**2))\n",
    "    \n",
    "    for n_hiddens in list_of_n_hiddens:\n",
    "                                   \n",
    "        train_rmse_list = []\n",
    "        test_rmse_list = []\n",
    "        tval_rmse_list = []\n",
    "        \n",
    "        for Xtrain, Ttrain, Xval, Tval, Xtest, Ttest in generate_k_fold_cross_validation_sets(X, T, n_folds):\n",
    "\n",
    "                \n",
    "                n_samples, n_inputs = Xtrain.shape \n",
    "                n_outputs = Ttrain.shape[1]\n",
    "\n",
    "                \n",
    "                \n",
    "                net = NNet(n_inputs, n_hiddens, n_outputs, act_func=act_func)\n",
    "                \n",
    "                Xtrain = torch.from_numpy(Xtrain).float()\n",
    "                Ttrain = torch.from_numpy(Ttrain).float()\n",
    "                Xtest = torch.from_numpy(Xtest).float()\n",
    "                Ttest = torch.from_numpy(Ttest).float()\n",
    "                Xval = torch.from_numpy(Xval).float()\n",
    "                Tval = torch.from_numpy(Tval).float()\n",
    "\n",
    "                \n",
    "\n",
    "                \n",
    "                if gpu:\n",
    "                    \n",
    "                    \n",
    "                    \n",
    "                    Xtrain = Xtrain.to('cuda')\n",
    "                    Ttrain = Ttrain.to('cuda')\n",
    "                    Xval = Xval.to('cuda')\n",
    "                    Tval = Tval.to('cuda')\n",
    "                    Xtest = Xtest.to('cuda')\n",
    "                    Ttest = Ttest.to('cuda')\n",
    "                    net.to('cuda')\n",
    "\n",
    "                    \n",
    "                net.train(Xtrain, Ttrain, n_epochs, learning_rate, False)\n",
    "                \n",
    "                #Train RMSE\n",
    "                Ytrain = net.use(Xtrain)\n",
    "                train_rmse = rmse_new(Ytrain, Ttrain)\n",
    "\n",
    "                #print(f'Train RMSE {rmse(Ytrain, Ttrain):.3f}')\n",
    "                \n",
    "                #Test RMSE\n",
    "                Ytest = net.use(Xtest)\n",
    "                test_rmse = rmse_new(Ytest, Ttest)\n",
    "\n",
    "                #print(f'Test RMSE {rmse(Ytest, Ttest):.3f}')\n",
    "                \n",
    "                #Validation RMSE\n",
    "                Yval = net.use(Xval)\n",
    "                tval_rmse = rmse_new(Yval, Tval)\n",
    "\n",
    "                #print(f'Train RMSE {rmse(Yval, Tval):.3f}')\n",
    "                \n",
    "                train_rmse_list.append(train_rmse)\n",
    "                test_rmse_list.append(test_rmse)\n",
    "                tval_rmse_list.append(tval_rmse)\n",
    "                \n",
    "               \n",
    "        \n",
    "        avg_train = sum(train_rmse_list)/len(train_rmse_list)\n",
    "        avg_test = sum(test_rmse_list)/len(test_rmse_list)\n",
    "        avg_tval = sum(tval_rmse_list)/len(tval_rmse_list)\n",
    "        \n",
    "        \n",
    "        \n",
    "        \n",
    "        avg_list.append((n_hiddens, avg_train, avg_test, avg_tval))\n",
    "\n",
    "        \n",
    "    result_df = pandas.DataFrame(avg_list, columns=['Arch', 'Train RMSE', 'Validate RMSE', 'Test RMSE'])\n",
    "    \n",
    "    \n",
    "    return result_df"
   ]
  },
  {
   "cell_type": "code",
   "execution_count": 11,
   "metadata": {},
   "outputs": [
    {
     "data": {
      "text/html": [
       "<div>\n",
       "<style scoped>\n",
       "    .dataframe tbody tr th:only-of-type {\n",
       "        vertical-align: middle;\n",
       "    }\n",
       "\n",
       "    .dataframe tbody tr th {\n",
       "        vertical-align: top;\n",
       "    }\n",
       "\n",
       "    .dataframe thead th {\n",
       "        text-align: right;\n",
       "    }\n",
       "</style>\n",
       "<table border=\"1\" class=\"dataframe\">\n",
       "  <thead>\n",
       "    <tr style=\"text-align: right;\">\n",
       "      <th></th>\n",
       "      <th>Arch</th>\n",
       "      <th>Train RMSE</th>\n",
       "      <th>Validate RMSE</th>\n",
       "      <th>Test RMSE</th>\n",
       "    </tr>\n",
       "  </thead>\n",
       "  <tbody>\n",
       "    <tr>\n",
       "      <th>0</th>\n",
       "      <td>[]</td>\n",
       "      <td>2.658026</td>\n",
       "      <td>9.553700</td>\n",
       "      <td>5.898616</td>\n",
       "    </tr>\n",
       "    <tr>\n",
       "      <th>1</th>\n",
       "      <td>[1]</td>\n",
       "      <td>14.174273</td>\n",
       "      <td>15.164413</td>\n",
       "      <td>18.588867</td>\n",
       "    </tr>\n",
       "    <tr>\n",
       "      <th>2</th>\n",
       "      <td>[5]</td>\n",
       "      <td>0.664949</td>\n",
       "      <td>4.468110</td>\n",
       "      <td>4.779950</td>\n",
       "    </tr>\n",
       "    <tr>\n",
       "      <th>3</th>\n",
       "      <td>[200, 200]</td>\n",
       "      <td>0.266453</td>\n",
       "      <td>2.009241</td>\n",
       "      <td>2.478226</td>\n",
       "    </tr>\n",
       "  </tbody>\n",
       "</table>\n",
       "</div>"
      ],
      "text/plain": [
       "         Arch  Train RMSE  Validate RMSE  Test RMSE\n",
       "0          []    2.658026       9.553700   5.898616\n",
       "1         [1]   14.174273      15.164413  18.588867\n",
       "2         [5]    0.664949       4.468110   4.779950\n",
       "3  [200, 200]    0.266453       2.009241   2.478226"
      ]
     },
     "execution_count": 11,
     "metadata": {},
     "output_type": "execute_result"
    }
   ],
   "source": [
    "rdf = run_k_fold_cross_validation(X, T, 3, [[], [1], [5], [200, 200]], 50, 0.01, 'relu')\n",
    "rdf"
   ]
  },
  {
   "cell_type": "markdown",
   "metadata": {},
   "source": [
    "## Apply to Airfoil Data"
   ]
  },
  {
   "cell_type": "markdown",
   "metadata": {},
   "source": [
    "Download `airfoil_self_noise.dat` from [Airfoil Data Website](https://archive.ics.uci.edu/ml/datasets/Airfoil+Self-Noise) and read it as shown below."
   ]
  },
  {
   "cell_type": "code",
   "execution_count": 12,
   "metadata": {},
   "outputs": [],
   "source": [
    "airfoil = pandas.read_csv('airfoil_self_noise.dat', delimiter='\\t',\n",
    "                          names=('frequency', 'angle', 'chord', \n",
    "                                 'velocity', 'thickness', 'pressure'))"
   ]
  },
  {
   "cell_type": "markdown",
   "metadata": {},
   "source": [
    "Apply your `run_k_fold_cross_validation` to the airfoil data, with `X` being the first five columns of the data and `T` being the last column, the 'pressure'. \n",
    "\n",
    "Here is an example run.  You must try more neural network architectures.  Keep the following points in mind when you choose parameter values to try:\n",
    "* Larger networks will require more epochs of training to converge.\n",
    "* Large learning rates could limit convergence, but small learning rates may take many more epochs than you have patience for.\n",
    "* Display results as a `pandas` `DataFrame` and in plots.  <font color=red>Your tabular results and plots must be described sufficiently.  If you struggle with judging this yourself, you can consider 10 sentences or more of discussion to be sufficient, but 9 perceptive sentences are better than 10 or more sentences of non-analytical fluff.</font>\n",
    "* Name the columns of your `DataFrame` result to be `columns=('Arch', 'Train RMSE', 'Validate RMSE', 'Test RMSE'))`"
   ]
  },
  {
   "cell_type": "code",
   "execution_count": 13,
   "metadata": {},
   "outputs": [
    {
     "data": {
      "text/plain": [
       "<bound method NDFrame.head of       frequency  angle   chord  velocity  thickness  pressure\n",
       "0           800    0.0  0.3048      71.3   0.002663   126.201\n",
       "1          1000    0.0  0.3048      71.3   0.002663   125.201\n",
       "2          1250    0.0  0.3048      71.3   0.002663   125.951\n",
       "3          1600    0.0  0.3048      71.3   0.002663   127.591\n",
       "4          2000    0.0  0.3048      71.3   0.002663   127.461\n",
       "...         ...    ...     ...       ...        ...       ...\n",
       "1498       2500   15.6  0.1016      39.6   0.052849   110.264\n",
       "1499       3150   15.6  0.1016      39.6   0.052849   109.254\n",
       "1500       4000   15.6  0.1016      39.6   0.052849   106.604\n",
       "1501       5000   15.6  0.1016      39.6   0.052849   106.224\n",
       "1502       6300   15.6  0.1016      39.6   0.052849   104.204\n",
       "\n",
       "[1503 rows x 6 columns]>"
      ]
     },
     "execution_count": 13,
     "metadata": {},
     "output_type": "execute_result"
    }
   ],
   "source": [
    "airfoil.head"
   ]
  },
  {
   "cell_type": "code",
   "execution_count": 14,
   "metadata": {},
   "outputs": [],
   "source": [
    "data = airfoil.iloc[:, :].values\n",
    "\n",
    "X = data[:, :5]\n",
    "T = data[:, 5:6]\n"
   ]
  },
  {
   "cell_type": "code",
   "execution_count": 15,
   "metadata": {},
   "outputs": [
    {
     "data": {
      "text/plain": [
       "array([126.201])"
      ]
     },
     "execution_count": 15,
     "metadata": {},
     "output_type": "execute_result"
    }
   ],
   "source": [
    "T[0]"
   ]
  },
  {
   "cell_type": "code",
   "execution_count": 16,
   "metadata": {},
   "outputs": [
    {
     "name": "stdout",
     "output_type": "stream",
     "text": [
      "Took 0.00 hours\n"
     ]
    },
    {
     "data": {
      "text/html": [
       "<div>\n",
       "<style scoped>\n",
       "    .dataframe tbody tr th:only-of-type {\n",
       "        vertical-align: middle;\n",
       "    }\n",
       "\n",
       "    .dataframe tbody tr th {\n",
       "        vertical-align: top;\n",
       "    }\n",
       "\n",
       "    .dataframe thead th {\n",
       "        text-align: right;\n",
       "    }\n",
       "</style>\n",
       "<table border=\"1\" class=\"dataframe\">\n",
       "  <thead>\n",
       "    <tr style=\"text-align: right;\">\n",
       "      <th></th>\n",
       "      <th>Arch</th>\n",
       "      <th>Train RMSE</th>\n",
       "      <th>Validate RMSE</th>\n",
       "      <th>Test RMSE</th>\n",
       "    </tr>\n",
       "  </thead>\n",
       "  <tbody>\n",
       "    <tr>\n",
       "      <th>0</th>\n",
       "      <td>[]</td>\n",
       "      <td>4.790511</td>\n",
       "      <td>4.840742</td>\n",
       "      <td>4.839218</td>\n",
       "    </tr>\n",
       "    <tr>\n",
       "      <th>1</th>\n",
       "      <td>[1]</td>\n",
       "      <td>4.519531</td>\n",
       "      <td>4.544003</td>\n",
       "      <td>4.550374</td>\n",
       "    </tr>\n",
       "    <tr>\n",
       "      <th>2</th>\n",
       "      <td>[5]</td>\n",
       "      <td>3.945289</td>\n",
       "      <td>4.056473</td>\n",
       "      <td>4.075281</td>\n",
       "    </tr>\n",
       "    <tr>\n",
       "      <th>3</th>\n",
       "      <td>[200, 200]</td>\n",
       "      <td>1.226905</td>\n",
       "      <td>1.800480</td>\n",
       "      <td>1.818607</td>\n",
       "    </tr>\n",
       "  </tbody>\n",
       "</table>\n",
       "</div>"
      ],
      "text/plain": [
       "         Arch  Train RMSE  Validate RMSE  Test RMSE\n",
       "0          []    4.790511       4.840742   4.839218\n",
       "1         [1]    4.519531       4.544003   4.550374\n",
       "2         [5]    3.945289       4.056473   4.075281\n",
       "3  [200, 200]    1.226905       1.800480   1.818607"
      ]
     },
     "execution_count": 16,
     "metadata": {},
     "output_type": "execute_result"
    }
   ],
   "source": [
    "torch.manual_seed(42)\n",
    "np.random.seed(42)\n",
    "\n",
    "import time\n",
    "start = time.time()\n",
    "\n",
    "results = run_k_fold_cross_validation(X, T, 5,\n",
    "                                      [[], [1], [5], [200, 200]],\n",
    "                                      200, 0.01, 'tanh')\n",
    "\n",
    "elapsed = (time.time() - start) / 60/ 60\n",
    "print(f'Took {elapsed:.2f} hours')\n",
    "results"
   ]
  },
  {
   "cell_type": "markdown",
   "metadata": {},
   "source": [
    "Here is a handy function to plot the RMSEs you have in your results table.  You may use this function to plot your results.  Remember to describe what you see."
   ]
  },
  {
   "cell_type": "code",
   "execution_count": 17,
   "metadata": {},
   "outputs": [],
   "source": [
    "def plot_results(results):\n",
    "    errors = results.iloc[:, 1:].values\n",
    "    archs = results.iloc[:, 0].values\n",
    "    archs = [str(ar) for ar in archs]\n",
    "\n",
    "    plt.plot(archs, errors, 'o-')\n",
    "    plt.legend(('Train', 'Validate', 'Test'))\n",
    "    plt.ylabel('RMSE')\n",
    "    plt.xticks(range(errors.shape[0]), archs, rotation=45, ha='right')\n",
    "    plt.tight_layout()"
   ]
  },
  {
   "cell_type": "code",
   "execution_count": 18,
   "metadata": {},
   "outputs": [
    {
     "data": {
      "image/png": "[encoded data removed]",
      "text/plain": [
       "<Figure size 432x288 with 1 Axes>"
      ]
     },
     "metadata": {
      "needs_background": "light"
     },
     "output_type": "display_data"
    }
   ],
   "source": [
    "plot_results(results)"
   ]
  },
  {
   "cell_type": "code",
   "execution_count": null,
   "metadata": {},
   "outputs": [],
   "source": [
    "# Testing with different NNet archs\n",
    "\n",
    "n_folds = 5 \n",
    "list_of_n_hiddens = [[[], [10], [50], [200, 200], [50,100,50], [200,400,500]], [[10], [50,50,50,50], [100, 100, 200, 200] ]]\n",
    "n_epochs = 1000\n",
    "learning_rate =  0.01, 0.1, 1\n",
    "act_func = ['relu', 'tanh']\n",
    "\n",
    "torch.manual_seed(42)\n",
    "np.random.seed(42)\n",
    "\n",
    "\n",
    "start = time.time()\n",
    "\n",
    "results1 = run_k_fold_cross_validation(X, T, n_folds, list_of_n_hiddens[0], \n",
    "                                n_epochs, learning_rate[0], act_func[0])\n",
    "                  \n",
    "\n",
    "\n",
    "elapsed = (time.time() - start) / 60/ 60\n",
    "print(f'Took {elapsed:.2f} hours')\n",
    "results1"
   ]
  },
  {
   "cell_type": "code",
   "execution_count": 34,
   "metadata": {},
   "outputs": [
    {
     "name": "stdout",
     "output_type": "stream",
     "text": [
      "Activation function - \n"
     ]
    },
    {
     "data": {
      "text/html": [
       "<div>\n",
       "<style scoped>\n",
       "    .dataframe tbody tr th:only-of-type {\n",
       "        vertical-align: middle;\n",
       "    }\n",
       "\n",
       "    .dataframe tbody tr th {\n",
       "        vertical-align: top;\n",
       "    }\n",
       "\n",
       "    .dataframe thead th {\n",
       "        text-align: right;\n",
       "    }\n",
       "</style>\n",
       "<table border=\"1\" class=\"dataframe\">\n",
       "  <thead>\n",
       "    <tr style=\"text-align: right;\">\n",
       "      <th></th>\n",
       "      <th>Arch</th>\n",
       "      <th>Train RMSE</th>\n",
       "      <th>Validate RMSE</th>\n",
       "      <th>Test RMSE</th>\n",
       "    </tr>\n",
       "  </thead>\n",
       "  <tbody>\n",
       "    <tr>\n",
       "      <th>0</th>\n",
       "      <td>[]</td>\n",
       "      <td>4.788779</td>\n",
       "      <td>4.837913</td>\n",
       "      <td>4.837913</td>\n",
       "    </tr>\n",
       "    <tr>\n",
       "      <th>1</th>\n",
       "      <td>[10]</td>\n",
       "      <td>2.532805</td>\n",
       "      <td>2.771846</td>\n",
       "      <td>2.738732</td>\n",
       "    </tr>\n",
       "    <tr>\n",
       "      <th>2</th>\n",
       "      <td>[50]</td>\n",
       "      <td>1.565838</td>\n",
       "      <td>2.059607</td>\n",
       "      <td>2.069478</td>\n",
       "    </tr>\n",
       "    <tr>\n",
       "      <th>3</th>\n",
       "      <td>[200, 200]</td>\n",
       "      <td>0.669355</td>\n",
       "      <td>1.599807</td>\n",
       "      <td>1.612388</td>\n",
       "    </tr>\n",
       "    <tr>\n",
       "      <th>4</th>\n",
       "      <td>[50, 100, 50]</td>\n",
       "      <td>0.548254</td>\n",
       "      <td>1.526049</td>\n",
       "      <td>1.527779</td>\n",
       "    </tr>\n",
       "    <tr>\n",
       "      <th>5</th>\n",
       "      <td>[200, 400, 500]</td>\n",
       "      <td>0.568004</td>\n",
       "      <td>1.512912</td>\n",
       "      <td>1.511016</td>\n",
       "    </tr>\n",
       "  </tbody>\n",
       "</table>\n",
       "</div>"
      ],
      "text/plain": [
       "              Arch  Train RMSE  Validate RMSE  Test RMSE\n",
       "0               []    4.788779       4.837913   4.837913\n",
       "1             [10]    2.532805       2.771846   2.738732\n",
       "2             [50]    1.565838       2.059607   2.069478\n",
       "3       [200, 200]    0.669355       1.599807   1.612388\n",
       "4    [50, 100, 50]    0.548254       1.526049   1.527779\n",
       "5  [200, 400, 500]    0.568004       1.512912   1.511016"
      ]
     },
     "execution_count": 34,
     "metadata": {},
     "output_type": "execute_result"
    },
    {
     "data": {
      "image/png": "[encoded data removed]",
      "text/plain": [
       "<Figure size 432x288 with 1 Axes>"
      ]
     },
     "metadata": {
      "needs_background": "light"
     },
     "output_type": "display_data"
    }
   ],
   "source": [
    "print('Activation function - relu')\n",
    "plot_results(results1)\n",
    "results1"
   ]
  },
  {
   "cell_type": "code",
   "execution_count": 35,
   "metadata": {
    "scrolled": true
   },
   "outputs": [
    {
     "data": {
      "image/png": "[encoded data removed]",
      "text/plain": [
       "<Figure size 432x288 with 1 Axes>"
      ]
     },
     "metadata": {
      "needs_background": "light"
     },
     "output_type": "display_data"
    }
   ],
   "source": [
    "results2 = run_k_fold_cross_validation(X, T, n_folds, list_of_n_hiddens[0], \n",
    "                                n_epochs, learning_rate[1], act_func[0])\n",
    "\n",
    "\n",
    "print('Activation function - relu')\n",
    "plot_results(results2)\n",
    "results2"
   ]
  },
  {
   "cell_type": "code",
   "execution_count": 42,
   "metadata": {
    "scrolled": true
   },
   "outputs": [
    {
     "name": "stdout",
     "output_type": "stream",
     "text": [
      " \n",
      " Activation function - tanh\n"
     ]
    },
    {
     "data": {
      "text/html": [
       "<div>\n",
       "<style scoped>\n",
       "    .dataframe tbody tr th:only-of-type {\n",
       "        vertical-align: middle;\n",
       "    }\n",
       "\n",
       "    .dataframe tbody tr th {\n",
       "        vertical-align: top;\n",
       "    }\n",
       "\n",
       "    .dataframe thead th {\n",
       "        text-align: right;\n",
       "    }\n",
       "</style>\n",
       "<table border=\"1\" class=\"dataframe\">\n",
       "  <thead>\n",
       "    <tr style=\"text-align: right;\">\n",
       "      <th></th>\n",
       "      <th>Arch</th>\n",
       "      <th>Train RMSE</th>\n",
       "      <th>Validate RMSE</th>\n",
       "      <th>Test RMSE</th>\n",
       "    </tr>\n",
       "  </thead>\n",
       "  <tbody>\n",
       "    <tr>\n",
       "      <th>0</th>\n",
       "      <td>[]</td>\n",
       "      <td>4.788873</td>\n",
       "      <td>4.832893</td>\n",
       "      <td>4.832892</td>\n",
       "    </tr>\n",
       "    <tr>\n",
       "      <th>1</th>\n",
       "      <td>[10]</td>\n",
       "      <td>2.332762</td>\n",
       "      <td>2.549530</td>\n",
       "      <td>2.559662</td>\n",
       "    </tr>\n",
       "    <tr>\n",
       "      <th>2</th>\n",
       "      <td>[50]</td>\n",
       "      <td>1.491545</td>\n",
       "      <td>1.967507</td>\n",
       "      <td>1.978619</td>\n",
       "    </tr>\n",
       "    <tr>\n",
       "      <th>3</th>\n",
       "      <td>[200, 200]</td>\n",
       "      <td>0.387732</td>\n",
       "      <td>1.679182</td>\n",
       "      <td>1.696056</td>\n",
       "    </tr>\n",
       "    <tr>\n",
       "      <th>4</th>\n",
       "      <td>[50, 100, 50]</td>\n",
       "      <td>0.430861</td>\n",
       "      <td>1.439744</td>\n",
       "      <td>1.463069</td>\n",
       "    </tr>\n",
       "    <tr>\n",
       "      <th>5</th>\n",
       "      <td>[200, 400, 500]</td>\n",
       "      <td>0.548711</td>\n",
       "      <td>1.666065</td>\n",
       "      <td>1.662622</td>\n",
       "    </tr>\n",
       "  </tbody>\n",
       "</table>\n",
       "</div>"
      ],
      "text/plain": [
       "              Arch  Train RMSE  Validate RMSE  Test RMSE\n",
       "0               []    4.788873       4.832893   4.832892\n",
       "1             [10]    2.332762       2.549530   2.559662\n",
       "2             [50]    1.491545       1.967507   1.978619\n",
       "3       [200, 200]    0.387732       1.679182   1.696056\n",
       "4    [50, 100, 50]    0.430861       1.439744   1.463069\n",
       "5  [200, 400, 500]    0.548711       1.666065   1.662622"
      ]
     },
     "execution_count": 42,
     "metadata": {},
     "output_type": "execute_result"
    },
    {
     "data": {
      "image/png": "[encoded data removed]",
      "text/plain": [
       "<Figure size 432x288 with 1 Axes>"
      ]
     },
     "metadata": {
      "needs_background": "light"
     },
     "output_type": "display_data"
    }
   ],
   "source": [
    "results3 = run_k_fold_cross_validation(X, T, n_folds, list_of_n_hiddens[0], \n",
    "                                n_epochs, learning_rate[0], act_func[1])\n",
    "print(' \\n Activation function - tanh')\n",
    "plot_results(results3)\n",
    "results3"
   ]
  },
  {
   "cell_type": "code",
   "execution_count": 41,
   "metadata": {
    "scrolled": true
   },
   "outputs": [
    {
     "name": "stdout",
     "output_type": "stream",
     "text": [
      " \n",
      " Activation function - tanh\n"
     ]
    },
    {
     "data": {
      "text/html": [
       "<div>\n",
       "<style scoped>\n",
       "    .dataframe tbody tr th:only-of-type {\n",
       "        vertical-align: middle;\n",
       "    }\n",
       "\n",
       "    .dataframe tbody tr th {\n",
       "        vertical-align: top;\n",
       "    }\n",
       "\n",
       "    .dataframe thead th {\n",
       "        text-align: right;\n",
       "    }\n",
       "</style>\n",
       "<table border=\"1\" class=\"dataframe\">\n",
       "  <thead>\n",
       "    <tr style=\"text-align: right;\">\n",
       "      <th></th>\n",
       "      <th>Arch</th>\n",
       "      <th>Train RMSE</th>\n",
       "      <th>Validate RMSE</th>\n",
       "      <th>Test RMSE</th>\n",
       "    </tr>\n",
       "  </thead>\n",
       "  <tbody>\n",
       "    <tr>\n",
       "      <th>0</th>\n",
       "      <td>[10]</td>\n",
       "      <td>2.328001</td>\n",
       "      <td>2.587305</td>\n",
       "      <td>2.599411</td>\n",
       "    </tr>\n",
       "    <tr>\n",
       "      <th>1</th>\n",
       "      <td>[50, 50, 50, 50]</td>\n",
       "      <td>0.562171</td>\n",
       "      <td>1.409013</td>\n",
       "      <td>1.414969</td>\n",
       "    </tr>\n",
       "    <tr>\n",
       "      <th>2</th>\n",
       "      <td>[100, 100, 200, 200]</td>\n",
       "      <td>0.357686</td>\n",
       "      <td>1.484978</td>\n",
       "      <td>1.465208</td>\n",
       "    </tr>\n",
       "  </tbody>\n",
       "</table>\n",
       "</div>"
      ],
      "text/plain": [
       "                   Arch  Train RMSE  Validate RMSE  Test RMSE\n",
       "0                  [10]    2.328001       2.587305   2.599411\n",
       "1      [50, 50, 50, 50]    0.562171       1.409013   1.414969\n",
       "2  [100, 100, 200, 200]    0.357686       1.484978   1.465208"
      ]
     },
     "execution_count": 41,
     "metadata": {},
     "output_type": "execute_result"
    },
    {
     "data": {
      "image/png": "[encoded data removed]",
      "text/plain": [
       "<Figure size 432x288 with 1 Axes>"
      ]
     },
     "metadata": {
      "needs_background": "light"
     },
     "output_type": "display_data"
    }
   ],
   "source": [
    "results4 = run_k_fold_cross_validation(X, T, n_folds, list_of_n_hiddens[1], \n",
    "                                n_epochs, learning_rate[0], act_func[1])\n",
    "print(' \\n Activation function - tanh')\n",
    "plot_results(results4)\n",
    "results4  "
   ]
  },
  {
   "cell_type": "code",
   "execution_count": null,
   "metadata": {},
   "outputs": [],
   "source": []
  },
  {
   "cell_type": "markdown",
   "metadata": {},
   "source": [
    " ## Discussion\n",
    " \n",
    "- Lowest validation RMSE is 1.40 with config [50,50,50,50]\n",
    "\n",
    "\n",
    "- Learning rate of 0.01 seems to be the best suited for the data given. If learning rate is further increase the RMSE goes up \n",
    "\n",
    "\n",
    "- As we increse the number of hidden layers and the number of neurons in hidden layers, RMSE goes down up to a point ( 3 or 4 layers and 50 to 100 neurons in each layer). After this point the RMSE does not go down that much\n",
    "\n",
    "\n",
    "- This migh be beacuse the data we have has only 5 input features and we are predicting only one thing. So the relationship between features and the output is not very complex. Therefore, NN with 4 layers might be enough to take care of the nonlinearities\n",
    "\n",
    "\n",
    "- Testing and Validation RMSE is similar. This might be due to similar size of test and validation datasets after the 5 fold split\n",
    "\n",
    "\n",
    "- The model starts to overfit after about 4 layers\n",
    "\n",
    "\n",
    "- Training time increases rapidly with increase in number of hidden layers and number of neurons in them\n",
    "\n",
    "\n",
    "- Selection of activation function did not have that much of impact on RMSE. I got similar results for tanh and relu activation function\n"
   ]
  },
  {
   "cell_type": "markdown",
   "metadata": {},
   "source": [
    "# Grading and Check-In"
   ]
  },
  {
   "cell_type": "markdown",
   "metadata": {},
   "source": [
    "You will score 90 points if your `train`, `use`, an `run_k_fold_cross_validation` functions are defined correctly. You can test this grading process yourself by downloading [A3grader.zip](https://www.cs.colostate.edu/~cs445/notebooks/A3grader.zip) and extracting `A3grader.py` parallel to this notebook.  We recommend keeping this notebook and the grader script in a dedicated folder with *just those two files.* Run the code in the following cell to see an example grading run.  If your functions are defined correctly, you should see a score of 90/90.  The remaining 10 points will be based on 1) other testing and the results you obtain, and 2) your discussions."
   ]
  },
  {
   "cell_type": "code",
   "execution_count": 28,
   "metadata": {},
   "outputs": [
    {
     "name": "stdout",
     "output_type": "stream",
     "text": [
      "\n",
      "======================= Code Execution =======================\n",
      "\n",
      "Extracting python code from notebook named 'A3.3 Cross-validation with Pytorch.ipynb' and storing in notebookcode.py\n",
      "Removing all statements that are not function or class defs or import statements.\n",
      "\n",
      "Testing\n",
      "    torch.manual_seed(142)\n",
      "\n",
      "    X = np.arange(40).reshape(20, 2)\n",
      "    T = np.log(1 + X[:, 0:1])\n",
      "\n",
      "    nnet = NNet(X.shape[1], [10, 10], T.shape[1], act_func='relu')\n",
      "    nnet.train(X, T, 100, 0.01, verbose=False)\n",
      "\n",
      "    first_Y = nnet.use(X)[0, 0]\n",
      "\n",
      "\n",
      "--- 30/30 points. Returned correct value.\n",
      "\n",
      "Testing\n",
      "    torch.manual_seed(142)\n",
      "\n",
      "    X = np.arange(40).reshape(20, 2)\n",
      "    T = np.log(1 + X[:, 0:1])\n",
      "\n",
      "    nnet = NNet(X.shape[1], [10, 10], T.shape[1], act_func='tanh')  # Using tanh\n",
      "    nnet.train(X, T, 100, 0.01, verbose=False)\n",
      "\n",
      "    first_Y = nnet.use(X)[0, 0]\n",
      "\n",
      "\n",
      "--- 30/30 points. Returned correct value.\n",
      "\n",
      "Testing\n",
      "    torch.manual_seed(400)\n",
      "    np.random.seed(400)\n",
      "\n",
      "    X = np.arange(40).reshape(20, 2)\n",
      "    T = np.log(1 + X[:, 0:1])\n",
      "    \n",
      "    results = run_k_fold_cross_validation(X, T, 3,\n",
      "                                          [[], [1], [20], [40, 40]],\n",
      "                                          1000, 0.01, 'tanh')\n",
      "\n",
      "    print(results)\n",
      "\n",
      "    # This will take a minute or two....\n",
      "\n",
      "\n",
      "       Arch  Train RMSE  Validate RMSE  Test RMSE\n",
      "0        []    0.286660       0.476284   0.476284\n",
      "1       [1]    0.111917       0.407813   0.402839\n",
      "2      [20]    0.005308       0.294546   0.301842\n",
      "3  [40, 40]    0.002298       0.317340   0.315681\n",
      "\n",
      "--- 30/30 points. Returned correct value.\n",
      "\n",
      "======================================================================\n",
      "as3 Execution Grade is 90 / 90\n",
      "======================================================================\n",
      "\n",
      " __ / 10 Based on other testing and the results you obtain and your discussions.\n",
      "\n",
      "======================================================================\n",
      "as3 FINAL GRADE is  _  / 100\n",
      "======================================================================\n",
      "\n",
      "Extra Credit:\n",
      "\n",
      "1. Add a keyword argument gpu that is False by default. If set to True, move data and \n",
      "   neural network model to the GPU and train and test it there. Compare total execution\n",
      "    time without and with the use of the GPU.\n",
      "\n",
      "2. Find another data set, not used previously in an assignment or in lecture, and repeat\n",
      "   your training experiment without and with GPU on this new data.\n",
      "\n",
      "as3 EXTRA CREDIT is 0 / 2\n"
     ]
    }
   ],
   "source": [
    "%run -i A3grader.py"
   ]
  },
  {
   "cell_type": "markdown",
   "metadata": {},
   "source": [
    "Unlike A2, A3 **should be completed individually**.  Name your notebook as `Lastname-A3.ipynb` with Lastname being your last name, and then save this notebook and check it in at the A3 assignment link in our Canvas web page."
   ]
  },
  {
   "cell_type": "markdown",
   "metadata": {},
   "source": [
    "# Extra Credit"
   ]
  },
  {
   "cell_type": "markdown",
   "metadata": {},
   "source": [
    "Earn up to 10 extra credit points on this assignment.\n",
    "\n",
    "1. Add a keyword argument `gpu` that is `False` by default.  If set to `True`, move data and neural network model to the GPU and train and test it there.  Compare total execution time without and with the use of the GPU.  You may need to use one of the campus GPU machines for this.\n",
    "2. Find another data set, not used previously in an assignment or in lecture, and repeat your training experiment without and with GPU on this new data.\n",
    "\n",
    "Describe all results.  You can earn 5 points for doing (1) and another 5 for doing (2)."
   ]
  },
  {
   "cell_type": "code",
   "execution_count": 21,
   "metadata": {},
   "outputs": [
    {
     "data": {
      "text/plain": [
       "True"
      ]
     },
     "execution_count": 21,
     "metadata": {},
     "output_type": "execute_result"
    }
   ],
   "source": [
    "torch.cuda.is_available()\n"
   ]
  },
  {
   "cell_type": "code",
   "execution_count": 23,
   "metadata": {},
   "outputs": [],
   "source": [
    "airfoil = pandas.read_csv('airfoil_self_noise.dat', delimiter='\\t',\n",
    "                          names=('frequency', 'angle', 'chord', \n",
    "                                 'velocity', 'thickness', 'pressure'))\n",
    "data = airfoil.iloc[:, :].values\n",
    "\n",
    "X = data[:, :5]\n",
    "T = data[:, 5:6]\n",
    "\n",
    "\n",
    "torch.manual_seed(42)\n",
    "np.random.seed(42)\n",
    "\n",
    "n_folds = 5 \n",
    "list_of_n_hiddens = [[[], [10], [50], [200, 200], [50,100,50], [200,400,500]], [[10], [50,50,50,50], [100, 100, 200, 200] ]]\n",
    "n_epochs = 1000\n",
    "learning_rate =  0.01, 0.1, 1\n",
    "act_func = ['relu', 'tanh']\n"
   ]
  },
  {
   "cell_type": "code",
   "execution_count": 27,
   "metadata": {},
   "outputs": [
    {
     "name": "stdout",
     "output_type": "stream",
     "text": [
      "CPU Took 0.09 hours with architecture-[[], [10], [50], [200, 200], [50, 100, 50], [200, 400, 500]], activation function -relu, learning rate - 0.01\n",
      "CPU Took 0.06 hours with architecture-[[10], [50, 50, 50, 50], [100, 100, 200, 200]], activation function -tanh, learning rate - 0.1\n",
      "GPU (CUDA) Took 0.05 hours with architecture-[[], [10], [50], [200, 200], [50, 100, 50], [200, 400, 500]], activation function -relu, learning rate - 0.01\n",
      "GPU (CUDA) Took 0.07 hours with architecture-[[10], [50, 50, 50, 50], [100, 100, 200, 200]], activation function -tanh, learning rate - 0.1\n"
     ]
    }
   ],
   "source": [
    "# without GPU\n",
    "gpu = False\n",
    "\n",
    "# 1st parameter combination\n",
    "start = time.time()\n",
    "results_gpu = run_k_fold_cross_validation(X, T, n_folds, list_of_n_hiddens[0], \n",
    "                            n_epochs, learning_rate[0], act_func[0], gpu)\n",
    "elapsed = (time.time() - start) / 60/ 60\n",
    "print(f'CPU Took {elapsed:.2f} hours with architecture-{list_of_n_hiddens[0]}, activation function -{act_func[0]}, learning rate - {learning_rate[0]}')\n",
    "\n",
    "\n",
    "# 2nd parameter combination\n",
    "n_epochs = 1500\n",
    "start = time.time()\n",
    "results_gpu = run_k_fold_cross_validation(X, T, n_folds, list_of_n_hiddens[1], \n",
    "                            n_epochs, learning_rate[1], act_func[1], gpu)\n",
    "elapsed = (time.time() - start) / 60/ 60\n",
    "print(f'CPU Took {elapsed:.2f} hours with architecture-{list_of_n_hiddens[1]}, activation function -{act_func[1]}, learning rate - {learning_rate[1]}')\n",
    "\n",
    "\n",
    "\n",
    "\n",
    "# with GPU\n",
    "gpu = True\n",
    "\n",
    "if gpu:\n",
    "\n",
    "    n_epochs = 1000\n",
    "    start = time.time()\n",
    "    results_gpu = run_k_fold_cross_validation(X, T, n_folds, list_of_n_hiddens[0], \n",
    "                                n_epochs, learning_rate[0], act_func[0], gpu)\n",
    "    elapsed = (time.time() - start) / 60/ 60 \n",
    "    print(f'GPU (CUDA) Took {elapsed:.2f} hours with architecture-{list_of_n_hiddens[0]}, activation function -{act_func[0]}, learning rate - {learning_rate[0]}')\n",
    "\n",
    "    n_epochs = 1500\n",
    "    start = time.time()\n",
    "    results_gpu = run_k_fold_cross_validation(X, T, n_folds, list_of_n_hiddens[1], \n",
    "                                n_epochs, learning_rate[1], act_func[1], gpu)\n",
    "    elapsed = (time.time() - start) / 60/ 60 \n",
    "    print(f'GPU (CUDA) Took {elapsed:.2f} hours with architecture-{list_of_n_hiddens[1]}, activation function -{act_func[1]}, learning rate - {learning_rate[1]}')\n",
    "\n",
    "    \n",
    "    results_gpu"
   ]
  },
  {
   "cell_type": "markdown",
   "metadata": {},
   "source": [
    " ## Discussion \n",
    " \n",
    " - As seen from the output above. Using GPU (CUDA) does not speed up the operation significantly\n",
    " - This might be due to the small size of the dataset. As the speedup due to faster computation in GPU might be cancelled out by the overhead of loading data from memory to GPU (CUDA)\n",
    " - If tested with larger dataset, we might get significant improvements in time"
   ]
  }
 ],
 "metadata": {
  "kernelspec": {
   "display_name": "Python 3",
   "language": "python",
   "name": "python3"
  },
  "language_info": {
   "codemirror_mode": {
    "name": "ipython",
    "version": 3
   },
   "file_extension": ".py",
   "mimetype": "text/x-python",
   "name": "python",
   "nbconvert_exporter": "python",
   "pygments_lexer": "ipython3",
   "version": "3.8.10"
  },
  "toc": {
   "base_numbering": 1,
   "nav_menu": {},
   "number_sections": true,
   "sideBar": true,
   "skip_h1_title": false,
   "title_cell": "Table of Contents",
   "title_sidebar": "Contents",
   "toc_cell": false,
   "toc_position": {},
   "toc_section_display": true,
   "toc_window_display": true
  }
 },
 "nbformat": 4,
 "nbformat_minor": 4
}
