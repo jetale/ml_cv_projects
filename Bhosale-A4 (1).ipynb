{
 "cells": [
  {
   "cell_type": "markdown",
   "metadata": {},
   "source": [
    "   # A4 Classification of Hand-Drawn Digits\n",
    "\n",
    "## Vishwajeet Bhosale (CSU ID - 831303684)\n",
    "\n",
    "\n",
    "\n"
   ]
  },
  {
   "cell_type": "markdown",
   "metadata": {},
   "source": [
    "## `NeuralNetwork` class"
   ]
  },
  {
   "cell_type": "code",
   "execution_count": 91,
   "metadata": {},
   "outputs": [],
   "source": [
    "import matplotlib.pyplot as plt"
   ]
  },
  {
   "cell_type": "markdown",
   "metadata": {},
   "source": [
    "The following code cell will write its contents to `optimizers.py` so the `import optimizers` statement in the code cell after it will work correctly."
   ]
  },
  {
   "cell_type": "code",
   "execution_count": 92,
   "metadata": {},
   "outputs": [
    {
     "name": "stdout",
     "output_type": "stream",
     "text": [
      "Overwriting optimizers.py\n"
     ]
    }
   ],
   "source": [
    "%%writefile optimizers.py\n",
    "import numpy as np\n",
    "\n",
    "######################################################################\n",
    "## class Optimizers()\n",
    "######################################################################\n",
    "\n",
    "class Optimizers():\n",
    "\n",
    "    def __init__(self, all_weights):\n",
    "        '''all_weights is a vector of all of a neural networks weights concatenated into a one-dimensional vector'''\n",
    "        \n",
    "        self.all_weights = all_weights\n",
    "\n",
    "        # The following initializations are only used by adam.\n",
    "        # Only initializing m, v, beta1t and beta2t here allows multiple calls to adam to handle training\n",
    "        # with multiple subsets (batches) of training data.\n",
    "        self.mt = np.zeros_like(all_weights)\n",
    "        self.vt = np.zeros_like(all_weights)\n",
    "        self.beta1 = 0.9\n",
    "        self.beta2 = 0.999\n",
    "        self.beta1t = 1\n",
    "        self.beta2t = 1\n",
    "\n",
    "        \n",
    "    def sgd(self, error_f, gradient_f, fargs=[], n_epochs=100, learning_rate=0.001, verbose=True, error_convert_f=None):\n",
    "        '''\n",
    "error_f: function that requires X and T as arguments (given in fargs) and returns mean squared error.\n",
    "gradient_f: function that requires X and T as arguments (in fargs) and returns gradient of mean squared error\n",
    "            with respect to each weight.\n",
    "error_convert_f: function that converts the standardized error from error_f to original T units.\n",
    "        '''\n",
    "\n",
    "        error_trace = []\n",
    "        epochs_per_print = n_epochs // 10\n",
    "\n",
    "        for epoch in range(n_epochs):\n",
    "\n",
    "            error = error_f(*fargs)\n",
    "            grad = gradient_f(*fargs)\n",
    "\n",
    "            # Update all weights using -= to modify their values in-place.\n",
    "            self.all_weights -= learning_rate * grad\n",
    "\n",
    "            if error_convert_f:\n",
    "                error = error_convert_f(error)\n",
    "            error_trace.append(error)\n",
    "\n",
    "            if verbose and ((epoch + 1) % max(1, epochs_per_print) == 0):\n",
    "                print(f'sgd: Epoch {epoch+1:d} Error={error:.5f}')\n",
    "\n",
    "        return error_trace\n",
    "\n",
    "    def adam(self, error_f, gradient_f, fargs=[], n_epochs=100, learning_rate=0.001, verbose=True, error_convert_f=None):\n",
    "        '''\n",
    "error_f: function that requires X and T as arguments (given in fargs) and returns mean squared error.\n",
    "gradient_f: function that requires X and T as arguments (in fargs) and returns gradient of mean squared error\n",
    "            with respect to each weight.\n",
    "error_convert_f: function that converts the standardized error from error_f to original T units.\n",
    "        '''\n",
    "\n",
    "        alpha = learning_rate  # learning rate called alpha in original paper on adam\n",
    "        epsilon = 1e-8\n",
    "        error_trace = []\n",
    "        epochs_per_print = n_epochs // 10\n",
    "\n",
    "        for epoch in range(n_epochs):\n",
    "\n",
    "            error = error_f(*fargs)\n",
    "            grad = gradient_f(*fargs)\n",
    "\n",
    "            self.mt[:] = self.beta1 * self.mt + (1 - self.beta1) * grad\n",
    "            self.vt[:] = self.beta2 * self.vt + (1 - self.beta2) * grad * grad\n",
    "            self.beta1t *= self.beta1\n",
    "            self.beta2t *= self.beta2\n",
    "\n",
    "            m_hat = self.mt / (1 - self.beta1t)\n",
    "            v_hat = self.vt / (1 - self.beta2t)\n",
    "\n",
    "            # Update all weights using -= to modify their values in-place.\n",
    "            self.all_weights -= alpha * m_hat / (np.sqrt(v_hat) + epsilon)\n",
    "    \n",
    "            if error_convert_f:\n",
    "                error = error_convert_f(error)\n",
    "            error_trace.append(error)\n",
    "\n",
    "            if verbose and ((epoch + 1) % max(1, epochs_per_print) == 0):\n",
    "                print(f'Adam: Epoch {epoch+1:d} Error={error:.5f}')\n",
    "\n",
    "        return error_trace\n",
    "\n",
    "if __name__ == '__main__':\n",
    "\n",
    "    import matplotlib.pyplot as plt\n",
    "    plt.ion()\n",
    "\n",
    "    def parabola(wmin):\n",
    "        return ((w - wmin) ** 2)[0]\n",
    "\n",
    "    def parabola_gradient(wmin):\n",
    "        return 2 * (w - wmin)\n",
    "\n",
    "    w = np.array([0.0])\n",
    "    optimizer = Optimizers(w)\n",
    "\n",
    "    wmin = 5\n",
    "    optimizer.sgd(parabola, parabola_gradient, [wmin],\n",
    "                  n_epochs=500, learning_rate=0.1)\n",
    "\n",
    "    print(f'sgd: Minimum of parabola is at {wmin}. Value found is {w}')\n",
    "\n",
    "    w = np.array([0.0])\n",
    "    optimizer = Optimizers(w)\n",
    "    optimizer.adam(parabola, parabola_gradient, [wmin],\n",
    "                   n_epochs=500, learning_rate=0.1)\n",
    "    \n",
    "    print(f'adam: Minimum of parabola is at {wmin}. Value found is {w}')"
   ]
  },
  {
   "cell_type": "code",
   "execution_count": 93,
   "metadata": {},
   "outputs": [],
   "source": [
    "import numpy as np\n",
    "import optimizers\n",
    "import sys  # for sys.float_info.epsilon\n",
    "\n",
    "######################################################################\n",
    "## class NeuralNetwork()\n",
    "######################################################################\n",
    "\n",
    "class NeuralNetwork():\n",
    "\n",
    "\n",
    "    def __init__(self, n_inputs, n_hiddens_per_layer, n_outputs, activation_function='tanh'):\n",
    "        self.n_inputs = n_inputs\n",
    "        self.n_outputs = n_outputs\n",
    "        self.activation_function = activation_function\n",
    "\n",
    "        # Set self.n_hiddens_per_layer to [] if argument is 0, [], or [0]\n",
    "        if n_hiddens_per_layer == 0 or n_hiddens_per_layer == [] or n_hiddens_per_layer == [0]:\n",
    "            self.n_hiddens_per_layer = []\n",
    "        else:\n",
    "            self.n_hiddens_per_layer = n_hiddens_per_layer\n",
    "\n",
    "        # Initialize weights, by first building list of all weight matrix shapes.\n",
    "        n_in = n_inputs\n",
    "        shapes = []\n",
    "        for nh in self.n_hiddens_per_layer:\n",
    "            shapes.append((n_in + 1, nh))\n",
    "            n_in = nh\n",
    "        shapes.append((n_in + 1, n_outputs))\n",
    "\n",
    "        # self.all_weights:  vector of all weights\n",
    "        # self.Ws: list of weight matrices by layer\n",
    "        self.all_weights, self.Ws = self.make_weights_and_views(shapes)\n",
    "\n",
    "        # Define arrays to hold gradient values.\n",
    "        # One array for each W array with same shape.\n",
    "        self.all_gradients, self.dE_dWs = self.make_weights_and_views(shapes)\n",
    "\n",
    "        self.trained = False\n",
    "        self.total_epochs = 0\n",
    "        self.error_trace = []\n",
    "        self.Xmeans = None\n",
    "        self.Xstds = None\n",
    "        self.Tmeans = None\n",
    "        self.Tstds = None\n",
    "\n",
    "\n",
    "    def make_weights_and_views(self, shapes):\n",
    "        # vector of all weights built by horizontally stacking flatenned matrices\n",
    "        # for each layer initialized with uniformly-distributed values.\n",
    "        all_weights = np.hstack([np.random.uniform(size=shape).flat / np.sqrt(shape[0])\n",
    "                                 for shape in shapes])\n",
    "        # Build list of views by reshaping corresponding elements from vector of all weights\n",
    "        # into correct shape for each layer.\n",
    "        views = []\n",
    "        start = 0\n",
    "        for shape in shapes:\n",
    "            size =shape[0] * shape[1]\n",
    "            views.append(all_weights[start:start + size].reshape(shape))\n",
    "            start += size\n",
    "        return all_weights, views\n",
    "\n",
    "\n",
    "    # Return string that shows how the constructor was called\n",
    "    def __repr__(self):\n",
    "        return f'{type(self).__name__}({self.n_inputs}, {self.n_hiddens_per_layer}, {self.n_outputs}, \\'{self.activation_function}\\')'\n",
    "\n",
    "\n",
    "    # Return string that is more informative to the user about the state of this neural network.\n",
    "    def __str__(self):\n",
    "        result = self.__repr__()\n",
    "        if len(self.error_trace) > 0:\n",
    "            return self.__repr__() + f' trained for {len(self.error_trace)} epochs, final training error {self.error_trace[-1]:.4f}'\n",
    "\n",
    "\n",
    "    def train(self, X, T, n_epochs, learning_rate, method='sgd', verbose=True):\n",
    "        '''\n",
    "train: \n",
    "  X: n_samples x n_inputs matrix of input samples, one per row\n",
    "  T: n_samples x n_outputs matrix of target output values, one sample per row\n",
    "  n_epochs: number of passes to take through all samples updating weights each pass\n",
    "  learning_rate: factor controlling the step size of each update\n",
    "  method: is either 'sgd' or 'adam'\n",
    "        '''\n",
    "\n",
    "        # Setup standardization parameters\n",
    "        if self.Xmeans is None:\n",
    "            self.Xmeans = X.mean(axis=0)\n",
    "            self.Xstds = X.std(axis=0)\n",
    "            self.Xstds[self.Xstds == 0] = 1  # So we don't divide by zero when standardizing\n",
    "            self.Tmeans = T.mean(axis=0)\n",
    "            self.Tstds = T.std(axis=0)\n",
    "            \n",
    "        # Standardize X and T\n",
    "        X = (X - self.Xmeans) / self.Xstds\n",
    "        T = (T - self.Tmeans) / self.Tstds\n",
    "\n",
    "        # Instantiate Optimizers object by giving it vector of all weights\n",
    "        optimizer = optimizers.Optimizers(self.all_weights)\n",
    "\n",
    "        # Define function to convert value from error_f into error in original T units, \n",
    "        # but only if the network has a single output. Multiplying by self.Tstds for \n",
    "        # multiple outputs does not correctly unstandardize the error.\n",
    "        if len(self.Tstds) == 1:\n",
    "            error_convert_f = lambda err: (np.sqrt(err) * self.Tstds)[0] # to scalar\n",
    "        else:\n",
    "            error_convert_f = lambda err: np.sqrt(err)[0] # to scalar\n",
    "            \n",
    "\n",
    "        if method == 'sgd':\n",
    "\n",
    "            error_trace = optimizer.sgd(self.error_f, self.gradient_f,\n",
    "                                        fargs=[X, T], n_epochs=n_epochs,\n",
    "                                        learning_rate=learning_rate,\n",
    "                                        verbose=True,\n",
    "                                        error_convert_f=error_convert_f)\n",
    "\n",
    "        elif method == 'adam':\n",
    "\n",
    "            error_trace = optimizer.adam(self.error_f, self.gradient_f,\n",
    "                                         fargs=[X, T], n_epochs=n_epochs,\n",
    "                                         learning_rate=learning_rate,\n",
    "                                         verbose=True,\n",
    "                                         error_convert_f=error_convert_f)\n",
    "\n",
    "        else:\n",
    "            raise Exception(\"method must be 'sgd' or 'adam'\")\n",
    "        \n",
    "        self.error_trace = error_trace\n",
    "\n",
    "        # Return neural network object to allow applying other methods after training.\n",
    "        #  Example:    Y = nnet.train(X, T, 100, 0.01).use(X)\n",
    "        return self\n",
    "\n",
    "    def relu(self, s):\n",
    "        s[s < 0] = 0\n",
    "        return s\n",
    "\n",
    "    def grad_relu(self, s):\n",
    "        return (s > 0).astype(int)\n",
    "    \n",
    "    def forward_pass(self, X):\n",
    "        '''X assumed already standardized. Output returned as standardized.'''\n",
    "        self.Ys = [X]\n",
    "        for W in self.Ws[:-1]:\n",
    "            if self.activation_function == 'relu':\n",
    "                self.Ys.append(self.relu(self.Ys[-1] @ W[1:, :] + W[0:1, :]))\n",
    "            else:\n",
    "                self.Ys.append(np.tanh(self.Ys[-1] @ W[1:, :] + W[0:1, :]))\n",
    "        last_W = self.Ws[-1]\n",
    "        self.Ys.append(self.Ys[-1] @ last_W[1:, :] + last_W[0:1, :])\n",
    "        return self.Ys\n",
    "\n",
    "    # Function to be minimized by optimizer method, mean squared error\n",
    "    def error_f(self, X, T):\n",
    "        Ys = self.forward_pass(X)\n",
    "        mean_sq_error = np.mean((T - Ys[-1]) ** 2)\n",
    "        return mean_sq_error\n",
    "\n",
    "    # Gradient of function to be minimized for use by optimizer method\n",
    "    def gradient_f(self, X, T):\n",
    "        '''Assumes forward_pass just called with layer outputs in self.Ys.'''\n",
    "        error = T - self.Ys[-1]\n",
    "        n_samples = X.shape[0]\n",
    "        n_outputs = T.shape[1]\n",
    "        delta = - error / (n_samples * n_outputs)\n",
    "        n_layers = len(self.n_hiddens_per_layer) + 1\n",
    "        # Step backwards through the layers to back-propagate the error (delta)\n",
    "        for layeri in range(n_layers - 1, -1, -1):\n",
    "            # gradient of all but bias weights\n",
    "            self.dE_dWs[layeri][1:, :] = self.Ys[layeri].T @ delta\n",
    "            # gradient of just the bias weights\n",
    "            self.dE_dWs[layeri][0:1, :] = np.sum(delta, 0)\n",
    "            # Back-propagate this layer's delta to previous layer\n",
    "            if self.activation_function == 'relu':\n",
    "                delta = delta @ self.Ws[layeri][1:, :].T * self.grad_relu(self.Ys[layeri])\n",
    "            else:\n",
    "                delta = delta @ self.Ws[layeri][1:, :].T * (1 - self.Ys[layeri] ** 2)\n",
    "        return self.all_gradients\n",
    "\n",
    "    def use(self, X):\n",
    "        '''X assumed to not be standardized'''\n",
    "        # Standardize X\n",
    "        X = (X - self.Xmeans) / self.Xstds\n",
    "        Ys = self.forward_pass(X)\n",
    "        Y = Ys[-1]\n",
    "        # Unstandardize output Y before returning it\n",
    "        return Y * self.Tstds + self.Tmeans"
   ]
  },
  {
   "cell_type": "code",
   "execution_count": 94,
   "metadata": {},
   "outputs": [
    {
     "name": "stdout",
     "output_type": "stream",
     "text": [
      "Adam: Epoch 25 Error=0.24733\n",
      "Adam: Epoch 50 Error=0.22375\n",
      "Adam: Epoch 75 Error=0.19488\n",
      "Adam: Epoch 100 Error=0.15232\n",
      "Adam: Epoch 125 Error=0.10033\n",
      "Adam: Epoch 150 Error=0.06877\n",
      "Adam: Epoch 175 Error=0.05234\n",
      "Adam: Epoch 200 Error=0.04349\n",
      "Adam: Epoch 225 Error=0.03807\n",
      "Adam: Epoch 250 Error=0.03416\n"
     ]
    },
    {
     "data": {
      "text/plain": [
       "<matplotlib.legend.Legend at 0x7f5894400748>"
      ]
     },
     "execution_count": 94,
     "metadata": {},
     "output_type": "execute_result"
    },
    {
     "data": {
      "image/png": "[encoded data removed]",
      "text/plain": [
       "<Figure size 432x288 with 2 Axes>"
      ]
     },
     "metadata": {
      "needs_background": "light"
     },
     "output_type": "display_data"
    }
   ],
   "source": [
    "X = np.arange(100).reshape((-1, 1))\n",
    "T = (X - 20) ** 3 / 300000\n",
    "\n",
    "hiddens = [10]\n",
    "nnet = NeuralNetwork(X.shape[1], hiddens, T.shape[1])\n",
    "nnet.train(X, T, 250, 0.01, method='adam')\n",
    "\n",
    "plt.subplot(1, 2, 1)\n",
    "plt.plot(nnet.error_trace)\n",
    "\n",
    "plt.subplot(1, 2, 2)\n",
    "plt.plot(T, label='T')\n",
    "plt.plot(nnet.use(X), label='Y')\n",
    "plt.legend()"
   ]
  },
  {
   "cell_type": "markdown",
   "metadata": {},
   "source": [
    "## Your `NeuralNetworkClassifier` class"
   ]
  },
  {
   "cell_type": "markdown",
   "metadata": {},
   "source": [
    "Complete the following definition of `NeuralNetworkClassifier` as discussed in class. You will need to override the functions\n",
    "\n",
    "* `train`\n",
    "* `error_f`\n",
    "* `gradient_f`\n",
    "* `use`\n",
    "\n",
    "and define the following new functions\n",
    "\n",
    "* `makeIndicatorVars`\n",
    "* `softmax`"
   ]
  },
  {
   "cell_type": "code",
   "execution_count": 95,
   "metadata": {},
   "outputs": [],
   "source": [
    "class NeuralNetworkClassifier(NeuralNetwork):\n",
    "    \n",
    "    \n",
    "    \n",
    "    def train(self, X, T, n_epochs, learning_rate, method='sgd', verbose=True):\n",
    "        '''\n",
    "        train: \n",
    "          X: n_samples x n_inputs matrix of input samples, one per row\n",
    "          T: n_samples x n_outputs matrix of target output values, one sample per row\n",
    "          n_epochs: number of passes to take through all samples updating weights each pass\n",
    "          learning_rate: factor controlling the step size of each update\n",
    "          method: is either 'sgd' or 'adam'\n",
    "        '''\n",
    "\n",
    "        # Setup standardization parameters\n",
    "        if self.Xmeans is None:\n",
    "            self.Xmeans = X.mean(axis=0)\n",
    "            self.Xstds = X.std(axis=0)\n",
    "            self.Xstds[self.Xstds == 0] = 1  # So we don't divide by zero when standardizing\n",
    "            #self.Tmeans = T.mean(axis=0)\n",
    "            #self.Tstds = T.std(axis=0)\n",
    "            \n",
    "        # Standardize X and T\n",
    "        X = (X - self.Xmeans) / self.Xstds\n",
    "        #T = (T - self.Tmeans) / self.Tstds\n",
    "        \n",
    "        self.classes = np.unique(T)\n",
    "        self.verbose = verbose\n",
    "        \n",
    "        #print(T)\n",
    "        \n",
    "        T_ind = self.makeIndicatorVars(T)\n",
    "\n",
    "        # Instantiate Optimizers object by giving it vector of all weights\n",
    "        optimizer = optimizers.Optimizers(self.all_weights)\n",
    "\n",
    "        # Define function to convert value from error_f into error in original T units, \n",
    "        # but only if the network has a single output. Multiplying by self.Tstds for \n",
    "        # multiple outputs does not correctly unstandardize the error.\n",
    "        \n",
    "        \n",
    "        error_convert_f = lambda err: np.exp(-err) # to scalar\n",
    "            \n",
    "\n",
    "        if method == 'sgd':\n",
    "\n",
    "            error_trace = optimizer.sgd(self.error_f, self.gradient_f,\n",
    "                                        fargs=[X, T_ind], n_epochs=n_epochs,\n",
    "                                        learning_rate=learning_rate,\n",
    "                                        verbose=self.verbose,\n",
    "                                        error_convert_f=error_convert_f\n",
    "                                        )\n",
    "\n",
    "        elif method == 'adam':\n",
    "\n",
    "            error_trace = optimizer.adam(self.error_f, self.gradient_f,\n",
    "                                         fargs=[X, T_ind], n_epochs=n_epochs,\n",
    "                                         learning_rate=learning_rate,\n",
    "                                         verbose=self.verbose,\n",
    "                                         error_convert_f=error_convert_f)\n",
    "\n",
    "        else:\n",
    "            raise Exception(\"method must be 'sgd' or 'adam'\")\n",
    "        \n",
    "        self.error_trace = error_trace\n",
    "\n",
    "        # Return neural network object to allow applying other methods after training.\n",
    "        #  Example:    Y = nnet.train(X, T, 100, 0.01).use(X)\n",
    "        return self\n",
    "    \n",
    "    \n",
    "    def error_f(self, X, T):\n",
    "        Ys = self.forward_pass(X)\n",
    "        \n",
    "        sf_val = self.softmax(Ys[-1])\n",
    "        mean_error =  -np.mean(T * np.log(sf_val))\n",
    "        return (mean_error) \n",
    "\n",
    "    \n",
    "    # Gradient of function to be minimized for use by optimizer method\n",
    "    def gradient_f(self, X, T):\n",
    "        '''Assumes forward_pass just called with layer outputs in self.Ys.'''\n",
    "        error = T - (self.softmax(self.Ys[-1]))\n",
    "        n_samples = X.shape[0]\n",
    "        n_outputs = T.shape[1]\n",
    "        delta = - error / (n_samples * n_outputs)\n",
    "        n_layers = len(self.n_hiddens_per_layer) + 1\n",
    "        # Step backwards through the layers to back-propagate the error (delta)\n",
    "        for layeri in range(n_layers - 1, -1, -1):\n",
    "            # gradient of all but bias weights\n",
    "            self.dE_dWs[layeri][1:, :] = self.Ys[layeri].T @ delta\n",
    "            # gradient of just the bias weights\n",
    "            self.dE_dWs[layeri][0:1, :] = np.sum(delta, 0)\n",
    "            # Back-propagate this layer's delta to previous layer\n",
    "            if self.activation_function == 'relu':\n",
    "                delta = delta @ self.Ws[layeri][1:, :].T * self.grad_relu(self.Ys[layeri])\n",
    "            else:\n",
    "                delta = delta @ self.Ws[layeri][1:, :].T * (1 - self.Ys[layeri] ** 2)\n",
    "        return self.all_gradients\n",
    "  \n",
    "\n",
    "    def softmax(self, vector):\n",
    "        fs = np.exp(vector) \n",
    "        denom = np.sum(fs, axis=1).reshape((-1, 1)) + sys.float_info.epsilon\n",
    "        gs = fs / denom\n",
    "        min_nonzero = np.finfo(float).eps\n",
    "        gs[gs == 0] = min_nonzero\n",
    "        return gs\n",
    "    \n",
    "    \n",
    "\n",
    "    def makeIndicatorVars(self,T):\n",
    "        # Make sure T is two-dimensional. Should be nSamples x 1.\n",
    "        if T.ndim == 1:\n",
    "            T = T.reshape((-1, 1))    \n",
    "        return (T == np.unique(T)).astype(int)\n",
    "\n",
    "    def use(self, X):\n",
    "        '''X assumed to not be standardized'''\n",
    "        # Standardize X\n",
    "        X = (X - self.Xmeans) / self.Xstds\n",
    "        Ys = self.forward_pass(X)\n",
    "        Y = Ys[-1]\n",
    "        \n",
    "        lg_reg = self.softmax(Y)\n",
    "        #pred_class = np.argmax(lg_reg,axis=1)\n",
    "        pred_classes = np.array(self.classes[np.argmax(lg_reg, axis=1)].reshape(-1,1))\n",
    "        \n",
    "        \n",
    "        return (pred_classes, lg_reg)\n",
    "        "
   ]
  },
  {
   "cell_type": "markdown",
   "metadata": {},
   "source": [
    "Here is a simple test of your new class.  For inputs from 0 to 100, classify values less than or equal to 25 as Class Label 25, greater than 25 and less than or equal to 75 as Class Label 75, and greater than 75 as Class Label 100. "
   ]
  },
  {
   "cell_type": "code",
   "execution_count": 96,
   "metadata": {},
   "outputs": [
    {
     "data": {
      "image/png": "[encoded data removed]",
      "text/plain": [
       "<Figure size 432x288 with 1 Axes>"
      ]
     },
     "metadata": {
      "needs_background": "light"
     },
     "output_type": "display_data"
    }
   ],
   "source": [
    "X = np.arange(100).reshape((-1, 1))\n",
    "T = X.copy()\n",
    "T[T <= 25] = 25\n",
    "T[np.logical_and(25 < T, T <= 75)] = 75\n",
    "T[T > 75] = 100\n",
    "\n",
    "plt.plot(X, T, 'o-')\n",
    "plt.xlabel('X')\n",
    "plt.ylabel('Class');\n"
   ]
  },
  {
   "cell_type": "code",
   "execution_count": 97,
   "metadata": {},
   "outputs": [
    {
     "name": "stdout",
     "output_type": "stream",
     "text": [
      "Adam: Epoch 20 Error=0.79734\n",
      "Adam: Epoch 40 Error=0.86703\n",
      "Adam: Epoch 60 Error=0.91258\n",
      "Adam: Epoch 80 Error=0.93836\n",
      "Adam: Epoch 100 Error=0.95223\n",
      "Adam: Epoch 120 Error=0.96047\n",
      "Adam: Epoch 140 Error=0.96591\n",
      "Adam: Epoch 160 Error=0.96982\n",
      "Adam: Epoch 180 Error=0.97279\n",
      "Adam: Epoch 200 Error=0.97514\n"
     ]
    },
    {
     "data": {
      "text/plain": [
       "<matplotlib.legend.Legend at 0x7f589479b7b8>"
      ]
     },
     "execution_count": 97,
     "metadata": {},
     "output_type": "execute_result"
    },
    {
     "data": {
      "image/png": "[encoded data removed]",
      "text/plain": [
       "<Figure size 432x288 with 2 Axes>"
      ]
     },
     "metadata": {
      "needs_background": "light"
     },
     "output_type": "display_data"
    }
   ],
   "source": [
    "hiddens = [10]\n",
    "\n",
    "\n",
    "nnet = NeuralNetworkClassifier(X.shape[1], hiddens, len(np.unique(T)))\n",
    "nnet.train(X, T, 200, 0.01, method='adam', verbose=True)\n",
    "\n",
    "\n",
    "\n",
    "plt.subplot(1, 2, 1)\n",
    "plt.plot(nnet.error_trace)\n",
    "plt.xlabel('Epoch')\n",
    "plt.ylabel('Likelihood')\n",
    "\n",
    "plt.subplot(1, 2, 2)\n",
    "plt.plot(T + 5, 'o-', label='T + 5')  # to see, when predicted overlap T very closely\n",
    "plt.plot(nnet.use(X)[0], 'o-', label='Y')\n",
    "plt.legend()"
   ]
  },
  {
   "cell_type": "markdown",
   "metadata": {},
   "source": [
    "## Now for the Hand-Drawn Digits\n",
    "\n",
    "We will use a bunch (50,000) images of hand drawn digits from [this deeplearning.net site](http://deeplearning.net/tutorial/gettingstarted.html).  Download `mnist.pkl.gz`. \n",
    "\n",
    "deeplearning.net goes down a lot.  If you can't download it from there you can try getting it from [here](https://gitlab.cs.washington.edu/colinxs/neural_nets/blob/master/mnist.pkl.gz).\n",
    "\n",
    "This pickle file includes data already partitioned into training, validation, and test sets.  To read it into python, use the following steps"
   ]
  },
  {
   "cell_type": "code",
   "execution_count": 98,
   "metadata": {},
   "outputs": [
    {
     "name": "stdout",
     "output_type": "stream",
     "text": [
      "(50000, 784) (50000, 1) (10000, 784) (10000, 1) (10000, 784) (10000, 1)\n"
     ]
    }
   ],
   "source": [
    "import pickle\n",
    "import gzip\n",
    "\n",
    "with gzip.open('mnist.pkl.gz', 'rb') as f:\n",
    "    train_set, valid_set, test_set = pickle.load(f, encoding='latin1')\n",
    "\n",
    "Xtrain = train_set[0]\n",
    "Ttrain = train_set[1].reshape(-1, 1)\n",
    "\n",
    "Xval = valid_set[0]\n",
    "Tval = valid_set[1].reshape(-1, 1)\n",
    "\n",
    "Xtest = test_set[0]\n",
    "Ttest = test_set[1].reshape(-1, 1)\n",
    "\n",
    "print(Xtrain.shape, Ttrain.shape,  Xval.shape, Tval.shape,  Xtest.shape, Ttest.shape)"
   ]
  },
  {
   "cell_type": "code",
   "execution_count": 99,
   "metadata": {},
   "outputs": [
    {
     "data": {
      "text/plain": [
       "array([[5],\n",
       "       [0],\n",
       "       [4],\n",
       "       [1],\n",
       "       [9],\n",
       "       [2],\n",
       "       [1],\n",
       "       [3],\n",
       "       [1],\n",
       "       [4]])"
      ]
     },
     "execution_count": 99,
     "metadata": {},
     "output_type": "execute_result"
    }
   ],
   "source": [
    "Ttrain[:10]"
   ]
  },
  {
   "cell_type": "markdown",
   "metadata": {},
   "source": [
    "Those must be the digits.  What the heck is in those 784 columns in the input matrices?"
   ]
  },
  {
   "cell_type": "code",
   "execution_count": 100,
   "metadata": {},
   "outputs": [
    {
     "data": {
      "image/png": "[encoded data removed]",
      "text/plain": [
       "<Figure size 432x288 with 1 Axes>"
      ]
     },
     "metadata": {
      "needs_background": "light"
     },
     "output_type": "display_data"
    }
   ],
   "source": [
    "plt.plot(Xtrain[0, :]);"
   ]
  },
  {
   "cell_type": "markdown",
   "metadata": {},
   "source": [
    "Well, values between 0 and 1.  That doesn't help much.  These are actually intensity values for 784 pixels in an image.\n",
    "\n",
    "How can we rearrange these values into an image to be displayed?  We must first figure out how many columns and rows the image would have.  Perhaps the image is a square image, with equal numbers of rows and columns."
   ]
  },
  {
   "cell_type": "code",
   "execution_count": 101,
   "metadata": {},
   "outputs": [
    {
     "data": {
      "text/plain": [
       "28.0"
      ]
     },
     "execution_count": 101,
     "metadata": {},
     "output_type": "execute_result"
    }
   ],
   "source": [
    "import math\n",
    "math.sqrt(784)"
   ]
  },
  {
   "cell_type": "markdown",
   "metadata": {},
   "source": [
    "Ah, cool."
   ]
  },
  {
   "cell_type": "code",
   "execution_count": 102,
   "metadata": {},
   "outputs": [
    {
     "data": {
      "text/plain": [
       "784"
      ]
     },
     "execution_count": 102,
     "metadata": {},
     "output_type": "execute_result"
    }
   ],
   "source": [
    "28 * 28"
   ]
  },
  {
   "cell_type": "markdown",
   "metadata": {},
   "source": [
    "Ok Let's reshape it and look at the numbers."
   ]
  },
  {
   "cell_type": "code",
   "execution_count": 103,
   "metadata": {},
   "outputs": [
    {
     "data": {
      "text/plain": [
       "array([[0.        , 0.        , 0.        , 0.        , 0.        ,\n",
       "        0.        , 0.        , 0.        , 0.        , 0.        ,\n",
       "        0.        , 0.        , 0.        , 0.        , 0.        ,\n",
       "        0.        , 0.        , 0.        , 0.        , 0.        ,\n",
       "        0.        , 0.        , 0.        , 0.        , 0.        ,\n",
       "        0.        , 0.        , 0.        ],\n",
       "       [0.        , 0.        , 0.        , 0.        , 0.        ,\n",
       "        0.        , 0.        , 0.        , 0.        , 0.        ,\n",
       "        0.        , 0.        , 0.        , 0.        , 0.        ,\n",
       "        0.        , 0.        , 0.        , 0.        , 0.        ,\n",
       "        0.        , 0.        , 0.        , 0.        , 0.        ,\n",
       "        0.        , 0.        , 0.        ],\n",
       "       [0.        , 0.        , 0.        , 0.        , 0.        ,\n",
       "        0.        , 0.        , 0.        , 0.        , 0.        ,\n",
       "        0.        , 0.        , 0.        , 0.        , 0.        ,\n",
       "        0.        , 0.        , 0.        , 0.        , 0.        ,\n",
       "        0.        , 0.        , 0.        , 0.        , 0.        ,\n",
       "        0.        , 0.        , 0.        ],\n",
       "       [0.        , 0.        , 0.        , 0.        , 0.        ,\n",
       "        0.        , 0.        , 0.        , 0.        , 0.        ,\n",
       "        0.        , 0.        , 0.        , 0.        , 0.        ,\n",
       "        0.        , 0.        , 0.        , 0.        , 0.        ,\n",
       "        0.        , 0.        , 0.        , 0.        , 0.        ,\n",
       "        0.        , 0.        , 0.        ],\n",
       "       [0.        , 0.        , 0.        , 0.        , 0.        ,\n",
       "        0.        , 0.        , 0.        , 0.        , 0.        ,\n",
       "        0.        , 0.        , 0.        , 0.        , 0.        ,\n",
       "        0.        , 0.        , 0.        , 0.        , 0.        ,\n",
       "        0.        , 0.        , 0.        , 0.        , 0.        ,\n",
       "        0.        , 0.        , 0.        ],\n",
       "       [0.        , 0.        , 0.        , 0.        , 0.        ,\n",
       "        0.        , 0.        , 0.        , 0.        , 0.        ,\n",
       "        0.        , 0.        , 0.01171875, 0.0703125 , 0.0703125 ,\n",
       "        0.0703125 , 0.4921875 , 0.53125   , 0.68359375, 0.1015625 ,\n",
       "        0.6484375 , 0.99609375, 0.96484375, 0.49609375, 0.        ,\n",
       "        0.        , 0.        , 0.        ],\n",
       "       [0.        , 0.        , 0.        , 0.        , 0.        ,\n",
       "        0.        , 0.        , 0.        , 0.1171875 , 0.140625  ,\n",
       "        0.3671875 , 0.6015625 , 0.6640625 , 0.98828125, 0.98828125,\n",
       "        0.98828125, 0.98828125, 0.98828125, 0.87890625, 0.671875  ,\n",
       "        0.98828125, 0.9453125 , 0.76171875, 0.25      , 0.        ,\n",
       "        0.        , 0.        , 0.        ],\n",
       "       [0.        , 0.        , 0.        , 0.        , 0.        ,\n",
       "        0.        , 0.        , 0.19140625, 0.9296875 , 0.98828125,\n",
       "        0.98828125, 0.98828125, 0.98828125, 0.98828125, 0.98828125,\n",
       "        0.98828125, 0.98828125, 0.98046875, 0.36328125, 0.3203125 ,\n",
       "        0.3203125 , 0.21875   , 0.15234375, 0.        , 0.        ,\n",
       "        0.        , 0.        , 0.        ],\n",
       "       [0.        , 0.        , 0.        , 0.        , 0.        ,\n",
       "        0.        , 0.        , 0.0703125 , 0.85546875, 0.98828125,\n",
       "        0.98828125, 0.98828125, 0.98828125, 0.98828125, 0.7734375 ,\n",
       "        0.7109375 , 0.96484375, 0.94140625, 0.        , 0.        ,\n",
       "        0.        , 0.        , 0.        , 0.        , 0.        ,\n",
       "        0.        , 0.        , 0.        ],\n",
       "       [0.        , 0.        , 0.        , 0.        , 0.        ,\n",
       "        0.        , 0.        , 0.        , 0.3125    , 0.609375  ,\n",
       "        0.41796875, 0.98828125, 0.98828125, 0.80078125, 0.04296875,\n",
       "        0.        , 0.16796875, 0.6015625 , 0.        , 0.        ,\n",
       "        0.        , 0.        , 0.        , 0.        , 0.        ,\n",
       "        0.        , 0.        , 0.        ],\n",
       "       [0.        , 0.        , 0.        , 0.        , 0.        ,\n",
       "        0.        , 0.        , 0.        , 0.        , 0.0546875 ,\n",
       "        0.00390625, 0.6015625 , 0.98828125, 0.3515625 , 0.        ,\n",
       "        0.        , 0.        , 0.        , 0.        , 0.        ,\n",
       "        0.        , 0.        , 0.        , 0.        , 0.        ,\n",
       "        0.        , 0.        , 0.        ],\n",
       "       [0.        , 0.        , 0.        , 0.        , 0.        ,\n",
       "        0.        , 0.        , 0.        , 0.        , 0.        ,\n",
       "        0.        , 0.54296875, 0.98828125, 0.7421875 , 0.0078125 ,\n",
       "        0.        , 0.        , 0.        , 0.        , 0.        ,\n",
       "        0.        , 0.        , 0.        , 0.        , 0.        ,\n",
       "        0.        , 0.        , 0.        ],\n",
       "       [0.        , 0.        , 0.        , 0.        , 0.        ,\n",
       "        0.        , 0.        , 0.        , 0.        , 0.        ,\n",
       "        0.        , 0.04296875, 0.7421875 , 0.98828125, 0.2734375 ,\n",
       "        0.        , 0.        , 0.        , 0.        , 0.        ,\n",
       "        0.        , 0.        , 0.        , 0.        , 0.        ,\n",
       "        0.        , 0.        , 0.        ],\n",
       "       [0.        , 0.        , 0.        , 0.        , 0.        ,\n",
       "        0.        , 0.        , 0.        , 0.        , 0.        ,\n",
       "        0.        , 0.        , 0.13671875, 0.94140625, 0.87890625,\n",
       "        0.625     , 0.421875  , 0.00390625, 0.        , 0.        ,\n",
       "        0.        , 0.        , 0.        , 0.        , 0.        ,\n",
       "        0.        , 0.        , 0.        ],\n",
       "       [0.        , 0.        , 0.        , 0.        , 0.        ,\n",
       "        0.        , 0.        , 0.        , 0.        , 0.        ,\n",
       "        0.        , 0.        , 0.        , 0.31640625, 0.9375    ,\n",
       "        0.98828125, 0.98828125, 0.46484375, 0.09765625, 0.        ,\n",
       "        0.        , 0.        , 0.        , 0.        , 0.        ,\n",
       "        0.        , 0.        , 0.        ],\n",
       "       [0.        , 0.        , 0.        , 0.        , 0.        ,\n",
       "        0.        , 0.        , 0.        , 0.        , 0.        ,\n",
       "        0.        , 0.        , 0.        , 0.        , 0.17578125,\n",
       "        0.7265625 , 0.98828125, 0.98828125, 0.5859375 , 0.10546875,\n",
       "        0.        , 0.        , 0.        , 0.        , 0.        ,\n",
       "        0.        , 0.        , 0.        ],\n",
       "       [0.        , 0.        , 0.        , 0.        , 0.        ,\n",
       "        0.        , 0.        , 0.        , 0.        , 0.        ,\n",
       "        0.        , 0.        , 0.        , 0.        , 0.        ,\n",
       "        0.0625    , 0.36328125, 0.984375  , 0.98828125, 0.73046875,\n",
       "        0.        , 0.        , 0.        , 0.        , 0.        ,\n",
       "        0.        , 0.        , 0.        ],\n",
       "       [0.        , 0.        , 0.        , 0.        , 0.        ,\n",
       "        0.        , 0.        , 0.        , 0.        , 0.        ,\n",
       "        0.        , 0.        , 0.        , 0.        , 0.        ,\n",
       "        0.        , 0.        , 0.97265625, 0.98828125, 0.97265625,\n",
       "        0.25      , 0.        , 0.        , 0.        , 0.        ,\n",
       "        0.        , 0.        , 0.        ],\n",
       "       [0.        , 0.        , 0.        , 0.        , 0.        ,\n",
       "        0.        , 0.        , 0.        , 0.        , 0.        ,\n",
       "        0.        , 0.        , 0.        , 0.        , 0.1796875 ,\n",
       "        0.5078125 , 0.71484375, 0.98828125, 0.98828125, 0.80859375,\n",
       "        0.0078125 , 0.        , 0.        , 0.        , 0.        ,\n",
       "        0.        , 0.        , 0.        ],\n",
       "       [0.        , 0.        , 0.        , 0.        , 0.        ,\n",
       "        0.        , 0.        , 0.        , 0.        , 0.        ,\n",
       "        0.        , 0.        , 0.15234375, 0.578125  , 0.89453125,\n",
       "        0.98828125, 0.98828125, 0.98828125, 0.9765625 , 0.7109375 ,\n",
       "        0.        , 0.        , 0.        , 0.        , 0.        ,\n",
       "        0.        , 0.        , 0.        ],\n",
       "       [0.        , 0.        , 0.        , 0.        , 0.        ,\n",
       "        0.        , 0.        , 0.        , 0.        , 0.        ,\n",
       "        0.09375   , 0.4453125 , 0.86328125, 0.98828125, 0.98828125,\n",
       "        0.98828125, 0.98828125, 0.78515625, 0.3046875 , 0.        ,\n",
       "        0.        , 0.        , 0.        , 0.        , 0.        ,\n",
       "        0.        , 0.        , 0.        ],\n",
       "       [0.        , 0.        , 0.        , 0.        , 0.        ,\n",
       "        0.        , 0.        , 0.        , 0.08984375, 0.2578125 ,\n",
       "        0.83203125, 0.98828125, 0.98828125, 0.98828125, 0.98828125,\n",
       "        0.7734375 , 0.31640625, 0.0078125 , 0.        , 0.        ,\n",
       "        0.        , 0.        , 0.        , 0.        , 0.        ,\n",
       "        0.        , 0.        , 0.        ],\n",
       "       [0.        , 0.        , 0.        , 0.        , 0.        ,\n",
       "        0.        , 0.0703125 , 0.66796875, 0.85546875, 0.98828125,\n",
       "        0.98828125, 0.98828125, 0.98828125, 0.76171875, 0.3125    ,\n",
       "        0.03515625, 0.        , 0.        , 0.        , 0.        ,\n",
       "        0.        , 0.        , 0.        , 0.        , 0.        ,\n",
       "        0.        , 0.        , 0.        ],\n",
       "       [0.        , 0.        , 0.        , 0.        , 0.21484375,\n",
       "        0.671875  , 0.8828125 , 0.98828125, 0.98828125, 0.98828125,\n",
       "        0.98828125, 0.953125  , 0.51953125, 0.04296875, 0.        ,\n",
       "        0.        , 0.        , 0.        , 0.        , 0.        ,\n",
       "        0.        , 0.        , 0.        , 0.        , 0.        ,\n",
       "        0.        , 0.        , 0.        ],\n",
       "       [0.        , 0.        , 0.        , 0.        , 0.53125   ,\n",
       "        0.98828125, 0.98828125, 0.98828125, 0.828125  , 0.52734375,\n",
       "        0.515625  , 0.0625    , 0.        , 0.        , 0.        ,\n",
       "        0.        , 0.        , 0.        , 0.        , 0.        ,\n",
       "        0.        , 0.        , 0.        , 0.        , 0.        ,\n",
       "        0.        , 0.        , 0.        ],\n",
       "       [0.        , 0.        , 0.        , 0.        , 0.        ,\n",
       "        0.        , 0.        , 0.        , 0.        , 0.        ,\n",
       "        0.        , 0.        , 0.        , 0.        , 0.        ,\n",
       "        0.        , 0.        , 0.        , 0.        , 0.        ,\n",
       "        0.        , 0.        , 0.        , 0.        , 0.        ,\n",
       "        0.        , 0.        , 0.        ],\n",
       "       [0.        , 0.        , 0.        , 0.        , 0.        ,\n",
       "        0.        , 0.        , 0.        , 0.        , 0.        ,\n",
       "        0.        , 0.        , 0.        , 0.        , 0.        ,\n",
       "        0.        , 0.        , 0.        , 0.        , 0.        ,\n",
       "        0.        , 0.        , 0.        , 0.        , 0.        ,\n",
       "        0.        , 0.        , 0.        ],\n",
       "       [0.        , 0.        , 0.        , 0.        , 0.        ,\n",
       "        0.        , 0.        , 0.        , 0.        , 0.        ,\n",
       "        0.        , 0.        , 0.        , 0.        , 0.        ,\n",
       "        0.        , 0.        , 0.        , 0.        , 0.        ,\n",
       "        0.        , 0.        , 0.        , 0.        , 0.        ,\n",
       "        0.        , 0.        , 0.        ]], dtype=float32)"
      ]
     },
     "execution_count": 103,
     "metadata": {},
     "output_type": "execute_result"
    }
   ],
   "source": [
    "image0 = Xtrain[0, :]\n",
    "image0 = image0.reshape(28, 28)\n",
    "image0"
   ]
  },
  {
   "cell_type": "markdown",
   "metadata": {},
   "source": [
    "Not that helpful.  Ok, let's use `matplotlib` to make an image display."
   ]
  },
  {
   "cell_type": "code",
   "execution_count": 104,
   "metadata": {},
   "outputs": [
    {
     "data": {
      "image/png": "[encoded data removed]",
      "text/plain": [
       "<Figure size 432x288 with 1 Axes>"
      ]
     },
     "metadata": {
      "needs_background": "light"
     },
     "output_type": "display_data"
    }
   ],
   "source": [
    "plt.imshow(image0);"
   ]
  },
  {
   "cell_type": "markdown",
   "metadata": {},
   "source": [
    "Humm.  Try a grayscale color map."
   ]
  },
  {
   "cell_type": "code",
   "execution_count": 105,
   "metadata": {},
   "outputs": [
    {
     "data": {
      "image/png": "[encoded data removed]",
      "text/plain": [
       "<Figure size 432x288 with 1 Axes>"
      ]
     },
     "metadata": {
      "needs_background": "light"
     },
     "output_type": "display_data"
    }
   ],
   "source": [
    "plt.imshow(image0, cmap='gray');"
   ]
  },
  {
   "cell_type": "markdown",
   "metadata": {},
   "source": [
    "With a little more work, we can make it look like a pencil drawing."
   ]
  },
  {
   "cell_type": "code",
   "execution_count": 106,
   "metadata": {},
   "outputs": [
    {
     "data": {
      "image/png": "[encoded data removed]",
      "text/plain": [
       "<Figure size 432x288 with 1 Axes>"
      ]
     },
     "metadata": {
      "needs_background": "light"
     },
     "output_type": "display_data"
    }
   ],
   "source": [
    "plt.imshow(-image0, cmap='gray')  # notice the negative sign\n",
    "plt.axis('off');"
   ]
  },
  {
   "cell_type": "markdown",
   "metadata": {},
   "source": [
    "Looks like a 5.  What class label is associated with this image?"
   ]
  },
  {
   "cell_type": "code",
   "execution_count": 107,
   "metadata": {},
   "outputs": [
    {
     "data": {
      "text/plain": [
       "array([5])"
      ]
     },
     "execution_count": 107,
     "metadata": {},
     "output_type": "execute_result"
    }
   ],
   "source": [
    "Ttrain[0]"
   ]
  },
  {
   "cell_type": "markdown",
   "metadata": {},
   "source": [
    "Okay.  Makes sense.  Let's look at the first 100 images and their labels, as plot titles."
   ]
  },
  {
   "cell_type": "code",
   "execution_count": 108,
   "metadata": {},
   "outputs": [
    {
     "data": {
      "image/png": "[encoded data removed]",
      "text/plain": [
       "<Figure size 1440x1440 with 100 Axes>"
      ]
     },
     "metadata": {
      "needs_background": "light"
     },
     "output_type": "display_data"
    }
   ],
   "source": [
    "plt.figure(figsize=(20, 20))\n",
    "for i in range(100):\n",
    "    plt.subplot(10, 10, i + 1)\n",
    "    plt.imshow(-Xtrain[i, :].reshape(28, 28), cmap='gray')\n",
    "    plt.title(Ttrain[i, 0])\n",
    "    plt.axis('off');"
   ]
  },
  {
   "cell_type": "markdown",
   "metadata": {},
   "source": [
    "Okay.  We are ready to try to classify, right?\n",
    "\n",
    "First we should check the proportions of each digit in the given data partitions."
   ]
  },
  {
   "cell_type": "code",
   "execution_count": 109,
   "metadata": {},
   "outputs": [
    {
     "data": {
      "text/plain": [
       "(50000, 10)"
      ]
     },
     "execution_count": 109,
     "metadata": {},
     "output_type": "execute_result"
    }
   ],
   "source": [
    "classes = np.arange(10)\n",
    "(Ttrain == classes).shape"
   ]
  },
  {
   "cell_type": "code",
   "execution_count": 110,
   "metadata": {},
   "outputs": [
    {
     "data": {
      "text/plain": [
       "array([4932, 5678, 4968, 5101, 4859, 4506, 4951, 5175, 4842, 4988])"
      ]
     },
     "execution_count": 110,
     "metadata": {},
     "output_type": "execute_result"
    }
   ],
   "source": [
    "(Ttrain == classes).sum(axis=0)"
   ]
  },
  {
   "cell_type": "code",
   "execution_count": 111,
   "metadata": {},
   "outputs": [
    {
     "data": {
      "text/plain": [
       "array([0.09864, 0.11356, 0.09936, 0.10202, 0.09718, 0.09012, 0.09902,\n",
       "       0.1035 , 0.09684, 0.09976])"
      ]
     },
     "execution_count": 111,
     "metadata": {},
     "output_type": "execute_result"
    }
   ],
   "source": [
    "(Ttrain == classes).sum(axis=0) / Ttrain.shape[0]"
   ]
  },
  {
   "cell_type": "code",
   "execution_count": 112,
   "metadata": {},
   "outputs": [
    {
     "data": {
      "text/plain": [
       "['Ttrain',\n",
       " 0.09864,\n",
       " 0.11356,\n",
       " 0.09936,\n",
       " 0.10202,\n",
       " 0.09718,\n",
       " 0.09012,\n",
       " 0.09902,\n",
       " 0.1035,\n",
       " 0.09684,\n",
       " 0.09976]"
      ]
     },
     "execution_count": 112,
     "metadata": {},
     "output_type": "execute_result"
    }
   ],
   "source": [
    "['Ttrain', *(Ttrain == classes).sum(axis=0) / Ttrain.shape[0]]"
   ]
  },
  {
   "cell_type": "code",
   "execution_count": 113,
   "metadata": {},
   "outputs": [
    {
     "data": {
      "text/html": [
       "<div>\n",
       "<style scoped>\n",
       "    .dataframe tbody tr th:only-of-type {\n",
       "        vertical-align: middle;\n",
       "    }\n",
       "\n",
       "    .dataframe tbody tr th {\n",
       "        vertical-align: top;\n",
       "    }\n",
       "\n",
       "    .dataframe thead th {\n",
       "        text-align: right;\n",
       "    }\n",
       "</style>\n",
       "<table border=\"1\" class=\"dataframe\">\n",
       "  <thead>\n",
       "    <tr style=\"text-align: right;\">\n",
       "      <th></th>\n",
       "      <th>0</th>\n",
       "      <th>1</th>\n",
       "      <th>2</th>\n",
       "      <th>3</th>\n",
       "      <th>4</th>\n",
       "      <th>5</th>\n",
       "      <th>6</th>\n",
       "      <th>7</th>\n",
       "      <th>8</th>\n",
       "      <th>9</th>\n",
       "      <th>10</th>\n",
       "    </tr>\n",
       "  </thead>\n",
       "  <tbody>\n",
       "    <tr>\n",
       "      <th>0</th>\n",
       "      <td>Train</td>\n",
       "      <td>0.09864</td>\n",
       "      <td>0.11356</td>\n",
       "      <td>0.09936</td>\n",
       "      <td>0.10202</td>\n",
       "      <td>0.09718</td>\n",
       "      <td>0.09012</td>\n",
       "      <td>0.09902</td>\n",
       "      <td>0.1035</td>\n",
       "      <td>0.09684</td>\n",
       "      <td>0.09976</td>\n",
       "    </tr>\n",
       "    <tr>\n",
       "      <th>1</th>\n",
       "      <td>Tval</td>\n",
       "      <td>0.09910</td>\n",
       "      <td>0.10640</td>\n",
       "      <td>0.09900</td>\n",
       "      <td>0.10300</td>\n",
       "      <td>0.09830</td>\n",
       "      <td>0.09150</td>\n",
       "      <td>0.09670</td>\n",
       "      <td>0.1090</td>\n",
       "      <td>0.10090</td>\n",
       "      <td>0.09610</td>\n",
       "    </tr>\n",
       "    <tr>\n",
       "      <th>2</th>\n",
       "      <td>Ttest</td>\n",
       "      <td>0.09800</td>\n",
       "      <td>0.11350</td>\n",
       "      <td>0.10320</td>\n",
       "      <td>0.10100</td>\n",
       "      <td>0.09820</td>\n",
       "      <td>0.08920</td>\n",
       "      <td>0.09580</td>\n",
       "      <td>0.1028</td>\n",
       "      <td>0.09740</td>\n",
       "      <td>0.10090</td>\n",
       "    </tr>\n",
       "  </tbody>\n",
       "</table>\n",
       "</div>"
      ],
      "text/plain": [
       "      0        1        2        3        4        5        6        7   \\\n",
       "0  Train  0.09864  0.11356  0.09936  0.10202  0.09718  0.09012  0.09902   \n",
       "1   Tval  0.09910  0.10640  0.09900  0.10300  0.09830  0.09150  0.09670   \n",
       "2  Ttest  0.09800  0.11350  0.10320  0.10100  0.09820  0.08920  0.09580   \n",
       "\n",
       "       8        9        10  \n",
       "0  0.1035  0.09684  0.09976  \n",
       "1  0.1090  0.10090  0.09610  \n",
       "2  0.1028  0.09740  0.10090  "
      ]
     },
     "execution_count": 113,
     "metadata": {},
     "output_type": "execute_result"
    }
   ],
   "source": [
    "import pandas\n",
    "\n",
    "result = []\n",
    "result.append(['Train', *(Ttrain == classes).sum(axis=0) / Ttrain.shape[0]])\n",
    "result.append(['Tval', *(Tval == classes).sum(axis=0) / Tval.shape[0]])\n",
    "result.append(['Ttest', *(Ttest == classes).sum(axis=0) / Ttest.shape[0]])\n",
    "pandas.DataFrame(result)"
   ]
  },
  {
   "cell_type": "markdown",
   "metadata": {},
   "source": [
    "All very close to 0.1. Super."
   ]
  },
  {
   "cell_type": "markdown",
   "metadata": {},
   "source": [
    "Time for our first experiment.  Let's train a small neural net with 5 hidden units in one layer for a small number of epochs using Adam."
   ]
  },
  {
   "cell_type": "code",
   "execution_count": 114,
   "metadata": {},
   "outputs": [
    {
     "name": "stdout",
     "output_type": "stream",
     "text": [
      "Adam: Epoch 10 Error=0.82887\n",
      "Adam: Epoch 20 Error=0.85170\n",
      "Adam: Epoch 30 Error=0.87229\n",
      "Adam: Epoch 40 Error=0.88913\n",
      "Adam: Epoch 50 Error=0.90202\n",
      "Adam: Epoch 60 Error=0.91179\n",
      "Adam: Epoch 70 Error=0.91932\n",
      "Adam: Epoch 80 Error=0.92541\n",
      "Adam: Epoch 90 Error=0.93041\n",
      "Adam: Epoch 100 Error=0.93447\n"
     ]
    },
    {
     "data": {
      "text/plain": [
       "NeuralNetworkClassifier(784, [5], 10, 'tanh')"
      ]
     },
     "execution_count": 114,
     "metadata": {},
     "output_type": "execute_result"
    }
   ],
   "source": [
    "n_epochs = 100\n",
    "learning_rate = 0.01\n",
    "\n",
    "np.random.seed(142)\n",
    "\n",
    "nnet = NeuralNetworkClassifier(Xtrain.shape[1], [5], len(classes))\n",
    "nnet.train(Xtrain, Ttrain, n_epochs, learning_rate, method='adam', verbose=True)"
   ]
  },
  {
   "cell_type": "code",
   "execution_count": 115,
   "metadata": {},
   "outputs": [
    {
     "name": "stdout",
     "output_type": "stream",
     "text": [
      "NeuralNetworkClassifier(784, [5], 10, 'tanh') trained for 100 epochs, final training error 0.9345\n"
     ]
    }
   ],
   "source": [
    "print(nnet)  # uses the __str__ method"
   ]
  },
  {
   "cell_type": "code",
   "execution_count": 116,
   "metadata": {},
   "outputs": [
    {
     "data": {
      "image/png": "[encoded data removed]",
      "text/plain": [
       "<Figure size 432x288 with 1 Axes>"
      ]
     },
     "metadata": {
      "needs_background": "light"
     },
     "output_type": "display_data"
    }
   ],
   "source": [
    "plt.plot(nnet.error_trace);"
   ]
  },
  {
   "cell_type": "markdown",
   "metadata": {},
   "source": [
    "Now it is time for you to run some longer experiments.  You must write the code to do the following steps:\n",
    "\n",
    "1. For each of at least five different hidden layer structures\n",
    "\n",
    "    1. Train a network for 500 epochs.\n",
    "    1. Collect percent of samples correctly classified in the given train, validate, and test partitions.\n",
    "\n",
    "2. Create a `pandas.DataFrame` with these results and with column headings `('Hidden Layers', 'Train', 'Validate', 'Test', 'Time')` where `'Time'` is the number of seconds required to train each network.\n",
    "\n",
    "3. Retrain a network using the best hidden layer structure, judged by the percent correct on the validation set.\n",
    "4. Use this network to find several images in the test set for which the network's probability of the correct class is the closest to zero, meaning images for which your network does the worst.  Draw these images and discuss why your network might not be doing well for those images."
   ]
  },
  {
   "cell_type": "code",
   "execution_count": 117,
   "metadata": {},
   "outputs": [],
   "source": [
    "# experiments\n",
    "import time \n",
    "\n",
    "def run_experiments():\n",
    "\n",
    "    nn_arch = [[], [1], [20], [50,100,50], [100, 100], [50,50,50]]\n",
    "    n_epochs = 500\n",
    "\n",
    "    result_list = []\n",
    "\n",
    "    for hidden in nn_arch:\n",
    "\n",
    "        nnet = NeuralNetworkClassifier(Xtrain.shape[1], hidden, len(np.unique(Ttrain)))\n",
    "\n",
    "        start_time = time.time()\n",
    "\n",
    "        nnet.train(Xtrain, Ttrain, n_epochs, learning_rate, method='adam', verbose=False)\n",
    "\n",
    "        elapsed_time = time.time() - start_time\n",
    "\n",
    "        train_classes, train_preds = nnet.use(Xtrain)\n",
    "        train_percent_correct = 100 * np.mean(train_classes == Ttrain)\n",
    "\n",
    "        test_classes, test_preds = nnet.use(Xtest)\n",
    "        test_percent_correct = 100 * np.mean(test_classes == Ttest)\n",
    "\n",
    "        val_classes, val_preds = nnet.use(Xval)\n",
    "        val_percent_correct = 100 * np.mean(val_classes == Tval)\n",
    "\n",
    "        result_list.append((hidden, train_percent_correct, val_percent_correct, test_percent_correct, elapsed_time))\n",
    "\n",
    "        \n",
    "    result_df = pandas.DataFrame(result_list, columns=['Hidden Layers', 'Train', 'Validate', 'Test', 'Time'])\n",
    "\n",
    "    return result_df\n"
   ]
  },
  {
   "cell_type": "code",
   "execution_count": 118,
   "metadata": {
    "scrolled": true
   },
   "outputs": [
    {
     "data": {
      "text/html": [
       "<div>\n",
       "<style scoped>\n",
       "    .dataframe tbody tr th:only-of-type {\n",
       "        vertical-align: middle;\n",
       "    }\n",
       "\n",
       "    .dataframe tbody tr th {\n",
       "        vertical-align: top;\n",
       "    }\n",
       "\n",
       "    .dataframe thead th {\n",
       "        text-align: right;\n",
       "    }\n",
       "</style>\n",
       "<table border=\"1\" class=\"dataframe\">\n",
       "  <thead>\n",
       "    <tr style=\"text-align: right;\">\n",
       "      <th></th>\n",
       "      <th>Hidden Layers</th>\n",
       "      <th>Train</th>\n",
       "      <th>Validate</th>\n",
       "      <th>Test</th>\n",
       "      <th>Time</th>\n",
       "    </tr>\n",
       "  </thead>\n",
       "  <tbody>\n",
       "    <tr>\n",
       "      <th>0</th>\n",
       "      <td>[]</td>\n",
       "      <td>94.166</td>\n",
       "      <td>92.57</td>\n",
       "      <td>92.35</td>\n",
       "      <td>280.163748</td>\n",
       "    </tr>\n",
       "    <tr>\n",
       "      <th>1</th>\n",
       "      <td>[1]</td>\n",
       "      <td>23.634</td>\n",
       "      <td>23.82</td>\n",
       "      <td>23.15</td>\n",
       "      <td>262.207276</td>\n",
       "    </tr>\n",
       "    <tr>\n",
       "      <th>2</th>\n",
       "      <td>[20]</td>\n",
       "      <td>98.254</td>\n",
       "      <td>92.82</td>\n",
       "      <td>92.62</td>\n",
       "      <td>332.250359</td>\n",
       "    </tr>\n",
       "    <tr>\n",
       "      <th>3</th>\n",
       "      <td>[50, 100, 50]</td>\n",
       "      <td>99.996</td>\n",
       "      <td>94.02</td>\n",
       "      <td>93.27</td>\n",
       "      <td>611.652910</td>\n",
       "    </tr>\n",
       "    <tr>\n",
       "      <th>4</th>\n",
       "      <td>[100, 100]</td>\n",
       "      <td>100.000</td>\n",
       "      <td>95.63</td>\n",
       "      <td>95.31</td>\n",
       "      <td>660.053123</td>\n",
       "    </tr>\n",
       "    <tr>\n",
       "      <th>5</th>\n",
       "      <td>[50, 50, 50]</td>\n",
       "      <td>99.984</td>\n",
       "      <td>93.19</td>\n",
       "      <td>92.75</td>\n",
       "      <td>555.679455</td>\n",
       "    </tr>\n",
       "  </tbody>\n",
       "</table>\n",
       "</div>"
      ],
      "text/plain": [
       "   Hidden Layers    Train  Validate   Test        Time\n",
       "0             []   94.166     92.57  92.35  280.163748\n",
       "1            [1]   23.634     23.82  23.15  262.207276\n",
       "2           [20]   98.254     92.82  92.62  332.250359\n",
       "3  [50, 100, 50]   99.996     94.02  93.27  611.652910\n",
       "4     [100, 100]  100.000     95.63  95.31  660.053123\n",
       "5   [50, 50, 50]   99.984     93.19  92.75  555.679455"
      ]
     },
     "execution_count": 118,
     "metadata": {},
     "output_type": "execute_result"
    }
   ],
   "source": [
    "results = run_experiments()\n",
    "results"
   ]
  },
  {
   "cell_type": "markdown",
   "metadata": {},
   "source": [
    "## `confusion_matrix`\n",
    "\n",
    "Now, write a function named `confusion_matrix` that returns a confusion matrix for any classification problem, returned as a `pandas.DataFrame` as shown in Lecture Notes 12.  It must require two arguments, the predicted classes for each sample and the true classes for each sample.  Here is an example."
   ]
  },
  {
   "cell_type": "code",
   "execution_count": 50,
   "metadata": {},
   "outputs": [],
   "source": [
    "def confusion_matrix(predicted, actual):\n",
    "    table = []\n",
    "    class_names = np.unique(actual)\n",
    "    for true_class in np.unique(actual):\n",
    "        row = []\n",
    "        for predicted_class in np.unique(predicted):\n",
    "            row.append(100 * np.mean(predicted[actual == true_class] == predicted_class))\n",
    "            # row.append(f'{100 * np.mean(Classes[Ttrain == true_class] == predicted_class):0.1f}')\n",
    "        table.append(row)\n",
    "    \n",
    "    conf_matrix = pandas.DataFrame(table, index=class_names, columns=class_names)\n",
    "    \n",
    "    return conf_matrix"
   ]
  },
  {
   "cell_type": "markdown",
   "metadata": {},
   "source": [
    "## As seen from the table above the network with 2 hidden layers [100,100] performs the best on validation set"
   ]
  },
  {
   "cell_type": "code",
   "execution_count": 121,
   "metadata": {},
   "outputs": [
    {
     "data": {
      "text/plain": [
       "NeuralNetworkClassifier(784, [100, 100], 10, 'tanh')"
      ]
     },
     "execution_count": 121,
     "metadata": {},
     "output_type": "execute_result"
    }
   ],
   "source": [
    "# Retraining the best performing network\n",
    "\n",
    "hidden = [100,100]\n",
    "\n",
    "nnet_best = NeuralNetworkClassifier(Xtrain.shape[1], hidden, len(classes))\n",
    "nnet_best.train(Xtrain, Ttrain, n_epochs, learning_rate, method='adam', verbose=False)\n"
   ]
  },
  {
   "cell_type": "markdown",
   "metadata": {},
   "source": [
    " ### Confusion matrix for best performing network i.e `hidden=[100,100]`"
   ]
  },
  {
   "cell_type": "code",
   "execution_count": 145,
   "metadata": {
    "scrolled": false
   },
   "outputs": [
    {
     "data": {
      "text/html": [
       "<style  type=\"text/css\" >\n",
       "#T_568e3cea_9814_11eb_b7bc_ecb1d74ca0c0row0_col0,#T_568e3cea_9814_11eb_b7bc_ecb1d74ca0c0row1_col1,#T_568e3cea_9814_11eb_b7bc_ecb1d74ca0c0row2_col2,#T_568e3cea_9814_11eb_b7bc_ecb1d74ca0c0row3_col3,#T_568e3cea_9814_11eb_b7bc_ecb1d74ca0c0row4_col4,#T_568e3cea_9814_11eb_b7bc_ecb1d74ca0c0row5_col5,#T_568e3cea_9814_11eb_b7bc_ecb1d74ca0c0row6_col6,#T_568e3cea_9814_11eb_b7bc_ecb1d74ca0c0row7_col7,#T_568e3cea_9814_11eb_b7bc_ecb1d74ca0c0row8_col8,#T_568e3cea_9814_11eb_b7bc_ecb1d74ca0c0row9_col9{\n",
       "            background-color:  #08306b;\n",
       "            color:  #f1f1f1;\n",
       "        }#T_568e3cea_9814_11eb_b7bc_ecb1d74ca0c0row0_col1,#T_568e3cea_9814_11eb_b7bc_ecb1d74ca0c0row0_col3,#T_568e3cea_9814_11eb_b7bc_ecb1d74ca0c0row0_col4,#T_568e3cea_9814_11eb_b7bc_ecb1d74ca0c0row0_col7,#T_568e3cea_9814_11eb_b7bc_ecb1d74ca0c0row0_col8,#T_568e3cea_9814_11eb_b7bc_ecb1d74ca0c0row0_col9,#T_568e3cea_9814_11eb_b7bc_ecb1d74ca0c0row1_col0,#T_568e3cea_9814_11eb_b7bc_ecb1d74ca0c0row1_col2,#T_568e3cea_9814_11eb_b7bc_ecb1d74ca0c0row1_col3,#T_568e3cea_9814_11eb_b7bc_ecb1d74ca0c0row1_col4,#T_568e3cea_9814_11eb_b7bc_ecb1d74ca0c0row1_col5,#T_568e3cea_9814_11eb_b7bc_ecb1d74ca0c0row1_col6,#T_568e3cea_9814_11eb_b7bc_ecb1d74ca0c0row1_col7,#T_568e3cea_9814_11eb_b7bc_ecb1d74ca0c0row1_col8,#T_568e3cea_9814_11eb_b7bc_ecb1d74ca0c0row1_col9,#T_568e3cea_9814_11eb_b7bc_ecb1d74ca0c0row2_col1,#T_568e3cea_9814_11eb_b7bc_ecb1d74ca0c0row2_col5,#T_568e3cea_9814_11eb_b7bc_ecb1d74ca0c0row2_col9,#T_568e3cea_9814_11eb_b7bc_ecb1d74ca0c0row3_col0,#T_568e3cea_9814_11eb_b7bc_ecb1d74ca0c0row3_col1,#T_568e3cea_9814_11eb_b7bc_ecb1d74ca0c0row3_col4,#T_568e3cea_9814_11eb_b7bc_ecb1d74ca0c0row3_col6,#T_568e3cea_9814_11eb_b7bc_ecb1d74ca0c0row4_col0,#T_568e3cea_9814_11eb_b7bc_ecb1d74ca0c0row4_col1,#T_568e3cea_9814_11eb_b7bc_ecb1d74ca0c0row4_col3,#T_568e3cea_9814_11eb_b7bc_ecb1d74ca0c0row4_col5,#T_568e3cea_9814_11eb_b7bc_ecb1d74ca0c0row4_col7,#T_568e3cea_9814_11eb_b7bc_ecb1d74ca0c0row4_col8,#T_568e3cea_9814_11eb_b7bc_ecb1d74ca0c0row5_col1,#T_568e3cea_9814_11eb_b7bc_ecb1d74ca0c0row5_col2,#T_568e3cea_9814_11eb_b7bc_ecb1d74ca0c0row5_col4,#T_568e3cea_9814_11eb_b7bc_ecb1d74ca0c0row5_col7,#T_568e3cea_9814_11eb_b7bc_ecb1d74ca0c0row5_col9,#T_568e3cea_9814_11eb_b7bc_ecb1d74ca0c0row6_col1,#T_568e3cea_9814_11eb_b7bc_ecb1d74ca0c0row6_col2,#T_568e3cea_9814_11eb_b7bc_ecb1d74ca0c0row6_col3,#T_568e3cea_9814_11eb_b7bc_ecb1d74ca0c0row6_col7,#T_568e3cea_9814_11eb_b7bc_ecb1d74ca0c0row6_col8,#T_568e3cea_9814_11eb_b7bc_ecb1d74ca0c0row6_col9,#T_568e3cea_9814_11eb_b7bc_ecb1d74ca0c0row7_col0,#T_568e3cea_9814_11eb_b7bc_ecb1d74ca0c0row7_col4,#T_568e3cea_9814_11eb_b7bc_ecb1d74ca0c0row7_col5,#T_568e3cea_9814_11eb_b7bc_ecb1d74ca0c0row7_col6,#T_568e3cea_9814_11eb_b7bc_ecb1d74ca0c0row7_col8,#T_568e3cea_9814_11eb_b7bc_ecb1d74ca0c0row8_col0,#T_568e3cea_9814_11eb_b7bc_ecb1d74ca0c0row8_col1,#T_568e3cea_9814_11eb_b7bc_ecb1d74ca0c0row8_col6,#T_568e3cea_9814_11eb_b7bc_ecb1d74ca0c0row9_col2,#T_568e3cea_9814_11eb_b7bc_ecb1d74ca0c0row9_col6{\n",
       "            background-color:  #f7fbff;\n",
       "            color:  #000000;\n",
       "        }#T_568e3cea_9814_11eb_b7bc_ecb1d74ca0c0row0_col2,#T_568e3cea_9814_11eb_b7bc_ecb1d74ca0c0row0_col5,#T_568e3cea_9814_11eb_b7bc_ecb1d74ca0c0row2_col3,#T_568e3cea_9814_11eb_b7bc_ecb1d74ca0c0row2_col4,#T_568e3cea_9814_11eb_b7bc_ecb1d74ca0c0row3_col2,#T_568e3cea_9814_11eb_b7bc_ecb1d74ca0c0row3_col8,#T_568e3cea_9814_11eb_b7bc_ecb1d74ca0c0row4_col2,#T_568e3cea_9814_11eb_b7bc_ecb1d74ca0c0row7_col1,#T_568e3cea_9814_11eb_b7bc_ecb1d74ca0c0row7_col3,#T_568e3cea_9814_11eb_b7bc_ecb1d74ca0c0row8_col4,#T_568e3cea_9814_11eb_b7bc_ecb1d74ca0c0row8_col9,#T_568e3cea_9814_11eb_b7bc_ecb1d74ca0c0row9_col0,#T_568e3cea_9814_11eb_b7bc_ecb1d74ca0c0row9_col1,#T_568e3cea_9814_11eb_b7bc_ecb1d74ca0c0row9_col5{\n",
       "            background-color:  #f6faff;\n",
       "            color:  #000000;\n",
       "        }#T_568e3cea_9814_11eb_b7bc_ecb1d74ca0c0row0_col6,#T_568e3cea_9814_11eb_b7bc_ecb1d74ca0c0row2_col0,#T_568e3cea_9814_11eb_b7bc_ecb1d74ca0c0row2_col6,#T_568e3cea_9814_11eb_b7bc_ecb1d74ca0c0row2_col7,#T_568e3cea_9814_11eb_b7bc_ecb1d74ca0c0row2_col8,#T_568e3cea_9814_11eb_b7bc_ecb1d74ca0c0row3_col7,#T_568e3cea_9814_11eb_b7bc_ecb1d74ca0c0row3_col9,#T_568e3cea_9814_11eb_b7bc_ecb1d74ca0c0row4_col6,#T_568e3cea_9814_11eb_b7bc_ecb1d74ca0c0row5_col0,#T_568e3cea_9814_11eb_b7bc_ecb1d74ca0c0row5_col6,#T_568e3cea_9814_11eb_b7bc_ecb1d74ca0c0row6_col0,#T_568e3cea_9814_11eb_b7bc_ecb1d74ca0c0row6_col4,#T_568e3cea_9814_11eb_b7bc_ecb1d74ca0c0row6_col5,#T_568e3cea_9814_11eb_b7bc_ecb1d74ca0c0row8_col2,#T_568e3cea_9814_11eb_b7bc_ecb1d74ca0c0row8_col7,#T_568e3cea_9814_11eb_b7bc_ecb1d74ca0c0row9_col3,#T_568e3cea_9814_11eb_b7bc_ecb1d74ca0c0row9_col8{\n",
       "            background-color:  #f5fafe;\n",
       "            color:  #000000;\n",
       "        }#T_568e3cea_9814_11eb_b7bc_ecb1d74ca0c0row3_col5{\n",
       "            background-color:  #f3f8fe;\n",
       "            color:  #000000;\n",
       "        }#T_568e3cea_9814_11eb_b7bc_ecb1d74ca0c0row4_col9,#T_568e3cea_9814_11eb_b7bc_ecb1d74ca0c0row5_col8,#T_568e3cea_9814_11eb_b7bc_ecb1d74ca0c0row8_col3,#T_568e3cea_9814_11eb_b7bc_ecb1d74ca0c0row8_col5{\n",
       "            background-color:  #f4f9fe;\n",
       "            color:  #000000;\n",
       "        }#T_568e3cea_9814_11eb_b7bc_ecb1d74ca0c0row5_col3,#T_568e3cea_9814_11eb_b7bc_ecb1d74ca0c0row7_col9,#T_568e3cea_9814_11eb_b7bc_ecb1d74ca0c0row9_col7{\n",
       "            background-color:  #f2f8fd;\n",
       "            color:  #000000;\n",
       "        }#T_568e3cea_9814_11eb_b7bc_ecb1d74ca0c0row7_col2,#T_568e3cea_9814_11eb_b7bc_ecb1d74ca0c0row9_col4{\n",
       "            background-color:  #f5f9fe;\n",
       "            color:  #000000;\n",
       "        }</style><table id=\"T_568e3cea_9814_11eb_b7bc_ecb1d74ca0c0\" ><thead>    <tr>        <th class=\"blank level0\" ></th>        <th class=\"col_heading level0 col0\" >0</th>        <th class=\"col_heading level0 col1\" >1</th>        <th class=\"col_heading level0 col2\" >2</th>        <th class=\"col_heading level0 col3\" >3</th>        <th class=\"col_heading level0 col4\" >4</th>        <th class=\"col_heading level0 col5\" >5</th>        <th class=\"col_heading level0 col6\" >6</th>        <th class=\"col_heading level0 col7\" >7</th>        <th class=\"col_heading level0 col8\" >8</th>        <th class=\"col_heading level0 col9\" >9</th>    </tr></thead><tbody>\n",
       "                <tr>\n",
       "                        <th id=\"T_568e3cea_9814_11eb_b7bc_ecb1d74ca0c0level0_row0\" class=\"row_heading level0 row0\" >0</th>\n",
       "                        <td id=\"T_568e3cea_9814_11eb_b7bc_ecb1d74ca0c0row0_col0\" class=\"data row0 col0\" >97.8 %</td>\n",
       "                        <td id=\"T_568e3cea_9814_11eb_b7bc_ecb1d74ca0c0row0_col1\" class=\"data row0 col1\" >0.0 %</td>\n",
       "                        <td id=\"T_568e3cea_9814_11eb_b7bc_ecb1d74ca0c0row0_col2\" class=\"data row0 col2\" >0.5 %</td>\n",
       "                        <td id=\"T_568e3cea_9814_11eb_b7bc_ecb1d74ca0c0row0_col3\" class=\"data row0 col3\" >0.1 %</td>\n",
       "                        <td id=\"T_568e3cea_9814_11eb_b7bc_ecb1d74ca0c0row0_col4\" class=\"data row0 col4\" >0.0 %</td>\n",
       "                        <td id=\"T_568e3cea_9814_11eb_b7bc_ecb1d74ca0c0row0_col5\" class=\"data row0 col5\" >0.4 %</td>\n",
       "                        <td id=\"T_568e3cea_9814_11eb_b7bc_ecb1d74ca0c0row0_col6\" class=\"data row0 col6\" >0.9 %</td>\n",
       "                        <td id=\"T_568e3cea_9814_11eb_b7bc_ecb1d74ca0c0row0_col7\" class=\"data row0 col7\" >0.2 %</td>\n",
       "                        <td id=\"T_568e3cea_9814_11eb_b7bc_ecb1d74ca0c0row0_col8\" class=\"data row0 col8\" >0.1 %</td>\n",
       "                        <td id=\"T_568e3cea_9814_11eb_b7bc_ecb1d74ca0c0row0_col9\" class=\"data row0 col9\" >0.0 %</td>\n",
       "            </tr>\n",
       "            <tr>\n",
       "                        <th id=\"T_568e3cea_9814_11eb_b7bc_ecb1d74ca0c0level0_row1\" class=\"row_heading level0 row1\" >1</th>\n",
       "                        <td id=\"T_568e3cea_9814_11eb_b7bc_ecb1d74ca0c0row1_col0\" class=\"data row1 col0\" >0.0 %</td>\n",
       "                        <td id=\"T_568e3cea_9814_11eb_b7bc_ecb1d74ca0c0row1_col1\" class=\"data row1 col1\" >98.8 %</td>\n",
       "                        <td id=\"T_568e3cea_9814_11eb_b7bc_ecb1d74ca0c0row1_col2\" class=\"data row1 col2\" >0.3 %</td>\n",
       "                        <td id=\"T_568e3cea_9814_11eb_b7bc_ecb1d74ca0c0row1_col3\" class=\"data row1 col3\" >0.2 %</td>\n",
       "                        <td id=\"T_568e3cea_9814_11eb_b7bc_ecb1d74ca0c0row1_col4\" class=\"data row1 col4\" >0.0 %</td>\n",
       "                        <td id=\"T_568e3cea_9814_11eb_b7bc_ecb1d74ca0c0row1_col5\" class=\"data row1 col5\" >0.1 %</td>\n",
       "                        <td id=\"T_568e3cea_9814_11eb_b7bc_ecb1d74ca0c0row1_col6\" class=\"data row1 col6\" >0.4 %</td>\n",
       "                        <td id=\"T_568e3cea_9814_11eb_b7bc_ecb1d74ca0c0row1_col7\" class=\"data row1 col7\" >0.1 %</td>\n",
       "                        <td id=\"T_568e3cea_9814_11eb_b7bc_ecb1d74ca0c0row1_col8\" class=\"data row1 col8\" >0.3 %</td>\n",
       "                        <td id=\"T_568e3cea_9814_11eb_b7bc_ecb1d74ca0c0row1_col9\" class=\"data row1 col9\" >0.0 %</td>\n",
       "            </tr>\n",
       "            <tr>\n",
       "                        <th id=\"T_568e3cea_9814_11eb_b7bc_ecb1d74ca0c0level0_row2\" class=\"row_heading level0 row2\" >2</th>\n",
       "                        <td id=\"T_568e3cea_9814_11eb_b7bc_ecb1d74ca0c0row2_col0\" class=\"data row2 col0\" >1.0 %</td>\n",
       "                        <td id=\"T_568e3cea_9814_11eb_b7bc_ecb1d74ca0c0row2_col1\" class=\"data row2 col1\" >0.1 %</td>\n",
       "                        <td id=\"T_568e3cea_9814_11eb_b7bc_ecb1d74ca0c0row2_col2\" class=\"data row2 col2\" >94.7 %</td>\n",
       "                        <td id=\"T_568e3cea_9814_11eb_b7bc_ecb1d74ca0c0row2_col3\" class=\"data row2 col3\" >0.8 %</td>\n",
       "                        <td id=\"T_568e3cea_9814_11eb_b7bc_ecb1d74ca0c0row2_col4\" class=\"data row2 col4\" >0.4 %</td>\n",
       "                        <td id=\"T_568e3cea_9814_11eb_b7bc_ecb1d74ca0c0row2_col5\" class=\"data row2 col5\" >0.1 %</td>\n",
       "                        <td id=\"T_568e3cea_9814_11eb_b7bc_ecb1d74ca0c0row2_col6\" class=\"data row2 col6\" >1.0 %</td>\n",
       "                        <td id=\"T_568e3cea_9814_11eb_b7bc_ecb1d74ca0c0row2_col7\" class=\"data row2 col7\" >1.1 %</td>\n",
       "                        <td id=\"T_568e3cea_9814_11eb_b7bc_ecb1d74ca0c0row2_col8\" class=\"data row2 col8\" >0.9 %</td>\n",
       "                        <td id=\"T_568e3cea_9814_11eb_b7bc_ecb1d74ca0c0row2_col9\" class=\"data row2 col9\" >0.1 %</td>\n",
       "            </tr>\n",
       "            <tr>\n",
       "                        <th id=\"T_568e3cea_9814_11eb_b7bc_ecb1d74ca0c0level0_row3\" class=\"row_heading level0 row3\" >3</th>\n",
       "                        <td id=\"T_568e3cea_9814_11eb_b7bc_ecb1d74ca0c0row3_col0\" class=\"data row3 col0\" >0.1 %</td>\n",
       "                        <td id=\"T_568e3cea_9814_11eb_b7bc_ecb1d74ca0c0row3_col1\" class=\"data row3 col1\" >0.1 %</td>\n",
       "                        <td id=\"T_568e3cea_9814_11eb_b7bc_ecb1d74ca0c0row3_col2\" class=\"data row3 col2\" >0.8 %</td>\n",
       "                        <td id=\"T_568e3cea_9814_11eb_b7bc_ecb1d74ca0c0row3_col3\" class=\"data row3 col3\" >94.5 %</td>\n",
       "                        <td id=\"T_568e3cea_9814_11eb_b7bc_ecb1d74ca0c0row3_col4\" class=\"data row3 col4\" >0.0 %</td>\n",
       "                        <td id=\"T_568e3cea_9814_11eb_b7bc_ecb1d74ca0c0row3_col5\" class=\"data row3 col5\" >1.9 %</td>\n",
       "                        <td id=\"T_568e3cea_9814_11eb_b7bc_ecb1d74ca0c0row3_col6\" class=\"data row3 col6\" >0.3 %</td>\n",
       "                        <td id=\"T_568e3cea_9814_11eb_b7bc_ecb1d74ca0c0row3_col7\" class=\"data row3 col7\" >0.9 %</td>\n",
       "                        <td id=\"T_568e3cea_9814_11eb_b7bc_ecb1d74ca0c0row3_col8\" class=\"data row3 col8\" >0.7 %</td>\n",
       "                        <td id=\"T_568e3cea_9814_11eb_b7bc_ecb1d74ca0c0row3_col9\" class=\"data row3 col9\" >0.8 %</td>\n",
       "            </tr>\n",
       "            <tr>\n",
       "                        <th id=\"T_568e3cea_9814_11eb_b7bc_ecb1d74ca0c0level0_row4\" class=\"row_heading level0 row4\" >4</th>\n",
       "                        <td id=\"T_568e3cea_9814_11eb_b7bc_ecb1d74ca0c0row4_col0\" class=\"data row4 col0\" >0.1 %</td>\n",
       "                        <td id=\"T_568e3cea_9814_11eb_b7bc_ecb1d74ca0c0row4_col1\" class=\"data row4 col1\" >0.1 %</td>\n",
       "                        <td id=\"T_568e3cea_9814_11eb_b7bc_ecb1d74ca0c0row4_col2\" class=\"data row4 col2\" >0.5 %</td>\n",
       "                        <td id=\"T_568e3cea_9814_11eb_b7bc_ecb1d74ca0c0row4_col3\" class=\"data row4 col3\" >0.1 %</td>\n",
       "                        <td id=\"T_568e3cea_9814_11eb_b7bc_ecb1d74ca0c0row4_col4\" class=\"data row4 col4\" >96.1 %</td>\n",
       "                        <td id=\"T_568e3cea_9814_11eb_b7bc_ecb1d74ca0c0row4_col5\" class=\"data row4 col5\" >0.0 %</td>\n",
       "                        <td id=\"T_568e3cea_9814_11eb_b7bc_ecb1d74ca0c0row4_col6\" class=\"data row4 col6\" >1.0 %</td>\n",
       "                        <td id=\"T_568e3cea_9814_11eb_b7bc_ecb1d74ca0c0row4_col7\" class=\"data row4 col7\" >0.3 %</td>\n",
       "                        <td id=\"T_568e3cea_9814_11eb_b7bc_ecb1d74ca0c0row4_col8\" class=\"data row4 col8\" >0.2 %</td>\n",
       "                        <td id=\"T_568e3cea_9814_11eb_b7bc_ecb1d74ca0c0row4_col9\" class=\"data row4 col9\" >1.5 %</td>\n",
       "            </tr>\n",
       "            <tr>\n",
       "                        <th id=\"T_568e3cea_9814_11eb_b7bc_ecb1d74ca0c0level0_row5\" class=\"row_heading level0 row5\" >5</th>\n",
       "                        <td id=\"T_568e3cea_9814_11eb_b7bc_ecb1d74ca0c0row5_col0\" class=\"data row5 col0\" >0.8 %</td>\n",
       "                        <td id=\"T_568e3cea_9814_11eb_b7bc_ecb1d74ca0c0row5_col1\" class=\"data row5 col1\" >0.2 %</td>\n",
       "                        <td id=\"T_568e3cea_9814_11eb_b7bc_ecb1d74ca0c0row5_col2\" class=\"data row5 col2\" >0.1 %</td>\n",
       "                        <td id=\"T_568e3cea_9814_11eb_b7bc_ecb1d74ca0c0row5_col3\" class=\"data row5 col3\" >2.6 %</td>\n",
       "                        <td id=\"T_568e3cea_9814_11eb_b7bc_ecb1d74ca0c0row5_col4\" class=\"data row5 col4\" >0.3 %</td>\n",
       "                        <td id=\"T_568e3cea_9814_11eb_b7bc_ecb1d74ca0c0row5_col5\" class=\"data row5 col5\" >92.8 %</td>\n",
       "                        <td id=\"T_568e3cea_9814_11eb_b7bc_ecb1d74ca0c0row5_col6\" class=\"data row5 col6\" >1.0 %</td>\n",
       "                        <td id=\"T_568e3cea_9814_11eb_b7bc_ecb1d74ca0c0row5_col7\" class=\"data row5 col7\" >0.3 %</td>\n",
       "                        <td id=\"T_568e3cea_9814_11eb_b7bc_ecb1d74ca0c0row5_col8\" class=\"data row5 col8\" >1.7 %</td>\n",
       "                        <td id=\"T_568e3cea_9814_11eb_b7bc_ecb1d74ca0c0row5_col9\" class=\"data row5 col9\" >0.1 %</td>\n",
       "            </tr>\n",
       "            <tr>\n",
       "                        <th id=\"T_568e3cea_9814_11eb_b7bc_ecb1d74ca0c0level0_row6\" class=\"row_heading level0 row6\" >6</th>\n",
       "                        <td id=\"T_568e3cea_9814_11eb_b7bc_ecb1d74ca0c0row6_col0\" class=\"data row6 col0\" >1.0 %</td>\n",
       "                        <td id=\"T_568e3cea_9814_11eb_b7bc_ecb1d74ca0c0row6_col1\" class=\"data row6 col1\" >0.3 %</td>\n",
       "                        <td id=\"T_568e3cea_9814_11eb_b7bc_ecb1d74ca0c0row6_col2\" class=\"data row6 col2\" >0.4 %</td>\n",
       "                        <td id=\"T_568e3cea_9814_11eb_b7bc_ecb1d74ca0c0row6_col3\" class=\"data row6 col3\" >0.1 %</td>\n",
       "                        <td id=\"T_568e3cea_9814_11eb_b7bc_ecb1d74ca0c0row6_col4\" class=\"data row6 col4\" >0.8 %</td>\n",
       "                        <td id=\"T_568e3cea_9814_11eb_b7bc_ecb1d74ca0c0row6_col5\" class=\"data row6 col5\" >0.8 %</td>\n",
       "                        <td id=\"T_568e3cea_9814_11eb_b7bc_ecb1d74ca0c0row6_col6\" class=\"data row6 col6\" >96.0 %</td>\n",
       "                        <td id=\"T_568e3cea_9814_11eb_b7bc_ecb1d74ca0c0row6_col7\" class=\"data row6 col7\" >0.0 %</td>\n",
       "                        <td id=\"T_568e3cea_9814_11eb_b7bc_ecb1d74ca0c0row6_col8\" class=\"data row6 col8\" >0.4 %</td>\n",
       "                        <td id=\"T_568e3cea_9814_11eb_b7bc_ecb1d74ca0c0row6_col9\" class=\"data row6 col9\" >0.0 %</td>\n",
       "            </tr>\n",
       "            <tr>\n",
       "                        <th id=\"T_568e3cea_9814_11eb_b7bc_ecb1d74ca0c0level0_row7\" class=\"row_heading level0 row7\" >7</th>\n",
       "                        <td id=\"T_568e3cea_9814_11eb_b7bc_ecb1d74ca0c0row7_col0\" class=\"data row7 col0\" >0.1 %</td>\n",
       "                        <td id=\"T_568e3cea_9814_11eb_b7bc_ecb1d74ca0c0row7_col1\" class=\"data row7 col1\" >0.7 %</td>\n",
       "                        <td id=\"T_568e3cea_9814_11eb_b7bc_ecb1d74ca0c0row7_col2\" class=\"data row7 col2\" >1.6 %</td>\n",
       "                        <td id=\"T_568e3cea_9814_11eb_b7bc_ecb1d74ca0c0row7_col3\" class=\"data row7 col3\" >0.5 %</td>\n",
       "                        <td id=\"T_568e3cea_9814_11eb_b7bc_ecb1d74ca0c0row7_col4\" class=\"data row7 col4\" >0.2 %</td>\n",
       "                        <td id=\"T_568e3cea_9814_11eb_b7bc_ecb1d74ca0c0row7_col5\" class=\"data row7 col5\" >0.2 %</td>\n",
       "                        <td id=\"T_568e3cea_9814_11eb_b7bc_ecb1d74ca0c0row7_col6\" class=\"data row7 col6\" >0.0 %</td>\n",
       "                        <td id=\"T_568e3cea_9814_11eb_b7bc_ecb1d74ca0c0row7_col7\" class=\"data row7 col7\" >94.2 %</td>\n",
       "                        <td id=\"T_568e3cea_9814_11eb_b7bc_ecb1d74ca0c0row7_col8\" class=\"data row7 col8\" >0.2 %</td>\n",
       "                        <td id=\"T_568e3cea_9814_11eb_b7bc_ecb1d74ca0c0row7_col9\" class=\"data row7 col9\" >2.4 %</td>\n",
       "            </tr>\n",
       "            <tr>\n",
       "                        <th id=\"T_568e3cea_9814_11eb_b7bc_ecb1d74ca0c0level0_row8\" class=\"row_heading level0 row8\" >8</th>\n",
       "                        <td id=\"T_568e3cea_9814_11eb_b7bc_ecb1d74ca0c0row8_col0\" class=\"data row8 col0\" >0.3 %</td>\n",
       "                        <td id=\"T_568e3cea_9814_11eb_b7bc_ecb1d74ca0c0row8_col1\" class=\"data row8 col1\" >0.1 %</td>\n",
       "                        <td id=\"T_568e3cea_9814_11eb_b7bc_ecb1d74ca0c0row8_col2\" class=\"data row8 col2\" >0.9 %</td>\n",
       "                        <td id=\"T_568e3cea_9814_11eb_b7bc_ecb1d74ca0c0row8_col3\" class=\"data row8 col3\" >1.7 %</td>\n",
       "                        <td id=\"T_568e3cea_9814_11eb_b7bc_ecb1d74ca0c0row8_col4\" class=\"data row8 col4\" >0.4 %</td>\n",
       "                        <td id=\"T_568e3cea_9814_11eb_b7bc_ecb1d74ca0c0row8_col5\" class=\"data row8 col5\" >1.5 %</td>\n",
       "                        <td id=\"T_568e3cea_9814_11eb_b7bc_ecb1d74ca0c0row8_col6\" class=\"data row8 col6\" >0.3 %</td>\n",
       "                        <td id=\"T_568e3cea_9814_11eb_b7bc_ecb1d74ca0c0row8_col7\" class=\"data row8 col7\" >0.9 %</td>\n",
       "                        <td id=\"T_568e3cea_9814_11eb_b7bc_ecb1d74ca0c0row8_col8\" class=\"data row8 col8\" >93.3 %</td>\n",
       "                        <td id=\"T_568e3cea_9814_11eb_b7bc_ecb1d74ca0c0row8_col9\" class=\"data row8 col9\" >0.4 %</td>\n",
       "            </tr>\n",
       "            <tr>\n",
       "                        <th id=\"T_568e3cea_9814_11eb_b7bc_ecb1d74ca0c0level0_row9\" class=\"row_heading level0 row9\" >9</th>\n",
       "                        <td id=\"T_568e3cea_9814_11eb_b7bc_ecb1d74ca0c0row9_col0\" class=\"data row9 col0\" >0.6 %</td>\n",
       "                        <td id=\"T_568e3cea_9814_11eb_b7bc_ecb1d74ca0c0row9_col1\" class=\"data row9 col1\" >0.5 %</td>\n",
       "                        <td id=\"T_568e3cea_9814_11eb_b7bc_ecb1d74ca0c0row9_col2\" class=\"data row9 col2\" >0.1 %</td>\n",
       "                        <td id=\"T_568e3cea_9814_11eb_b7bc_ecb1d74ca0c0row9_col3\" class=\"data row9 col3\" >1.0 %</td>\n",
       "                        <td id=\"T_568e3cea_9814_11eb_b7bc_ecb1d74ca0c0row9_col4\" class=\"data row9 col4\" >1.4 %</td>\n",
       "                        <td id=\"T_568e3cea_9814_11eb_b7bc_ecb1d74ca0c0row9_col5\" class=\"data row9 col5\" >0.7 %</td>\n",
       "                        <td id=\"T_568e3cea_9814_11eb_b7bc_ecb1d74ca0c0row9_col6\" class=\"data row9 col6\" >0.1 %</td>\n",
       "                        <td id=\"T_568e3cea_9814_11eb_b7bc_ecb1d74ca0c0row9_col7\" class=\"data row9 col7\" >2.3 %</td>\n",
       "                        <td id=\"T_568e3cea_9814_11eb_b7bc_ecb1d74ca0c0row9_col8\" class=\"data row9 col8\" >0.9 %</td>\n",
       "                        <td id=\"T_568e3cea_9814_11eb_b7bc_ecb1d74ca0c0row9_col9\" class=\"data row9 col9\" >92.5 %</td>\n",
       "            </tr>\n",
       "    </tbody></table>"
      ],
      "text/plain": [
       "<pandas.io.formats.style.Styler at 0x7f58649fad68>"
      ]
     },
     "execution_count": 145,
     "metadata": {},
     "output_type": "execute_result"
    }
   ],
   "source": [
    "Y_classes, Y_probs = nnet_best.use(Xtest)\n",
    "cnf_matrix = confusion_matrix(Y_classes, Ttest)\n",
    "cnf_matrix.style.background_gradient(cmap='Blues').format(\"{:.1f} %\")"
   ]
  },
  {
   "cell_type": "markdown",
   "metadata": {},
   "source": [
    " ## Examining 20 images with correct class probabilities closest to zero"
   ]
  },
  {
   "cell_type": "code",
   "execution_count": 184,
   "metadata": {},
   "outputs": [
    {
     "name": "stdout",
     "output_type": "stream",
     "text": [
      "\n",
      "\n",
      " -------------------------------- \n",
      " Note - Index is just included to make reference to digits easier in the discussion section \n",
      " -------------------------------- \n",
      "\n",
      "\n"
     ]
    },
    {
     "data": {
      "image/png": "[encoded data removed]",
      "text/plain": [
       "<Figure size 1080x1080 with 20 Axes>"
      ]
     },
     "metadata": {
      "needs_background": "light"
     },
     "output_type": "display_data"
    }
   ],
   "source": [
    "\n",
    "prob_dict = {}\n",
    "prob_list = []\n",
    "for i in range(len(Y_classes)):\n",
    "    \n",
    "    \n",
    "    if Y_classes[i] != Ttest[i]:\n",
    "        \n",
    "        #print(Y_classes[i], Ttest[i],Y_probs[i])\n",
    "        prob_dict[i] = Y_probs[i][Ttest[i]]\n",
    "        prob_list.append( Y_probs[i][Ttest[i]])\n",
    "        \n",
    "prob_list.sort(reverse=True)\n",
    "#print(prob_dict)\n",
    "cnt = 0\n",
    "plt.figure(figsize=(15, 15))\n",
    "\n",
    "\n",
    "print ('\\n\\n -------------------------------- \\n Note - Index is just included to make reference to digits easier in the discussion section \\n -------------------------------- \\n\\n')\n",
    "for prob in prob_list[:20]:\n",
    "    for key, prob_val in prob_dict.items():\n",
    "        if prob == prob_val:\n",
    "            cnt += 1\n",
    "            plt.subplot(5, 5, cnt)\n",
    "            plt.imshow(-Xtest[key, :].reshape(28, 28), cmap='gray')\n",
    "            plt.title(f'True: {Ttest[key, 0]}  Predicted: {Y_classes[key][0]} \\n Index {cnt}')\n",
    "            plt.axis('off');\n",
    "            \n",
    "\n"
   ]
  },
  {
   "cell_type": "markdown",
   "metadata": {},
   "source": [
    " # Discussion -\n",
    " \n",
    " \n",
    " \n",
    " - ***First of all, we achieve good accuracy (~95%) for the given dataset.***\n",
    "     - Reasons for that might be -\n",
    "         1. the images are relatively simple (no backround, no occlusion, only single objects etc.) \n",
    "         2. Each image contains only one digit\n",
    "         3. The digits are centered \n",
    "         4. Only single viewing angle (images depict a 2D digit)\n",
    "         \n",
    "         \n",
    " - ***The neural network which performs the best has 100 neurons in each layer (compared to other networks with 20, 50 neurons). However, it appears to overfit a bit as it gives 100% training accuracy***\n",
    "     - NN with more neurons performs better probably because it can take into account various features of digits more effectively \n",
    "     - 500 epochs is probably overkill and we need less number of epochs than that. This will avoid overfitting and save time\n",
    "     \n",
    "     \n",
    " - ***Observations from confusion matrix***  -\n",
    "     - The misclassifications make sense. For example - 8 is misclassified the most with 5 and 3, which intuitively makes sense as they look pretty similar if we draw them by hand. Similarly, 7 is misclassified the most with 9 and 2. This gives a sneak peek into how the neural network is working and learning the features of a digit\n",
    "     - 9 is the most miscalssified digit, this might be due to the fact that its shape has elements which are more common (in 0-9 digits). For example - a straight line, circle at top, etc.\n",
    "     \n",
    "     \n",
    " - ***Observations about misclassified digits with lowest correct class probablities*** -\n",
    "     - As seen from the plot above, many digits are confusing even for humans to classify. For example - at index 5, 6, 7, 13, 20 etc. \n",
    "     - It is not surprising the neural network misclassified them as they look either similar to some other digit or do not resemble any digit at all\n",
    "     - At index 14, the true label is 7 and predicted is 9. The digit seems to be slightly rotated. That might be the reason for misclassifying it as we do not have a lot of rotated digits in the dataset\n",
    "     - `This gives an interesting insight into the working of NN used here. It is not learning the notion of digits (i.e. it does not know what makes 7 a 7) it is just making predictions based on the whole image and its pixel values`\n",
    "     - To solve this issue, we can randomly rotate/move some of the images before feeding them to the NN and probably then it will learn the notion of a digit\n",
    "     "
   ]
  },
  {
   "cell_type": "markdown",
   "metadata": {},
   "source": [
    " \n",
    " \n",
    " "
   ]
  },
  {
   "cell_type": "markdown",
   "metadata": {},
   "source": [
    "## Grading and Check-In\n",
    "\n",
    "You will receive 70 points for correct code, and 30 points for other results and your discussions.  As before, you can test your code against the grading script yourself by downloading [A4grader.zip](https://www.cs.colostate.edu/~cs445/notebooks/A4grader.zip) and extracting `A4grader.py` parallel to this notebook.  We recommend keeping this notebook and the grader script in a dedicated folder with *just those two files.* Run the code in the in the following cell to see an example grading run.  Submit assignments **through Canvas** following the pattern of the previous assignments. *Do not send your file to the instructor/TA via email or any other medium!*"
   ]
  },
  {
   "cell_type": "code",
   "execution_count": 1,
   "metadata": {},
   "outputs": [
    {
     "name": "stdout",
     "output_type": "stream",
     "text": [
      "\n",
      "======================= Code Execution =======================\n",
      "\n",
      "Extracting python code from notebook named 'A4.2 Classification of Hand-Drawn Digits.ipynb' and storing in notebookcode.py\n",
      "Removing all statements that are not function or class defs or import statements.\n",
      "\n",
      "Testing\n",
      "\n",
      "    nn_reg = NeuralNetwork(1, [5], 2)\n",
      "    nn_class = NeuralNetworkClassifier(1, [5], 5)\n",
      "\n",
      "    nn_reg.forward_pass.__func__ == nn_class.forward_pass.__func__\n",
      "\n",
      "\n",
      "--- 10/10 points.  Function NeuralNetwork.forward_pass is correctly not overridden in NeuralNetworkClassifier.\n",
      "\n",
      "Testing\n",
      "\n",
      "    nn_reg = NeuralNetwork(1, [5], 2)\n",
      "    nn_class = NeuralNetworkClassifier(1, [5], 5)\n",
      "\n",
      "    nn_reg.train.__func__ != nn_class.train.__func__\n",
      "\n",
      "\n",
      "--- 10/10 points.  Function NeuralNetwork.train is correctly overridden in NeuralNetworkClassifier.\n",
      "\n",
      "Testing\n",
      "\n",
      "    nn_reg = NeuralNetwork(1, [5], 2)\n",
      "    nn_class = NeuralNetworkClassifier(1, [5], 5)\n",
      "\n",
      "    nn_reg.use.__func__ != nn_class.use.__func__\n",
      "\n",
      "\n",
      "--- 10/10 points.  Function NeuralNetwork.use is correctly overridden in NeuralNetworkClassifier.\n",
      "\n",
      "Testing\n",
      "\n",
      "    nn_class = NeuralNetworkClassifier(1, [5], 5)\n",
      "    result = nn_class.makeIndicatorVars(np.arange(5).reshape(-1, 1))\n",
      "\n",
      "\n",
      "\n",
      "--- 10/10 points.  makeIndicatorVars correctly returned all 1s on diagonal.\n",
      "\n",
      "Testing\n",
      "\n",
      "    nn_class = NeuralNetworkClassifier(1, [5], 5)\n",
      "    result = nn_class.softmax(np.array([[-5.5, 5.5]]))\n",
      "\n",
      "\n",
      "\n",
      "--- 10/10 points.  softmax returned correct answer.\n",
      "\n",
      "Testing\n",
      "\n",
      "    X = np.arange(20).reshape(20, 1)\n",
      "    X = np.hstack((X, X[::-1, :]))\n",
      "    T = np.array(['ends', 'mid'])[(np.abs(X[:, 0:1] - X[:, 1:2]) < 6).astype(int)]\n",
      "\n",
      "    np.random.seed(42)\n",
      "    \n",
      "    nnet = NeuralNetworkClassifier(X.shape[1], [10, 10], len(np.unique(T)), activation_function='relu')\n",
      "    nnet.train(X, T, 500, 0.001, method='adam', verbose=False)\n",
      "\n",
      "    Y_classes, Y_probs = nnet.use(X)\n",
      "\n",
      "    percent_correct = 100 * np.mean(Y_classes == T)\n",
      "\n",
      "\n",
      "--- 10/10 points. Correctly returned 100.0.\n",
      "\n",
      "Testing\n",
      "\n",
      "    cm = confusion_matrix(Y_classes, T)\n",
      "\n",
      "\n",
      "--- 10/10 points. Correctly returned DataFrame:\n",
      "       ends    mid\n",
      "ends  100.0    0.0\n",
      "mid     0.0  100.0\n",
      "\n",
      "======================================================================\n",
      "as4 Execution Grade is 70 / 70\n",
      "======================================================================\n",
      "\n",
      " __ / 30 Based on other testing and the results you obtain and your discussions.\n",
      "\n",
      "======================================================================\n",
      "as4 FINAL GRADE is  _  / 100\n",
      "======================================================================\n",
      "\n",
      "Extra Credit:\n",
      "\n",
      "Earn 5 extra credit points on this assignment by doing the following steps.\n",
      "\n",
      "1. Combine the train, validate, and test partitions loaded from the MNIST data file into \n",
      "   two matrices, X and T.\n",
      "\n",
      "2. Using adam, relu and just one value of learning_rate and n_epochs, compare several \n",
      "   hidden layer architectures. Do so by applying our generate_k_fold_cross_validation_sets\n",
      "   function as defined in Lecture Notes 12 which forms stratified partitioning, for use\n",
      "   in classification problems, to your X and T matrices using n_fold of 3.\n",
      "\n",
      "3. Show results and discuss which architectures you find works the best, and how you\n",
      "    determined this.\n"
     ]
    }
   ],
   "source": [
    "%run -i A4grader.py"
   ]
  },
  {
   "cell_type": "markdown",
   "metadata": {},
   "source": [
    "## Extra Credit\n",
    "Earn 5 extra credit point on this assignment by doing the following.\n",
    "\n",
    "1. Combine the train, validate, and test partitions loaded from the MNIST data file into two matrices, `X` and `T`. \n",
    "2. Using `adam` , `relu` and just one value of `learning_rate` and `n_epochs`, compare several hidden layer architectures. Do so by applying our `generate_k_fold_cross_validation_sets` function as defined in Lecture Notes 10 which forms stratified partitioning, for use in classification problems, to your `X` and `T` matrices using `n_fold` of 3.\n",
    "3. Show results and discuss which architectures you find works the best, and how you determined this."
   ]
  },
  {
   "cell_type": "code",
   "execution_count": 198,
   "metadata": {},
   "outputs": [
    {
     "data": {
      "text/plain": [
       "((70000, 784), (70000, 1))"
      ]
     },
     "execution_count": 198,
     "metadata": {},
     "output_type": "execute_result"
    }
   ],
   "source": [
    "# loading the data again to avoid conflict\n",
    "\n",
    "with gzip.open('mnist.pkl.gz', 'rb') as f:\n",
    "    train_set, valid_set, test_set = pickle.load(f, encoding='latin1')\n",
    "\n",
    "\n",
    "X = np.vstack((train_set[0] , valid_set[0],test_set[0]) )\n",
    "\n",
    "T = np.vstack((train_set[1].reshape(-1, 1) , valid_set[1].reshape(-1, 1) , test_set[1].reshape(-1, 1)))\n",
    "\n",
    "X.shape, T.shape"
   ]
  },
  {
   "cell_type": "code",
   "execution_count": 194,
   "metadata": {},
   "outputs": [],
   "source": [
    "def generate_k_fold_cross_validation_sets(X, T, n_folds, shuffle=True):\n",
    "\n",
    "    if shuffle:\n",
    "        # Randomly order X and T\n",
    "        randorder = np.arange(X.shape[0])\n",
    "        np.random.shuffle(randorder)\n",
    "        X = X[randorder, :]\n",
    "        T = T[randorder, :]\n",
    "\n",
    "    # Partition X and T into folds\n",
    "    n_samples = X.shape[0]\n",
    "    n_per_fold = round(n_samples / n_folds)\n",
    "    n_last_fold = n_samples - n_per_fold * (n_folds - 1)\n",
    "\n",
    "    folds = []\n",
    "    start = 0\n",
    "    for foldi in range(n_folds-1):\n",
    "        folds.append( (X[start:start + n_per_fold, :], T[start:start + n_per_fold, :]) )\n",
    "        start += n_per_fold\n",
    "    folds.append( (X[start:, :], T[start:, :]) )\n",
    "\n",
    "    # Yield k(k-1) assignments of Xtrain, Train, Xvalidate, Tvalidate, Xtest, Ttest\n",
    "\n",
    "    for validation_i in range(n_folds):\n",
    "        for test_i in range(n_folds):\n",
    "            if test_i == validation_i:\n",
    "                continue\n",
    "\n",
    "            train_i = np.setdiff1d(range(n_folds), [validation_i, test_i])\n",
    "\n",
    "            Xvalidate, Tvalidate = folds[validation_i]\n",
    "            Xtest, Ttest = folds[test_i]\n",
    "            if len(train_i) > 1:\n",
    "                Xtrain = np.vstack([folds[i][0] for i in train_i])\n",
    "                Ttrain = np.vstack([folds[i][1] for i in train_i])\n",
    "            else:\n",
    "                Xtrain, Ttrain = folds[train_i[0]]\n",
    "\n",
    "            yield Xtrain, Ttrain, Xvalidate, Tvalidate, Xtest, Ttest"
   ]
  },
  {
   "cell_type": "code",
   "execution_count": 206,
   "metadata": {},
   "outputs": [],
   "source": [
    "def run_k_fold_cross_validation(X, T, n_folds, list_of_n_hiddens, \n",
    "                                n_epochs, learning_rate, act_func):\n",
    "    \n",
    "    train_acc_list = []\n",
    "    test_acc_list = []\n",
    "    tval_acc_list = []\n",
    "    \n",
    "    avg_list = []\n",
    "    \n",
    "    for hidden in list_of_n_hiddens:\n",
    "        \n",
    "        train_acc_list = []\n",
    "        test_acc_list = []\n",
    "        tval_acc_list = []\n",
    "        \n",
    "        k_fold_generator = generate_k_fold_cross_validation_sets(X, T, n_folds)                       \n",
    "        \n",
    "        for Xtrain, Ttrain, Xval, Tval, Xtest, Ttest in k_fold_generator:\n",
    "\n",
    "                \n",
    "                n_samples, n_inputs = Xtrain.shape \n",
    "                n_outputs = Ttrain.shape[1]\n",
    "\n",
    "                \n",
    "                \n",
    "                nnet = NeuralNetworkClassifier(Xtrain.shape[1], hidden, len(np.unique(Ttrain)), act_func)\n",
    "\n",
    "               \n",
    "\n",
    "                nnet.train(Xtrain, Ttrain, n_epochs, learning_rate, method='adam', verbose=False)\n",
    "\n",
    "              \n",
    "\n",
    "                train_classes, train_preds = nnet.use(Xtrain)\n",
    "                train_percent_correct = 100 * np.mean(train_classes == Ttrain)\n",
    "\n",
    "                test_classes, test_preds = nnet.use(Xtest)\n",
    "                test_percent_correct = 100 * np.mean(test_classes == Ttest)\n",
    "\n",
    "                val_classes, val_preds = nnet.use(Xval)\n",
    "                val_percent_correct = 100 * np.mean(val_classes == Tval)\n",
    "\n",
    "                train_acc_list.append(train_percent_correct)\n",
    "                test_acc_list.append(test_percent_correct)\n",
    "                tval_acc_list.append(val_percent_correct)\n",
    "  \n",
    "                                               \n",
    "                                                   \n",
    "        avg_train = sum(train_acc_list)/len(train_acc_list)\n",
    "        avg_test = sum(test_acc_list)/len(test_acc_list)\n",
    "        avg_tval = sum(tval_acc_list)/len(tval_acc_list)\n",
    "                 \n",
    "        avg_list.append((hidden, avg_train, avg_test, avg_tval))\n",
    "\n",
    "                                               \n",
    "    result_df = pandas.DataFrame(avg_list, columns=['Arch', 'Train', 'Validate', 'Test'])\n",
    "    \n",
    "    \n",
    "    return result_df"
   ]
  },
  {
   "cell_type": "code",
   "execution_count": null,
   "metadata": {},
   "outputs": [],
   "source": [
    "learning_rate = 0.01\n",
    "epochs = 200\n",
    "act_func = 'relu'\n",
    "n_folds = 3\n",
    "\n",
    "nn_arch = [[1], [20], [20,50,70], [100, 100, 100], [75,50,25]]\n",
    "\n",
    "new_result = run_k_fold_cross_validation(X, T, n_folds, nn_arch, epochs, learning_rate, act_func)"
   ]
  },
  {
   "cell_type": "code",
   "execution_count": null,
   "metadata": {},
   "outputs": [],
   "source": [
    "new_result"
   ]
  }
 ],
 "metadata": {
  "kernelspec": {
   "display_name": "Python 3",
   "language": "python",
   "name": "python3"
  },
  "language_info": {
   "codemirror_mode": {
    "name": "ipython",
    "version": 3
   },
   "file_extension": ".py",
   "mimetype": "text/x-python",
   "name": "python",
   "nbconvert_exporter": "python",
   "pygments_lexer": "ipython3",
   "version": "3.8.10"
  },
  "toc": {
   "base_numbering": 1,
   "nav_menu": {},
   "number_sections": true,
   "sideBar": true,
   "skip_h1_title": false,
   "title_cell": "Table of Contents",
   "title_sidebar": "Contents",
   "toc_cell": false,
   "toc_position": {},
   "toc_section_display": true,
   "toc_window_display": true
  }
 },
 "nbformat": 4,
 "nbformat_minor": 4
}
